{
 "cells": [
  {
   "cell_type": "markdown",
   "id": "81f23c13",
   "metadata": {
    "papermill": {
     "duration": 0.014794,
     "end_time": "2025-01-24T04:12:49.062841",
     "exception": false,
     "start_time": "2025-01-24T04:12:49.048047",
     "status": "completed"
    },
    "tags": []
   },
   "source": [
    "# Import Libraries"
   ]
  },
  {
   "cell_type": "code",
   "execution_count": 2,
   "id": "148fe79b",
   "metadata": {
    "execution": {
     "iopub.execute_input": "2025-01-24T04:12:59.827090Z",
     "iopub.status.busy": "2025-01-24T04:12:59.826661Z",
     "iopub.status.idle": "2025-01-24T04:13:05.472338Z",
     "shell.execute_reply": "2025-01-24T04:13:05.470984Z"
    },
    "papermill": {
     "duration": 5.66236,
     "end_time": "2025-01-24T04:13:05.474296",
     "exception": false,
     "start_time": "2025-01-24T04:12:59.811936",
     "status": "completed"
    },
    "tags": []
   },
   "outputs": [
    {
     "name": "stderr",
     "output_type": "stream",
     "text": [
      "[nltk_data] Downloading package vader_lexicon to\n",
      "[nltk_data]     C:\\Users\\ASUS\\AppData\\Roaming\\nltk_data...\n",
      "[nltk_data]   Package vader_lexicon is already up-to-date!\n",
      "[nltk_data] Downloading package punkt to\n",
      "[nltk_data]     C:\\Users\\ASUS\\AppData\\Roaming\\nltk_data...\n",
      "[nltk_data]   Package punkt is already up-to-date!\n",
      "[nltk_data] Downloading package stopwords to\n",
      "[nltk_data]     C:\\Users\\ASUS\\AppData\\Roaming\\nltk_data...\n",
      "[nltk_data]   Package stopwords is already up-to-date!\n"
     ]
    }
   ],
   "source": [
    "import pandas as pd\n",
    "import numpy as np\n",
    "import matplotlib.pyplot as plt\n",
    "import seaborn as sns\n",
    "from colorama import Fore, init\n",
    "import plotly.express as px\n",
    "\n",
    "import string\n",
    "import re\n",
    "import nltk\n",
    "from nltk.corpus import stopwords\n",
    "from nltk.tokenize import word_tokenize\n",
    "from nltk.stem import PorterStemmer\n",
    "from nltk.sentiment import SentimentIntensityAnalyzer\n",
    "from nltk import tokenize\n",
    "from nltk.tokenize import sent_tokenize\n",
    "from nltk.tokenize import word_tokenize\n",
    "from tqdm.notebook import tqdm\n",
    "from collections import Counter\n",
    "from wordcloud import WordCloud\n",
    "\n",
    "\n",
    "\n",
    "\n",
    "nltk.download('vader_lexicon')\n",
    "nltk.download('punkt')\n",
    "nltk.download('stopwords')\n",
    "\n",
    "import warnings\n",
    "warnings.filterwarnings('ignore')"
   ]
  },
  {
   "cell_type": "markdown",
   "id": "60499b4b",
   "metadata": {
    "papermill": {
     "duration": 0.013704,
     "end_time": "2025-01-24T04:13:05.501387",
     "exception": false,
     "start_time": "2025-01-24T04:13:05.487683",
     "status": "completed"
    },
    "tags": []
   },
   "source": [
    "# Load Data"
   ]
  },
  {
   "cell_type": "code",
   "execution_count": 3,
   "id": "3fd91472",
   "metadata": {
    "execution": {
     "iopub.execute_input": "2025-01-24T04:13:05.530073Z",
     "iopub.status.busy": "2025-01-24T04:13:05.529363Z",
     "iopub.status.idle": "2025-01-24T04:13:05.561872Z",
     "shell.execute_reply": "2025-01-24T04:13:05.560801Z"
    },
    "papermill": {
     "duration": 0.048754,
     "end_time": "2025-01-24T04:13:05.563757",
     "exception": false,
     "start_time": "2025-01-24T04:13:05.515003",
     "status": "completed"
    },
    "tags": []
   },
   "outputs": [],
   "source": [
    "df = pd.read_csv(\"..\\data\\sentimentdataset.csv\")"
   ]
  },
  {
   "cell_type": "code",
   "execution_count": 5,
   "id": "519a0aa9",
   "metadata": {
    "execution": {
     "iopub.execute_input": "2025-01-24T04:13:05.591985Z",
     "iopub.status.busy": "2025-01-24T04:13:05.591634Z",
     "iopub.status.idle": "2025-01-24T04:13:05.621887Z",
     "shell.execute_reply": "2025-01-24T04:13:05.620813Z"
    },
    "papermill": {
     "duration": 0.046485,
     "end_time": "2025-01-24T04:13:05.623865",
     "exception": false,
     "start_time": "2025-01-24T04:13:05.577380",
     "status": "completed"
    },
    "tags": []
   },
   "outputs": [
    {
     "data": {
      "text/html": [
       "<div>\n",
       "<style scoped>\n",
       "    .dataframe tbody tr th:only-of-type {\n",
       "        vertical-align: middle;\n",
       "    }\n",
       "\n",
       "    .dataframe tbody tr th {\n",
       "        vertical-align: top;\n",
       "    }\n",
       "\n",
       "    .dataframe thead th {\n",
       "        text-align: right;\n",
       "    }\n",
       "</style>\n",
       "<table border=\"1\" class=\"dataframe\">\n",
       "  <thead>\n",
       "    <tr style=\"text-align: right;\">\n",
       "      <th></th>\n",
       "      <th>Unnamed: 0.1</th>\n",
       "      <th>Unnamed: 0</th>\n",
       "      <th>Text</th>\n",
       "      <th>Sentiment</th>\n",
       "      <th>Timestamp</th>\n",
       "      <th>User</th>\n",
       "      <th>Platform</th>\n",
       "      <th>Hashtags</th>\n",
       "      <th>Retweets</th>\n",
       "      <th>Likes</th>\n",
       "      <th>Country</th>\n",
       "      <th>Year</th>\n",
       "      <th>Month</th>\n",
       "      <th>Day</th>\n",
       "      <th>Hour</th>\n",
       "    </tr>\n",
       "  </thead>\n",
       "  <tbody>\n",
       "    <tr>\n",
       "      <th>0</th>\n",
       "      <td>0</td>\n",
       "      <td>0</td>\n",
       "      <td>Enjoying a beautiful day at the park!        ...</td>\n",
       "      <td>Positive</td>\n",
       "      <td>2023-01-15 12:30:00</td>\n",
       "      <td>User123</td>\n",
       "      <td>Twitter</td>\n",
       "      <td>#Nature #Park</td>\n",
       "      <td>15.0</td>\n",
       "      <td>30.0</td>\n",
       "      <td>USA</td>\n",
       "      <td>2023</td>\n",
       "      <td>1</td>\n",
       "      <td>15</td>\n",
       "      <td>12</td>\n",
       "    </tr>\n",
       "    <tr>\n",
       "      <th>1</th>\n",
       "      <td>1</td>\n",
       "      <td>1</td>\n",
       "      <td>Traffic was terrible this morning.           ...</td>\n",
       "      <td>Negative</td>\n",
       "      <td>2023-01-15 08:45:00</td>\n",
       "      <td>CommuterX</td>\n",
       "      <td>Twitter</td>\n",
       "      <td>#Traffic #Morning</td>\n",
       "      <td>5.0</td>\n",
       "      <td>10.0</td>\n",
       "      <td>Canada</td>\n",
       "      <td>2023</td>\n",
       "      <td>1</td>\n",
       "      <td>15</td>\n",
       "      <td>8</td>\n",
       "    </tr>\n",
       "    <tr>\n",
       "      <th>2</th>\n",
       "      <td>2</td>\n",
       "      <td>2</td>\n",
       "      <td>Just finished an amazing workout! 💪          ...</td>\n",
       "      <td>Positive</td>\n",
       "      <td>2023-01-15 15:45:00</td>\n",
       "      <td>FitnessFan</td>\n",
       "      <td>Instagram</td>\n",
       "      <td>#Fitness #Workout</td>\n",
       "      <td>20.0</td>\n",
       "      <td>40.0</td>\n",
       "      <td>USA</td>\n",
       "      <td>2023</td>\n",
       "      <td>1</td>\n",
       "      <td>15</td>\n",
       "      <td>15</td>\n",
       "    </tr>\n",
       "    <tr>\n",
       "      <th>3</th>\n",
       "      <td>3</td>\n",
       "      <td>3</td>\n",
       "      <td>Excited about the upcoming weekend getaway!  ...</td>\n",
       "      <td>Positive</td>\n",
       "      <td>2023-01-15 18:20:00</td>\n",
       "      <td>AdventureX</td>\n",
       "      <td>Facebook</td>\n",
       "      <td>#Travel #Adventure</td>\n",
       "      <td>8.0</td>\n",
       "      <td>15.0</td>\n",
       "      <td>UK</td>\n",
       "      <td>2023</td>\n",
       "      <td>1</td>\n",
       "      <td>15</td>\n",
       "      <td>18</td>\n",
       "    </tr>\n",
       "    <tr>\n",
       "      <th>4</th>\n",
       "      <td>4</td>\n",
       "      <td>4</td>\n",
       "      <td>Trying out a new recipe for dinner tonight.  ...</td>\n",
       "      <td>Neutral</td>\n",
       "      <td>2023-01-15 19:55:00</td>\n",
       "      <td>ChefCook</td>\n",
       "      <td>Instagram</td>\n",
       "      <td>#Cooking #Food</td>\n",
       "      <td>12.0</td>\n",
       "      <td>25.0</td>\n",
       "      <td>Australia</td>\n",
       "      <td>2023</td>\n",
       "      <td>1</td>\n",
       "      <td>15</td>\n",
       "      <td>19</td>\n",
       "    </tr>\n",
       "  </tbody>\n",
       "</table>\n",
       "</div>"
      ],
      "text/plain": [
       "   Unnamed: 0.1  Unnamed: 0  \\\n",
       "0             0           0   \n",
       "1             1           1   \n",
       "2             2           2   \n",
       "3             3           3   \n",
       "4             4           4   \n",
       "\n",
       "                                                Text    Sentiment  \\\n",
       "0   Enjoying a beautiful day at the park!        ...   Positive     \n",
       "1   Traffic was terrible this morning.           ...   Negative     \n",
       "2   Just finished an amazing workout! 💪          ...   Positive     \n",
       "3   Excited about the upcoming weekend getaway!  ...   Positive     \n",
       "4   Trying out a new recipe for dinner tonight.  ...   Neutral      \n",
       "\n",
       "             Timestamp            User     Platform  \\\n",
       "0  2023-01-15 12:30:00   User123          Twitter     \n",
       "1  2023-01-15 08:45:00   CommuterX        Twitter     \n",
       "2  2023-01-15 15:45:00   FitnessFan      Instagram    \n",
       "3  2023-01-15 18:20:00   AdventureX       Facebook    \n",
       "4  2023-01-15 19:55:00   ChefCook        Instagram    \n",
       "\n",
       "                                     Hashtags  Retweets  Likes       Country  \\\n",
       "0   #Nature #Park                                  15.0   30.0     USA         \n",
       "1   #Traffic #Morning                               5.0   10.0     Canada      \n",
       "2   #Fitness #Workout                              20.0   40.0   USA           \n",
       "3   #Travel #Adventure                              8.0   15.0     UK          \n",
       "4   #Cooking #Food                                 12.0   25.0    Australia    \n",
       "\n",
       "   Year  Month  Day  Hour  \n",
       "0  2023      1   15    12  \n",
       "1  2023      1   15     8  \n",
       "2  2023      1   15    15  \n",
       "3  2023      1   15    18  \n",
       "4  2023      1   15    19  "
      ]
     },
     "execution_count": 5,
     "metadata": {},
     "output_type": "execute_result"
    }
   ],
   "source": [
    "df.head()"
   ]
  },
  {
   "cell_type": "code",
   "execution_count": 6,
   "id": "b8a3c8f3",
   "metadata": {
    "execution": {
     "iopub.execute_input": "2025-01-24T04:13:05.654159Z",
     "iopub.status.busy": "2025-01-24T04:13:05.653740Z",
     "iopub.status.idle": "2025-01-24T04:13:05.780840Z",
     "shell.execute_reply": "2025-01-24T04:13:05.779650Z"
    },
    "papermill": {
     "duration": 0.144444,
     "end_time": "2025-01-24T04:13:05.783193",
     "exception": false,
     "start_time": "2025-01-24T04:13:05.638749",
     "status": "completed"
    },
    "tags": []
   },
   "outputs": [
    {
     "data": {
      "text/html": [
       "<style type=\"text/css\">\n",
       "#T_4c3fb_row0_col2, #T_4c3fb_row0_col3, #T_4c3fb_row1_col2, #T_4c3fb_row1_col3, #T_4c3fb_row2_col2, #T_4c3fb_row2_col3, #T_4c3fb_row3_col2, #T_4c3fb_row3_col3, #T_4c3fb_row4_col2, #T_4c3fb_row4_col3, #T_4c3fb_row5_col2, #T_4c3fb_row5_col3, #T_4c3fb_row6_col2, #T_4c3fb_row6_col3, #T_4c3fb_row7_col2, #T_4c3fb_row7_col3, #T_4c3fb_row8_col2, #T_4c3fb_row8_col3, #T_4c3fb_row9_col2, #T_4c3fb_row9_col3, #T_4c3fb_row10_col2, #T_4c3fb_row10_col3, #T_4c3fb_row11_col2, #T_4c3fb_row11_col3, #T_4c3fb_row12_col2, #T_4c3fb_row12_col3, #T_4c3fb_row13_col2, #T_4c3fb_row13_col3, #T_4c3fb_row14_col2, #T_4c3fb_row14_col3 {\n",
       "  background-color: #8dd3c7;\n",
       "  color: #000000;\n",
       "}\n",
       "</style>\n",
       "<table id=\"T_4c3fb\">\n",
       "  <thead>\n",
       "    <tr>\n",
       "      <th class=\"blank level0\" >&nbsp;</th>\n",
       "      <th id=\"T_4c3fb_level0_col0\" class=\"col_heading level0 col0\" >features</th>\n",
       "      <th id=\"T_4c3fb_level0_col1\" class=\"col_heading level0 col1\" >dtypes</th>\n",
       "      <th id=\"T_4c3fb_level0_col2\" class=\"col_heading level0 col2\" >NaN count</th>\n",
       "      <th id=\"T_4c3fb_level0_col3\" class=\"col_heading level0 col3\" >NaN percentage</th>\n",
       "    </tr>\n",
       "  </thead>\n",
       "  <tbody>\n",
       "    <tr>\n",
       "      <th id=\"T_4c3fb_level0_row0\" class=\"row_heading level0 row0\" >0</th>\n",
       "      <td id=\"T_4c3fb_row0_col0\" class=\"data row0 col0\" >Unnamed: 0.1</td>\n",
       "      <td id=\"T_4c3fb_row0_col1\" class=\"data row0 col1\" >int64</td>\n",
       "      <td id=\"T_4c3fb_row0_col2\" class=\"data row0 col2\" >0</td>\n",
       "      <td id=\"T_4c3fb_row0_col3\" class=\"data row0 col3\" >0.000000</td>\n",
       "    </tr>\n",
       "    <tr>\n",
       "      <th id=\"T_4c3fb_level0_row1\" class=\"row_heading level0 row1\" >1</th>\n",
       "      <td id=\"T_4c3fb_row1_col0\" class=\"data row1 col0\" >Unnamed: 0</td>\n",
       "      <td id=\"T_4c3fb_row1_col1\" class=\"data row1 col1\" >int64</td>\n",
       "      <td id=\"T_4c3fb_row1_col2\" class=\"data row1 col2\" >0</td>\n",
       "      <td id=\"T_4c3fb_row1_col3\" class=\"data row1 col3\" >0.000000</td>\n",
       "    </tr>\n",
       "    <tr>\n",
       "      <th id=\"T_4c3fb_level0_row2\" class=\"row_heading level0 row2\" >2</th>\n",
       "      <td id=\"T_4c3fb_row2_col0\" class=\"data row2 col0\" >Text</td>\n",
       "      <td id=\"T_4c3fb_row2_col1\" class=\"data row2 col1\" >object</td>\n",
       "      <td id=\"T_4c3fb_row2_col2\" class=\"data row2 col2\" >0</td>\n",
       "      <td id=\"T_4c3fb_row2_col3\" class=\"data row2 col3\" >0.000000</td>\n",
       "    </tr>\n",
       "    <tr>\n",
       "      <th id=\"T_4c3fb_level0_row3\" class=\"row_heading level0 row3\" >3</th>\n",
       "      <td id=\"T_4c3fb_row3_col0\" class=\"data row3 col0\" >Sentiment</td>\n",
       "      <td id=\"T_4c3fb_row3_col1\" class=\"data row3 col1\" >object</td>\n",
       "      <td id=\"T_4c3fb_row3_col2\" class=\"data row3 col2\" >0</td>\n",
       "      <td id=\"T_4c3fb_row3_col3\" class=\"data row3 col3\" >0.000000</td>\n",
       "    </tr>\n",
       "    <tr>\n",
       "      <th id=\"T_4c3fb_level0_row4\" class=\"row_heading level0 row4\" >4</th>\n",
       "      <td id=\"T_4c3fb_row4_col0\" class=\"data row4 col0\" >Timestamp</td>\n",
       "      <td id=\"T_4c3fb_row4_col1\" class=\"data row4 col1\" >object</td>\n",
       "      <td id=\"T_4c3fb_row4_col2\" class=\"data row4 col2\" >0</td>\n",
       "      <td id=\"T_4c3fb_row4_col3\" class=\"data row4 col3\" >0.000000</td>\n",
       "    </tr>\n",
       "    <tr>\n",
       "      <th id=\"T_4c3fb_level0_row5\" class=\"row_heading level0 row5\" >5</th>\n",
       "      <td id=\"T_4c3fb_row5_col0\" class=\"data row5 col0\" >User</td>\n",
       "      <td id=\"T_4c3fb_row5_col1\" class=\"data row5 col1\" >object</td>\n",
       "      <td id=\"T_4c3fb_row5_col2\" class=\"data row5 col2\" >0</td>\n",
       "      <td id=\"T_4c3fb_row5_col3\" class=\"data row5 col3\" >0.000000</td>\n",
       "    </tr>\n",
       "    <tr>\n",
       "      <th id=\"T_4c3fb_level0_row6\" class=\"row_heading level0 row6\" >6</th>\n",
       "      <td id=\"T_4c3fb_row6_col0\" class=\"data row6 col0\" >Platform</td>\n",
       "      <td id=\"T_4c3fb_row6_col1\" class=\"data row6 col1\" >object</td>\n",
       "      <td id=\"T_4c3fb_row6_col2\" class=\"data row6 col2\" >0</td>\n",
       "      <td id=\"T_4c3fb_row6_col3\" class=\"data row6 col3\" >0.000000</td>\n",
       "    </tr>\n",
       "    <tr>\n",
       "      <th id=\"T_4c3fb_level0_row7\" class=\"row_heading level0 row7\" >7</th>\n",
       "      <td id=\"T_4c3fb_row7_col0\" class=\"data row7 col0\" >Hashtags</td>\n",
       "      <td id=\"T_4c3fb_row7_col1\" class=\"data row7 col1\" >object</td>\n",
       "      <td id=\"T_4c3fb_row7_col2\" class=\"data row7 col2\" >0</td>\n",
       "      <td id=\"T_4c3fb_row7_col3\" class=\"data row7 col3\" >0.000000</td>\n",
       "    </tr>\n",
       "    <tr>\n",
       "      <th id=\"T_4c3fb_level0_row8\" class=\"row_heading level0 row8\" >8</th>\n",
       "      <td id=\"T_4c3fb_row8_col0\" class=\"data row8 col0\" >Retweets</td>\n",
       "      <td id=\"T_4c3fb_row8_col1\" class=\"data row8 col1\" >float64</td>\n",
       "      <td id=\"T_4c3fb_row8_col2\" class=\"data row8 col2\" >0</td>\n",
       "      <td id=\"T_4c3fb_row8_col3\" class=\"data row8 col3\" >0.000000</td>\n",
       "    </tr>\n",
       "    <tr>\n",
       "      <th id=\"T_4c3fb_level0_row9\" class=\"row_heading level0 row9\" >9</th>\n",
       "      <td id=\"T_4c3fb_row9_col0\" class=\"data row9 col0\" >Likes</td>\n",
       "      <td id=\"T_4c3fb_row9_col1\" class=\"data row9 col1\" >float64</td>\n",
       "      <td id=\"T_4c3fb_row9_col2\" class=\"data row9 col2\" >0</td>\n",
       "      <td id=\"T_4c3fb_row9_col3\" class=\"data row9 col3\" >0.000000</td>\n",
       "    </tr>\n",
       "    <tr>\n",
       "      <th id=\"T_4c3fb_level0_row10\" class=\"row_heading level0 row10\" >10</th>\n",
       "      <td id=\"T_4c3fb_row10_col0\" class=\"data row10 col0\" >Country</td>\n",
       "      <td id=\"T_4c3fb_row10_col1\" class=\"data row10 col1\" >object</td>\n",
       "      <td id=\"T_4c3fb_row10_col2\" class=\"data row10 col2\" >0</td>\n",
       "      <td id=\"T_4c3fb_row10_col3\" class=\"data row10 col3\" >0.000000</td>\n",
       "    </tr>\n",
       "    <tr>\n",
       "      <th id=\"T_4c3fb_level0_row11\" class=\"row_heading level0 row11\" >11</th>\n",
       "      <td id=\"T_4c3fb_row11_col0\" class=\"data row11 col0\" >Year</td>\n",
       "      <td id=\"T_4c3fb_row11_col1\" class=\"data row11 col1\" >int64</td>\n",
       "      <td id=\"T_4c3fb_row11_col2\" class=\"data row11 col2\" >0</td>\n",
       "      <td id=\"T_4c3fb_row11_col3\" class=\"data row11 col3\" >0.000000</td>\n",
       "    </tr>\n",
       "    <tr>\n",
       "      <th id=\"T_4c3fb_level0_row12\" class=\"row_heading level0 row12\" >12</th>\n",
       "      <td id=\"T_4c3fb_row12_col0\" class=\"data row12 col0\" >Month</td>\n",
       "      <td id=\"T_4c3fb_row12_col1\" class=\"data row12 col1\" >int64</td>\n",
       "      <td id=\"T_4c3fb_row12_col2\" class=\"data row12 col2\" >0</td>\n",
       "      <td id=\"T_4c3fb_row12_col3\" class=\"data row12 col3\" >0.000000</td>\n",
       "    </tr>\n",
       "    <tr>\n",
       "      <th id=\"T_4c3fb_level0_row13\" class=\"row_heading level0 row13\" >13</th>\n",
       "      <td id=\"T_4c3fb_row13_col0\" class=\"data row13 col0\" >Day</td>\n",
       "      <td id=\"T_4c3fb_row13_col1\" class=\"data row13 col1\" >int64</td>\n",
       "      <td id=\"T_4c3fb_row13_col2\" class=\"data row13 col2\" >0</td>\n",
       "      <td id=\"T_4c3fb_row13_col3\" class=\"data row13 col3\" >0.000000</td>\n",
       "    </tr>\n",
       "    <tr>\n",
       "      <th id=\"T_4c3fb_level0_row14\" class=\"row_heading level0 row14\" >14</th>\n",
       "      <td id=\"T_4c3fb_row14_col0\" class=\"data row14 col0\" >Hour</td>\n",
       "      <td id=\"T_4c3fb_row14_col1\" class=\"data row14 col1\" >int64</td>\n",
       "      <td id=\"T_4c3fb_row14_col2\" class=\"data row14 col2\" >0</td>\n",
       "      <td id=\"T_4c3fb_row14_col3\" class=\"data row14 col3\" >0.000000</td>\n",
       "    </tr>\n",
       "  </tbody>\n",
       "</table>\n"
      ],
      "text/plain": [
       "<pandas.io.formats.style.Styler at 0x1ebe5d40bb0>"
      ]
     },
     "execution_count": 6,
     "metadata": {},
     "output_type": "execute_result"
    }
   ],
   "source": [
    "def null_count():\n",
    "    return pd.DataFrame({'features': df.columns,\n",
    "                'dtypes': df.dtypes.values,\n",
    "                'NaN count': df.isnull().sum().values,\n",
    "                'NaN percentage': df.isnull().sum().values/df.shape[0]}).style.background_gradient(cmap='Set3',low=0.1,high=0.01)\n",
    "null_count()"
   ]
  },
  {
   "cell_type": "code",
   "execution_count": 7,
   "id": "a6249912",
   "metadata": {
    "execution": {
     "iopub.execute_input": "2025-01-24T04:13:05.816436Z",
     "iopub.status.busy": "2025-01-24T04:13:05.815786Z",
     "iopub.status.idle": "2025-01-24T04:13:05.827087Z",
     "shell.execute_reply": "2025-01-24T04:13:05.826046Z"
    },
    "papermill": {
     "duration": 0.030695,
     "end_time": "2025-01-24T04:13:05.828767",
     "exception": false,
     "start_time": "2025-01-24T04:13:05.798072",
     "status": "completed"
    },
    "tags": []
   },
   "outputs": [
    {
     "data": {
      "text/plain": [
       "np.int64(0)"
      ]
     },
     "execution_count": 7,
     "metadata": {},
     "output_type": "execute_result"
    }
   ],
   "source": [
    "df.duplicated().sum()"
   ]
  },
  {
   "cell_type": "code",
   "execution_count": 8,
   "id": "800d8adc",
   "metadata": {
    "execution": {
     "iopub.execute_input": "2025-01-24T04:13:05.858450Z",
     "iopub.status.busy": "2025-01-24T04:13:05.858107Z",
     "iopub.status.idle": "2025-01-24T04:13:05.863832Z",
     "shell.execute_reply": "2025-01-24T04:13:05.862904Z"
    },
    "papermill": {
     "duration": 0.02252,
     "end_time": "2025-01-24T04:13:05.865456",
     "exception": false,
     "start_time": "2025-01-24T04:13:05.842936",
     "status": "completed"
    },
    "tags": []
   },
   "outputs": [
    {
     "data": {
      "text/plain": [
       "Index(['Unnamed: 0.1', 'Unnamed: 0', 'Text', 'Sentiment', 'Timestamp', 'User',\n",
       "       'Platform', 'Hashtags', 'Retweets', 'Likes', 'Country', 'Year', 'Month',\n",
       "       'Day', 'Hour'],\n",
       "      dtype='object')"
      ]
     },
     "execution_count": 8,
     "metadata": {},
     "output_type": "execute_result"
    }
   ],
   "source": [
    "df.columns"
   ]
  },
  {
   "cell_type": "code",
   "execution_count": 9,
   "id": "f06d712b",
   "metadata": {
    "execution": {
     "iopub.execute_input": "2025-01-24T04:13:05.896323Z",
     "iopub.status.busy": "2025-01-24T04:13:05.895930Z",
     "iopub.status.idle": "2025-01-24T04:13:05.906534Z",
     "shell.execute_reply": "2025-01-24T04:13:05.905072Z"
    },
    "papermill": {
     "duration": 0.027823,
     "end_time": "2025-01-24T04:13:05.908221",
     "exception": false,
     "start_time": "2025-01-24T04:13:05.880398",
     "status": "completed"
    },
    "tags": []
   },
   "outputs": [
    {
     "name": "stdout",
     "output_type": "stream",
     "text": [
      "Unnamed: 0.1: 732 distinct values\n",
      "Unnamed: 0: 732 distinct values\n",
      "Text: 707 distinct values\n",
      "Sentiment: 279 distinct values\n",
      "Timestamp: 683 distinct values\n",
      "User: 685 distinct values\n",
      "Platform: 4 distinct values\n",
      "Hashtags: 697 distinct values\n",
      "Retweets: 26 distinct values\n",
      "Likes: 38 distinct values\n",
      "Country: 115 distinct values\n",
      "Year: 14 distinct values\n",
      "Month: 12 distinct values\n",
      "Day: 31 distinct values\n",
      "Hour: 22 distinct values\n"
     ]
    }
   ],
   "source": [
    "for column in df.columns:\n",
    "    num_distinct_values = len(df[column].unique())\n",
    "    print(f\"{column}: {num_distinct_values} distinct values\")"
   ]
  },
  {
   "cell_type": "code",
   "execution_count": 10,
   "id": "d97f4f2c",
   "metadata": {
    "execution": {
     "iopub.execute_input": "2025-01-24T04:13:05.938994Z",
     "iopub.status.busy": "2025-01-24T04:13:05.938591Z",
     "iopub.status.idle": "2025-01-24T04:13:05.947348Z",
     "shell.execute_reply": "2025-01-24T04:13:05.946425Z"
    },
    "papermill": {
     "duration": 0.026138,
     "end_time": "2025-01-24T04:13:05.948835",
     "exception": false,
     "start_time": "2025-01-24T04:13:05.922697",
     "status": "completed"
    },
    "tags": []
   },
   "outputs": [
    {
     "data": {
      "text/plain": [
       "Platform\n",
       "Instagram     258\n",
       "Facebook      231\n",
       "Twitter       128\n",
       "Twitter       115\n",
       "Name: count, dtype: int64"
      ]
     },
     "execution_count": 10,
     "metadata": {},
     "output_type": "execute_result"
    }
   ],
   "source": [
    "df['Platform'].value_counts()"
   ]
  },
  {
   "cell_type": "code",
   "execution_count": 11,
   "id": "179b507a",
   "metadata": {
    "execution": {
     "iopub.execute_input": "2025-01-24T04:13:05.979181Z",
     "iopub.status.busy": "2025-01-24T04:13:05.978759Z",
     "iopub.status.idle": "2025-01-24T04:13:05.984279Z",
     "shell.execute_reply": "2025-01-24T04:13:05.983292Z"
    },
    "papermill": {
     "duration": 0.022468,
     "end_time": "2025-01-24T04:13:05.985927",
     "exception": false,
     "start_time": "2025-01-24T04:13:05.963459",
     "status": "completed"
    },
    "tags": []
   },
   "outputs": [],
   "source": [
    "df['Platform'] = df['Platform'].str.strip()"
   ]
  },
  {
   "cell_type": "code",
   "execution_count": 12,
   "id": "2106fd4b",
   "metadata": {
    "execution": {
     "iopub.execute_input": "2025-01-24T04:13:06.016195Z",
     "iopub.status.busy": "2025-01-24T04:13:06.015798Z",
     "iopub.status.idle": "2025-01-24T04:13:06.024413Z",
     "shell.execute_reply": "2025-01-24T04:13:06.023253Z"
    },
    "papermill": {
     "duration": 0.025532,
     "end_time": "2025-01-24T04:13:06.025985",
     "exception": false,
     "start_time": "2025-01-24T04:13:06.000453",
     "status": "completed"
    },
    "tags": []
   },
   "outputs": [
    {
     "data": {
      "text/plain": [
       "Country\n",
       "USA           59\n",
       "USA           55\n",
       "UK            49\n",
       "Canada        44\n",
       "Australia     41\n",
       "              ..\n",
       "Ireland        1\n",
       "Scotland       1\n",
       "Kenya          1\n",
       "Jamaica        1\n",
       "Thailand       1\n",
       "Name: count, Length: 115, dtype: int64"
      ]
     },
     "execution_count": 12,
     "metadata": {},
     "output_type": "execute_result"
    }
   ],
   "source": [
    "df['Country'].value_counts()"
   ]
  },
  {
   "cell_type": "code",
   "execution_count": 13,
   "id": "608abccf",
   "metadata": {
    "execution": {
     "iopub.execute_input": "2025-01-24T04:13:06.056783Z",
     "iopub.status.busy": "2025-01-24T04:13:06.056444Z",
     "iopub.status.idle": "2025-01-24T04:13:06.061935Z",
     "shell.execute_reply": "2025-01-24T04:13:06.060934Z"
    },
    "papermill": {
     "duration": 0.022857,
     "end_time": "2025-01-24T04:13:06.063726",
     "exception": false,
     "start_time": "2025-01-24T04:13:06.040869",
     "status": "completed"
    },
    "tags": []
   },
   "outputs": [],
   "source": [
    "df['Country'] = df['Country'].str.strip()"
   ]
  },
  {
   "cell_type": "code",
   "execution_count": 14,
   "id": "4af8dec1",
   "metadata": {
    "execution": {
     "iopub.execute_input": "2025-01-24T04:13:06.094604Z",
     "iopub.status.busy": "2025-01-24T04:13:06.094198Z",
     "iopub.status.idle": "2025-01-24T04:13:06.106596Z",
     "shell.execute_reply": "2025-01-24T04:13:06.105492Z"
    },
    "papermill": {
     "duration": 0.030299,
     "end_time": "2025-01-24T04:13:06.108536",
     "exception": false,
     "start_time": "2025-01-24T04:13:06.078237",
     "status": "completed"
    },
    "tags": []
   },
   "outputs": [],
   "source": [
    "df['Timestamp'] = pd.to_datetime(df['Timestamp'])\n",
    "\n",
    "df['Day_of_Week'] = df['Timestamp'].dt.day_name()"
   ]
  },
  {
   "cell_type": "code",
   "execution_count": 15,
   "id": "5f792213",
   "metadata": {
    "execution": {
     "iopub.execute_input": "2025-01-24T04:13:06.139275Z",
     "iopub.status.busy": "2025-01-24T04:13:06.138857Z",
     "iopub.status.idle": "2025-01-24T04:13:06.146615Z",
     "shell.execute_reply": "2025-01-24T04:13:06.145495Z"
    },
    "papermill": {
     "duration": 0.024963,
     "end_time": "2025-01-24T04:13:06.148423",
     "exception": false,
     "start_time": "2025-01-24T04:13:06.123460",
     "status": "completed"
    },
    "tags": []
   },
   "outputs": [],
   "source": [
    "month_mapping = {\n",
    "    1: 'Januari',\n",
    "    2: 'Februari',\n",
    "    3: 'Maret',\n",
    "    4: 'April',\n",
    "    5: 'Mei',\n",
    "    6: 'Juni',\n",
    "    7: 'Juli',\n",
    "    8: 'Agustus',\n",
    "    9: 'September',\n",
    "    10: 'Oktober',\n",
    "    11: 'November',\n",
    "    12: 'Desember'\n",
    "}\n",
    "\n",
    "df['Month'] = df['Month'].map(month_mapping)\n",
    "\n",
    "df['Month'] = df['Month'].astype('object')"
   ]
  },
  {
   "cell_type": "code",
   "execution_count": 17,
   "id": "11114f73",
   "metadata": {},
   "outputs": [
    {
     "name": "stderr",
     "output_type": "stream",
     "text": [
      "[nltk_data] Downloading package punkt_tab to\n",
      "[nltk_data]     C:\\Users\\ASUS\\AppData\\Roaming\\nltk_data...\n",
      "[nltk_data]   Unzipping tokenizers\\punkt_tab.zip.\n"
     ]
    },
    {
     "data": {
      "text/plain": [
       "True"
      ]
     },
     "execution_count": 17,
     "metadata": {},
     "output_type": "execute_result"
    }
   ],
   "source": [
    "nltk.download('punkt_tab')"
   ]
  },
  {
   "cell_type": "code",
   "execution_count": 18,
   "id": "cb4cfffa",
   "metadata": {
    "execution": {
     "iopub.execute_input": "2025-01-24T04:13:06.179164Z",
     "iopub.status.busy": "2025-01-24T04:13:06.178731Z",
     "iopub.status.idle": "2025-01-24T04:13:06.231452Z",
     "shell.execute_reply": "2025-01-24T04:13:06.230234Z"
    },
    "papermill": {
     "duration": 0.070267,
     "end_time": "2025-01-24T04:13:06.233471",
     "exception": false,
     "start_time": "2025-01-24T04:13:06.163204",
     "status": "completed"
    },
    "tags": []
   },
   "outputs": [],
   "source": [
    "stemmer = PorterStemmer()\n",
    "stop_words = set(stopwords.words('english'))\n",
    "\n",
    "def clean(text):\n",
    "    text = str(text).lower()\n",
    "    text = re.sub('.∗?.*?', '', text)\n",
    "    text = re.sub('https?://\\S+|www\\.\\S+', '', text)\n",
    "    text = re.sub(r'\\s+', ' ', text.strip())\n",
    "    text = re.sub('<.*?>+', '', text)\n",
    "    text = re.sub('[%s]' % re.escape(string.punctuation), '', text)\n",
    "    text = re.sub('\\n', '', text)\n",
    "    text = re.sub('\\w*\\d\\w*', '', text)\n",
    "    text = re.sub(r'[^\\x00-\\x7F]+', '', text)  \n",
    "    text = \" \".join(text.split())\n",
    "    tokens = word_tokenize(text)\n",
    "    \n",
    "    cleaned_tokens = [stemmer.stem(token) for token in tokens if token.lower() not in stop_words]\n",
    "   \n",
    "    cleaned_text = ' '.join(cleaned_tokens)\n",
    "    \n",
    "    return cleaned_text\n",
    "\n",
    "df[\"Clean_Text\"] = df[\"Text\"].apply(clean)"
   ]
  },
  {
   "cell_type": "code",
   "execution_count": 19,
   "id": "b9633c76",
   "metadata": {
    "execution": {
     "iopub.execute_input": "2025-01-24T04:13:06.264272Z",
     "iopub.status.busy": "2025-01-24T04:13:06.263859Z",
     "iopub.status.idle": "2025-01-24T04:13:06.297489Z",
     "shell.execute_reply": "2025-01-24T04:13:06.296370Z"
    },
    "papermill": {
     "duration": 0.051217,
     "end_time": "2025-01-24T04:13:06.299664",
     "exception": false,
     "start_time": "2025-01-24T04:13:06.248447",
     "status": "completed"
    },
    "tags": []
   },
   "outputs": [
    {
     "name": "stdout",
     "output_type": "stream",
     "text": [
      "Total unique values for Platform: 3\n",
      "\u001b[31mInstagram: 258\u001b[39m\n",
      "\u001b[32mTwitter: 243\u001b[39m\n",
      "\u001b[33mFacebook: 231\u001b[39m\n",
      "\n",
      "==============================\n",
      "\n",
      "Total unique values for Country: 33\n",
      "\u001b[31mUSA: 188\u001b[39m\n",
      "\u001b[32mUK: 143\u001b[39m\n",
      "\u001b[33mCanada: 135\u001b[39m\n",
      "\u001b[34mAustralia: 75\u001b[39m\n",
      "\u001b[35mIndia: 70\u001b[39m\n",
      "\u001b[36mBrazil: 17\u001b[39m\n",
      "\u001b[37mFrance: 16\u001b[39m\n",
      "\u001b[90mJapan: 15\u001b[39m\n",
      "\u001b[91mGermany: 14\u001b[39m\n",
      "\u001b[92mItaly: 11\u001b[39m\n",
      "\u001b[31mSpain: 6\u001b[39m\n",
      "\u001b[32mSouth Africa: 6\u001b[39m\n",
      "\u001b[33mGreece: 5\u001b[39m\n",
      "\u001b[34mNetherlands: 4\u001b[39m\n",
      "\u001b[35mSwitzerland: 3\u001b[39m\n",
      "\u001b[36mSweden: 2\u001b[39m\n",
      "\u001b[37mPortugal: 2\u001b[39m\n",
      "\u001b[90mAustria: 2\u001b[39m\n",
      "\u001b[91mBelgium: 2\u001b[39m\n",
      "\u001b[92mDenmark: 2\u001b[39m\n",
      "\u001b[31mCzech Republic: 2\u001b[39m\n",
      "\u001b[32mJordan: 1\u001b[39m\n",
      "\u001b[33mPeru: 1\u001b[39m\n",
      "\u001b[34mMaldives: 1\u001b[39m\n",
      "\u001b[35mChina: 1\u001b[39m\n",
      "\u001b[36mCambodia: 1\u001b[39m\n",
      "\u001b[37mNorway: 1\u001b[39m\n",
      "\u001b[90mColombia: 1\u001b[39m\n",
      "\u001b[91mIreland: 1\u001b[39m\n",
      "\u001b[92mJamaica: 1\u001b[39m\n",
      "\u001b[31mKenya: 1\u001b[39m\n",
      "\u001b[32mScotland: 1\u001b[39m\n",
      "\u001b[33mThailand: 1\u001b[39m\n",
      "\n",
      "==============================\n",
      "\n",
      "Total unique values for Year: 14\n",
      "\u001b[31m2023: 289\u001b[39m\n",
      "\u001b[32m2019: 73\u001b[39m\n",
      "\u001b[33m2020: 69\u001b[39m\n",
      "\u001b[34m2021: 63\u001b[39m\n",
      "\u001b[35m2022: 63\u001b[39m\n",
      "\u001b[36m2018: 56\u001b[39m\n",
      "\u001b[37m2017: 43\u001b[39m\n",
      "\u001b[90m2016: 38\u001b[39m\n",
      "\u001b[91m2015: 19\u001b[39m\n",
      "\u001b[92m2011: 4\u001b[39m\n",
      "\u001b[31m2013: 4\u001b[39m\n",
      "\u001b[32m2012: 4\u001b[39m\n",
      "\u001b[33m2014: 4\u001b[39m\n",
      "\u001b[34m2010: 3\u001b[39m\n",
      "\n",
      "==============================\n",
      "\n",
      "Total unique values for Month: 12\n",
      "\u001b[31mFebruari: 85\u001b[39m\n",
      "\u001b[32mJanuari: 82\u001b[39m\n",
      "\u001b[33mAgustus: 78\u001b[39m\n",
      "\u001b[34mSeptember: 77\u001b[39m\n",
      "\u001b[35mJuni: 71\u001b[39m\n",
      "\u001b[36mJuli: 62\u001b[39m\n",
      "\u001b[37mApril: 51\u001b[39m\n",
      "\u001b[90mNovember: 49\u001b[39m\n",
      "\u001b[91mOktober: 48\u001b[39m\n",
      "\u001b[92mMei: 46\u001b[39m\n",
      "\u001b[31mMaret: 44\u001b[39m\n",
      "\u001b[32mDesember: 39\u001b[39m\n",
      "\n",
      "==============================\n",
      "\n",
      "Total unique values for Day_of_Week: 7\n",
      "\u001b[31mSunday: 119\u001b[39m\n",
      "\u001b[32mSaturday: 115\u001b[39m\n",
      "\u001b[33mTuesday: 110\u001b[39m\n",
      "\u001b[34mFriday: 108\u001b[39m\n",
      "\u001b[35mMonday: 97\u001b[39m\n",
      "\u001b[36mThursday: 95\u001b[39m\n",
      "\u001b[37mWednesday: 88\u001b[39m\n",
      "\n",
      "==============================\n",
      "\n"
     ]
    }
   ],
   "source": [
    "specified_columns = ['Platform','Country', 'Year','Month','Day_of_Week']\n",
    "\n",
    "for col in specified_columns:\n",
    "    total_unique_values = df[col].nunique()\n",
    "    print(f'Total unique values for {col}: {total_unique_values}')\n",
    "\n",
    "    top_values = df[col].value_counts()\n",
    "\n",
    "    colors = [Fore.RED, Fore.GREEN, Fore.YELLOW, Fore.BLUE, Fore.MAGENTA, Fore.CYAN, Fore.WHITE, Fore.LIGHTBLACK_EX, Fore.LIGHTRED_EX, Fore.LIGHTGREEN_EX]\n",
    "\n",
    "    for i, (value, count) in enumerate(top_values.items()):\n",
    "        color = colors[i % len(colors)]\n",
    "        print(f'{color}{value}: {count}{Fore.RESET}')\n",
    "\n",
    "    print('\\n' + '=' * 30 + '\\n')  "
   ]
  },
  {
   "cell_type": "markdown",
   "id": "7c66ef32",
   "metadata": {
    "papermill": {
     "duration": 0.014275,
     "end_time": "2025-01-24T04:13:06.328983",
     "exception": false,
     "start_time": "2025-01-24T04:13:06.314708",
     "status": "completed"
    },
    "tags": []
   },
   "source": [
    "# Exploratory Data Analysis (EDA)"
   ]
  },
  {
   "cell_type": "code",
   "execution_count": 20,
   "id": "36767629",
   "metadata": {
    "execution": {
     "iopub.execute_input": "2025-01-24T04:13:06.359802Z",
     "iopub.status.busy": "2025-01-24T04:13:06.359448Z",
     "iopub.status.idle": "2025-01-24T04:13:06.365238Z",
     "shell.execute_reply": "2025-01-24T04:13:06.364061Z"
    },
    "papermill": {
     "duration": 0.02319,
     "end_time": "2025-01-24T04:13:06.367113",
     "exception": false,
     "start_time": "2025-01-24T04:13:06.343923",
     "status": "completed"
    },
    "tags": []
   },
   "outputs": [],
   "source": [
    "df1 = df.copy()"
   ]
  },
  {
   "cell_type": "markdown",
   "id": "76c96af4",
   "metadata": {
    "papermill": {
     "duration": 0.014473,
     "end_time": "2025-01-24T04:13:06.396258",
     "exception": false,
     "start_time": "2025-01-24T04:13:06.381785",
     "status": "completed"
    },
    "tags": []
   },
   "source": [
    "# Sentiment Analysis"
   ]
  },
  {
   "cell_type": "code",
   "execution_count": 24,
   "id": "4cab1325",
   "metadata": {
    "execution": {
     "iopub.execute_input": "2025-01-24T04:13:06.427059Z",
     "iopub.status.busy": "2025-01-24T04:13:06.426541Z",
     "iopub.status.idle": "2025-01-24T04:13:06.456787Z",
     "shell.execute_reply": "2025-01-24T04:13:06.455374Z"
    },
    "papermill": {
     "duration": 0.047725,
     "end_time": "2025-01-24T04:13:06.458502",
     "exception": false,
     "start_time": "2025-01-24T04:13:06.410777",
     "status": "completed"
    },
    "tags": []
   },
   "outputs": [
    {
     "name": "stdout",
     "output_type": "stream",
     "text": [
      "  Clean_Text  Vader_Score Sentiment\n",
      "0                     0.0   neutral\n",
      "1                     0.0   neutral\n",
      "2                     0.0   neutral\n",
      "3                     0.0   neutral\n",
      "4                     0.0   neutral\n"
     ]
    }
   ],
   "source": [
    "analyzer = SentimentIntensityAnalyzer()\n",
    "\n",
    "df1['Vader_Score'] = df1['Clean_Text'].apply(lambda text: analyzer.polarity_scores(text)['compound'])\n",
    "\n",
    "df1['Sentiment'] = df1['Vader_Score'].apply(lambda score: 'positive' if score >= 0.05 else ('negative' if score <= -0.05 else 'neutral'))\n",
    "\n",
    "print(df1[['Clean_Text', 'Vader_Score', 'Sentiment']].head())"
   ]
  },
  {
   "cell_type": "code",
   "execution_count": 25,
   "id": "062dbc42",
   "metadata": {
    "execution": {
     "iopub.execute_input": "2025-01-24T04:13:06.489568Z",
     "iopub.status.busy": "2025-01-24T04:13:06.489212Z",
     "iopub.status.idle": "2025-01-24T04:13:06.795479Z",
     "shell.execute_reply": "2025-01-24T04:13:06.794296Z"
    },
    "papermill": {
     "duration": 0.32406,
     "end_time": "2025-01-24T04:13:06.797411",
     "exception": false,
     "start_time": "2025-01-24T04:13:06.473351",
     "status": "completed"
    },
    "tags": []
   },
   "outputs": [
    {
     "data": {
      "image/png": "[encoded data removed]",
      "text/plain": [
       "<Figure size 640x480 with 1 Axes>"
      ]
     },
     "metadata": {},
     "output_type": "display_data"
    }
   ],
   "source": [
    "import pandas as pd\n",
    "import matplotlib.pyplot as plt\n",
    "\n",
    "# Example DataFrame\n",
    "data = {'Sentiment': ['Positive', 'Negative', 'Neutral', 'Positive', 'Negative']}\n",
    "df1 = pd.DataFrame(data)\n",
    "\n",
    "# Pie chart parameters\n",
    "colors = ['#66b3ff', '#99ff99', '#ffcc99']\n",
    "explode = (0.1, 0, 0)  # Adjust length based on unique Sentiments\n",
    "\n",
    "# Grouping data\n",
    "sentiment_counts = df1['Sentiment'].value_counts()\n",
    "\n",
    "# Plot\n",
    "fig, ax = plt.subplots()\n",
    "wedges, texts, autotexts = ax.pie(\n",
    "    x=sentiment_counts.values,  # Pass values\n",
    "    labels=sentiment_counts.index,  # Pass labels\n",
    "    autopct=lambda p: f'{p:.2f}%\\n({int(p*sum(sentiment_counts)/100)})',\n",
    "    wedgeprops=dict(width=0.7),\n",
    "    textprops=dict(size=10, color=\"r\"),\n",
    "    pctdistance=0.7,\n",
    "    colors=colors[:len(sentiment_counts)],  # Ensure matching colors\n",
    "    explode=explode[:len(sentiment_counts)],  # Ensure matching explode\n",
    "    shadow=True\n",
    ")\n",
    "\n",
    "# Add center circle\n",
    "center_circle = plt.Circle((0, 0), 0.6, color='white', fc='white', linewidth=1.25)\n",
    "fig.gca().add_artist(center_circle)\n",
    "\n",
    "# Add central text\n",
    "ax.text(0, 0, 'Sentiment\\nDistribution', ha='center', va='center', fontsize=14, fontweight='bold', color='#333333')\n",
    "\n",
    "# Add legend\n",
    "ax.legend(sentiment_counts.index, title=\"Sentiment\", loc=\"center left\", bbox_to_anchor=(1, 0, 0.5, 1))\n",
    "\n",
    "ax.axis('equal')  # Equal aspect ratio\n",
    "plt.show()\n"
   ]
  },
  {
   "cell_type": "markdown",
   "id": "06240c43",
   "metadata": {
    "papermill": {
     "duration": 0.015367,
     "end_time": "2025-01-24T04:13:06.831031",
     "exception": false,
     "start_time": "2025-01-24T04:13:06.815664",
     "status": "completed"
    },
    "tags": []
   },
   "source": [
    "**Yearly Analysis**"
   ]
  },
  {
   "cell_type": "code",
   "execution_count": 26,
   "id": "2ef45111",
   "metadata": {
    "execution": {
     "iopub.execute_input": "2025-01-24T04:13:06.863618Z",
     "iopub.status.busy": "2025-01-24T04:13:06.863235Z",
     "iopub.status.idle": "2025-01-24T04:13:07.109496Z",
     "shell.execute_reply": "2025-01-24T04:13:07.108420Z"
    },
    "papermill": {
     "duration": 0.264538,
     "end_time": "2025-01-24T04:13:07.111120",
     "exception": false,
     "start_time": "2025-01-24T04:13:06.846582",
     "status": "completed"
    },
    "tags": []
   },
   "outputs": [
    {
     "data": {
      "image/png": "[encoded data removed]",
      "text/plain": [
       "<Figure size 1200x600 with 1 Axes>"
      ]
     },
     "metadata": {},
     "output_type": "display_data"
    }
   ],
   "source": [
    "import matplotlib.pyplot as plt\n",
    "import seaborn as sns\n",
    "import pandas as pd\n",
    "\n",
    "# Example DataFrame (replace with your actual data)\n",
    "data = {\n",
    "    'Year': [2020, 2020, 2021, 2021, 2022],\n",
    "    'Sentiment': ['Positive', 'Negative', 'Neutral', 'Positive', 'Negative']\n",
    "}\n",
    "df1 = pd.DataFrame(data)\n",
    "\n",
    "# Ensure Year and Sentiment columns are correctly formatted\n",
    "df1['Year'] = df1['Year'].astype(str)  # Convert Year to string\n",
    "df1['Sentiment'] = df1['Sentiment'].astype(str)  # Convert Sentiment to string\n",
    "\n",
    "# Plotting\n",
    "plt.figure(figsize=(12, 6))\n",
    "sns.countplot(x='Year', hue='Sentiment', data=df1, palette='Paired')\n",
    "plt.title('Relationship between Years and Sentiment')\n",
    "plt.xlabel('Year')\n",
    "plt.ylabel('Count')\n",
    "plt.xticks(rotation=45)\n",
    "plt.show()\n"
   ]
  },
  {
   "cell_type": "markdown",
   "id": "77440ce2",
   "metadata": {
    "papermill": {
     "duration": 0.015785,
     "end_time": "2025-01-24T04:13:07.143352",
     "exception": false,
     "start_time": "2025-01-24T04:13:07.127567",
     "status": "completed"
    },
    "tags": []
   },
   "source": [
    "**Month**"
   ]
  },
  {
   "cell_type": "code",
   "execution_count": 27,
   "id": "3aac96cd",
   "metadata": {
    "execution": {
     "iopub.execute_input": "2025-01-24T04:13:07.177254Z",
     "iopub.status.busy": "2025-01-24T04:13:07.176826Z",
     "iopub.status.idle": "2025-01-24T04:13:07.532707Z",
     "shell.execute_reply": "2025-01-24T04:13:07.531454Z"
    },
    "papermill": {
     "duration": 0.375241,
     "end_time": "2025-01-24T04:13:07.534687",
     "exception": false,
     "start_time": "2025-01-24T04:13:07.159446",
     "status": "completed"
    },
    "tags": []
   },
   "outputs": [
    {
     "data": {
      "image/png": "[encoded data removed]",
      "text/plain": [
       "<Figure size 1200x600 with 1 Axes>"
      ]
     },
     "metadata": {},
     "output_type": "display_data"
    }
   ],
   "source": [
    "import pandas as pd\n",
    "import matplotlib.pyplot as plt\n",
    "import seaborn as sns\n",
    "\n",
    "# Example DataFrame (replace with your actual data)\n",
    "data = {\n",
    "    'Date': ['2023-01-15', '2023-02-20', '2023-03-05', '2023-01-10', '2023-03-25'],\n",
    "    'Sentiment': ['Positive', 'Negative', 'Neutral', 'Positive', 'Negative']\n",
    "}\n",
    "df1 = pd.DataFrame(data)\n",
    "\n",
    "# Ensure the Month column exists\n",
    "df1['Month'] = pd.to_datetime(df1['Date']).dt.month  # Extract month number\n",
    "df1['Month'] = df1['Month'].map({\n",
    "    1: 'January', 2: 'February', 3: 'March', 4: 'April',\n",
    "    5: 'May', 6: 'June', 7: 'July', 8: 'August',\n",
    "    9: 'September', 10: 'October', 11: 'November', 12: 'December'\n",
    "})  # Map to month names\n",
    "\n",
    "# Plotting\n",
    "plt.figure(figsize=(12, 6))\n",
    "sns.countplot(x='Month', hue='Sentiment', data=df1, palette='Paired', order=[\n",
    "    'January', 'February', 'March', 'April', 'May', 'June',\n",
    "    'July', 'August', 'September', 'October', 'November', 'December'\n",
    "])\n",
    "plt.title('Relationship between Month and Sentiment')\n",
    "plt.xlabel('Month')\n",
    "plt.ylabel('Count')\n",
    "plt.xticks(rotation=45)\n",
    "plt.show()\n"
   ]
  },
  {
   "cell_type": "markdown",
   "id": "642885d7",
   "metadata": {
    "papermill": {
     "duration": 0.017172,
     "end_time": "2025-01-24T04:13:07.569678",
     "exception": false,
     "start_time": "2025-01-24T04:13:07.552506",
     "status": "completed"
    },
    "tags": []
   },
   "source": [
    "**Day Of Weeek**"
   ]
  },
  {
   "cell_type": "code",
   "execution_count": 28,
   "id": "d2419431",
   "metadata": {
    "execution": {
     "iopub.execute_input": "2025-01-24T04:13:07.607586Z",
     "iopub.status.busy": "2025-01-24T04:13:07.607202Z",
     "iopub.status.idle": "2025-01-24T04:13:08.016884Z",
     "shell.execute_reply": "2025-01-24T04:13:08.015681Z"
    },
    "papermill": {
     "duration": 0.429988,
     "end_time": "2025-01-24T04:13:08.018706",
     "exception": false,
     "start_time": "2025-01-24T04:13:07.588718",
     "status": "completed"
    },
    "tags": []
   },
   "outputs": [
    {
     "data": {
      "image/png": "[encoded data removed]",
      "text/plain": [
       "<Figure size 1200x600 with 1 Axes>"
      ]
     },
     "metadata": {},
     "output_type": "display_data"
    }
   ],
   "source": [
    "import pandas as pd\n",
    "import matplotlib.pyplot as plt\n",
    "import seaborn as sns\n",
    "\n",
    "# Example DataFrame (replace with your actual data)\n",
    "data = {\n",
    "    'Date': ['2023-01-15', '2023-02-20', '2023-03-05', '2023-01-10', '2023-03-25'],\n",
    "    'Sentiment': ['Positive', 'Negative', 'Neutral', 'Positive', 'Negative']\n",
    "}\n",
    "df1 = pd.DataFrame(data)\n",
    "\n",
    "# Ensure the Day_of_Week column exists\n",
    "df1['Day_of_Week'] = pd.to_datetime(df1['Date']).dt.day_name()  # Extract day name\n",
    "\n",
    "# Plotting\n",
    "plt.figure(figsize=(12, 6))\n",
    "sns.countplot(\n",
    "    x='Day_of_Week',\n",
    "    hue='Sentiment',\n",
    "    data=df1,\n",
    "    palette='Paired',\n",
    "    order=['Monday', 'Tuesday', 'Wednesday', 'Thursday', 'Friday', 'Saturday', 'Sunday']  # Ensure correct order\n",
    ")\n",
    "plt.title('Relationship between Day of Week and Sentiment')\n",
    "plt.xlabel('Day of Week')\n",
    "plt.ylabel('Count')\n",
    "plt.xticks(rotation=45)\n",
    "plt.show()\n"
   ]
  },
  {
   "cell_type": "markdown",
   "id": "73e39e79",
   "metadata": {
    "papermill": {
     "duration": 0.017693,
     "end_time": "2025-01-24T04:13:08.055456",
     "exception": false,
     "start_time": "2025-01-24T04:13:08.037763",
     "status": "completed"
    },
    "tags": []
   },
   "source": [
    "**Platform**"
   ]
  },
  {
   "cell_type": "code",
   "execution_count": 29,
   "id": "b136a2fb",
   "metadata": {
    "execution": {
     "iopub.execute_input": "2025-01-24T04:13:08.094071Z",
     "iopub.status.busy": "2025-01-24T04:13:08.093679Z",
     "iopub.status.idle": "2025-01-24T04:13:08.349912Z",
     "shell.execute_reply": "2025-01-24T04:13:08.348675Z"
    },
    "papermill": {
     "duration": 0.277825,
     "end_time": "2025-01-24T04:13:08.351762",
     "exception": false,
     "start_time": "2025-01-24T04:13:08.073937",
     "status": "completed"
    },
    "tags": []
   },
   "outputs": [
    {
     "data": {
      "image/png": "[encoded data removed]",
      "text/plain": [
       "<Figure size 1200x600 with 1 Axes>"
      ]
     },
     "metadata": {},
     "output_type": "display_data"
    }
   ],
   "source": [
    "import pandas as pd\n",
    "import matplotlib.pyplot as plt\n",
    "import seaborn as sns\n",
    "\n",
    "# Example DataFrame (replace with your actual data)\n",
    "data = {\n",
    "    'Platform': ['Twitter', 'Facebook', 'Instagram', 'Twitter', 'Facebook'],\n",
    "    'Sentiment': ['Positive', 'Negative', 'Neutral', 'Positive', 'Negative']\n",
    "}\n",
    "df1 = pd.DataFrame(data)\n",
    "\n",
    "# Plotting\n",
    "plt.figure(figsize=(12, 6))\n",
    "sns.countplot(\n",
    "    x='Platform',\n",
    "    hue='Sentiment',\n",
    "    data=df1,\n",
    "    palette='Paired',\n",
    "    order=df1['Platform'].unique()  # Adjust if you want a specific order\n",
    ")\n",
    "plt.title('Relationship between Platform and Sentiment')\n",
    "plt.xlabel('Platform')\n",
    "plt.ylabel('Count')\n",
    "plt.xticks(rotation=45)\n",
    "plt.show()\n"
   ]
  },
  {
   "cell_type": "markdown",
   "id": "f1be5c69",
   "metadata": {
    "papermill": {
     "duration": 0.02036,
     "end_time": "2025-01-24T04:13:08.393416",
     "exception": false,
     "start_time": "2025-01-24T04:13:08.373056",
     "status": "completed"
    },
    "tags": []
   },
   "source": [
    "**Country**"
   ]
  },
  {
   "cell_type": "code",
   "execution_count": 30,
   "id": "3b8ff67a",
   "metadata": {
    "execution": {
     "iopub.execute_input": "2025-01-24T04:13:08.436259Z",
     "iopub.status.busy": "2025-01-24T04:13:08.435786Z",
     "iopub.status.idle": "2025-01-24T04:13:08.752490Z",
     "shell.execute_reply": "2025-01-24T04:13:08.751471Z"
    },
    "papermill": {
     "duration": 0.340551,
     "end_time": "2025-01-24T04:13:08.754720",
     "exception": false,
     "start_time": "2025-01-24T04:13:08.414169",
     "status": "completed"
    },
    "tags": []
   },
   "outputs": [
    {
     "data": {
      "image/png": "[encoded data removed]",
      "text/plain": [
       "<Figure size 1200x600 with 1 Axes>"
      ]
     },
     "metadata": {},
     "output_type": "display_data"
    }
   ],
   "source": [
    "import pandas as pd\n",
    "import matplotlib.pyplot as plt\n",
    "import seaborn as sns\n",
    "\n",
    "# Example DataFrame (replace with your actual data)\n",
    "data = {\n",
    "    'Country': ['USA', 'India', 'UK', 'USA', 'India', 'France', 'Canada', 'Germany', 'Italy', 'Japan'],\n",
    "    'Sentiment': ['Positive', 'Negative', 'Neutral', 'Positive', 'Negative', 'Neutral', 'Positive', 'Negative', 'Neutral', 'Positive']\n",
    "}\n",
    "df1 = pd.DataFrame(data)\n",
    "\n",
    "# Extract the top 10 countries\n",
    "top_10_countries = df1['Country'].value_counts().head(10).index\n",
    "\n",
    "# Filter data for only the top 10 countries\n",
    "df_top_10_countries = df1[df1['Country'].isin(top_10_countries)]\n",
    "\n",
    "# Plotting\n",
    "plt.figure(figsize=(12, 6))\n",
    "sns.countplot(\n",
    "    x='Country',\n",
    "    hue='Sentiment',\n",
    "    data=df_top_10_countries,\n",
    "    palette='Paired',\n",
    "    order=top_10_countries  # Ensure correct order\n",
    ")\n",
    "plt.title('Relationship between Country and Sentiment (Top 10 Countries)')\n",
    "plt.xlabel('Country')\n",
    "plt.ylabel('Count')\n",
    "plt.xticks(rotation=45)\n",
    "plt.show()\n"
   ]
  },
  {
   "cell_type": "markdown",
   "id": "25b0a731",
   "metadata": {
    "papermill": {
     "duration": 0.02158,
     "end_time": "2025-01-24T04:13:08.798723",
     "exception": false,
     "start_time": "2025-01-24T04:13:08.777143",
     "status": "completed"
    },
    "tags": []
   },
   "source": [
    "**Common Words**"
   ]
  },
  {
   "cell_type": "code",
   "execution_count": 31,
   "id": "3532b8b3",
   "metadata": {
    "execution": {
     "iopub.execute_input": "2025-01-24T04:13:08.853929Z",
     "iopub.status.busy": "2025-01-24T04:13:08.853526Z",
     "iopub.status.idle": "2025-01-24T04:13:08.873877Z",
     "shell.execute_reply": "2025-01-24T04:13:08.872446Z"
    },
    "papermill": {
     "duration": 0.051721,
     "end_time": "2025-01-24T04:13:08.875472",
     "exception": false,
     "start_time": "2025-01-24T04:13:08.823751",
     "status": "completed"
    },
    "tags": []
   },
   "outputs": [
    {
     "data": {
      "text/html": [
       "<style type=\"text/css\">\n",
       "#T_75f6e_row0_col1 {\n",
       "  background-color: #08306b;\n",
       "  color: #f1f1f1;\n",
       "}\n",
       "#T_75f6e_row1_col1, #T_75f6e_row2_col1, #T_75f6e_row3_col1, #T_75f6e_row4_col1, #T_75f6e_row5_col1 {\n",
       "  background-color: #6aaed6;\n",
       "  color: #f1f1f1;\n",
       "}\n",
       "#T_75f6e_row6_col1, #T_75f6e_row7_col1, #T_75f6e_row8_col1, #T_75f6e_row9_col1, #T_75f6e_row10_col1, #T_75f6e_row11_col1, #T_75f6e_row12_col1, #T_75f6e_row13_col1, #T_75f6e_row14_col1, #T_75f6e_row15_col1, #T_75f6e_row16_col1, #T_75f6e_row17_col1, #T_75f6e_row18_col1, #T_75f6e_row19_col1 {\n",
       "  background-color: #f7fbff;\n",
       "  color: #000000;\n",
       "}\n",
       "</style>\n",
       "<table id=\"T_75f6e\">\n",
       "  <thead>\n",
       "    <tr>\n",
       "      <th class=\"blank level0\" >&nbsp;</th>\n",
       "      <th id=\"T_75f6e_level0_col0\" class=\"col_heading level0 col0\" >Common_words</th>\n",
       "      <th id=\"T_75f6e_level0_col1\" class=\"col_heading level0 col1\" >count</th>\n",
       "    </tr>\n",
       "  </thead>\n",
       "  <tbody>\n",
       "    <tr>\n",
       "      <th id=\"T_75f6e_level0_row0\" class=\"row_heading level0 row0\" >0</th>\n",
       "      <td id=\"T_75f6e_row0_col0\" class=\"data row0 col0\" >text</td>\n",
       "      <td id=\"T_75f6e_row0_col1\" class=\"data row0 col1\" >3</td>\n",
       "    </tr>\n",
       "    <tr>\n",
       "      <th id=\"T_75f6e_level0_row1\" class=\"row_heading level0 row1\" >1</th>\n",
       "      <td id=\"T_75f6e_row1_col0\" class=\"data row1 col0\" >sample</td>\n",
       "      <td id=\"T_75f6e_row1_col1\" class=\"data row1 col1\" >2</td>\n",
       "    </tr>\n",
       "    <tr>\n",
       "      <th id=\"T_75f6e_level0_row2\" class=\"row_heading level0 row2\" >2</th>\n",
       "      <td id=\"T_75f6e_row2_col0\" class=\"data row2 col0\" >for</td>\n",
       "      <td id=\"T_75f6e_row2_col1\" class=\"data row2 col1\" >2</td>\n",
       "    </tr>\n",
       "    <tr>\n",
       "      <th id=\"T_75f6e_level0_row3\" class=\"row_heading level0 row3\" >3</th>\n",
       "      <td id=\"T_75f6e_row3_col0\" class=\"data row3 col0\" >testing</td>\n",
       "      <td id=\"T_75f6e_row3_col1\" class=\"data row3 col1\" >2</td>\n",
       "    </tr>\n",
       "    <tr>\n",
       "      <th id=\"T_75f6e_level0_row4\" class=\"row_heading level0 row4\" >4</th>\n",
       "      <td id=\"T_75f6e_row4_col0\" class=\"data row4 col0\" >word</td>\n",
       "      <td id=\"T_75f6e_row4_col1\" class=\"data row4 col1\" >2</td>\n",
       "    </tr>\n",
       "    <tr>\n",
       "      <th id=\"T_75f6e_level0_row5\" class=\"row_heading level0 row5\" >5</th>\n",
       "      <td id=\"T_75f6e_row5_col0\" class=\"data row5 col0\" >data</td>\n",
       "      <td id=\"T_75f6e_row5_col1\" class=\"data row5 col1\" >2</td>\n",
       "    </tr>\n",
       "    <tr>\n",
       "      <th id=\"T_75f6e_level0_row6\" class=\"row_heading level0 row6\" >6</th>\n",
       "      <td id=\"T_75f6e_row6_col0\" class=\"data row6 col0\" >This</td>\n",
       "      <td id=\"T_75f6e_row6_col1\" class=\"data row6 col1\" >1</td>\n",
       "    </tr>\n",
       "    <tr>\n",
       "      <th id=\"T_75f6e_level0_row7\" class=\"row_heading level0 row7\" >7</th>\n",
       "      <td id=\"T_75f6e_row7_col0\" class=\"data row7 col0\" >is</td>\n",
       "      <td id=\"T_75f6e_row7_col1\" class=\"data row7 col1\" >1</td>\n",
       "    </tr>\n",
       "    <tr>\n",
       "      <th id=\"T_75f6e_level0_row8\" class=\"row_heading level0 row8\" >8</th>\n",
       "      <td id=\"T_75f6e_row8_col0\" class=\"data row8 col0\" >a</td>\n",
       "      <td id=\"T_75f6e_row8_col1\" class=\"data row8 col1\" >1</td>\n",
       "    </tr>\n",
       "    <tr>\n",
       "      <th id=\"T_75f6e_level0_row9\" class=\"row_heading level0 row9\" >9</th>\n",
       "      <td id=\"T_75f6e_row9_col0\" class=\"data row9 col0\" >Testing</td>\n",
       "      <td id=\"T_75f6e_row9_col1\" class=\"data row9 col1\" >1</td>\n",
       "    </tr>\n",
       "    <tr>\n",
       "      <th id=\"T_75f6e_level0_row10\" class=\"row_heading level0 row10\" >10</th>\n",
       "      <td id=\"T_75f6e_row10_col0\" class=\"data row10 col0\" >frequency</td>\n",
       "      <td id=\"T_75f6e_row10_col1\" class=\"data row10 col1\" >1</td>\n",
       "    </tr>\n",
       "    <tr>\n",
       "      <th id=\"T_75f6e_level0_row11\" class=\"row_heading level0 row11\" >11</th>\n",
       "      <td id=\"T_75f6e_row11_col0\" class=\"data row11 col0\" >with</td>\n",
       "      <td id=\"T_75f6e_row11_col1\" class=\"data row11 col1\" >1</td>\n",
       "    </tr>\n",
       "    <tr>\n",
       "      <th id=\"T_75f6e_level0_row12\" class=\"row_heading level0 row12\" >12</th>\n",
       "      <td id=\"T_75f6e_row12_col0\" class=\"data row12 col0\" >Data</td>\n",
       "      <td id=\"T_75f6e_row12_col1\" class=\"data row12 col1\" >1</td>\n",
       "    </tr>\n",
       "    <tr>\n",
       "      <th id=\"T_75f6e_level0_row13\" class=\"row_heading level0 row13\" >13</th>\n",
       "      <td id=\"T_75f6e_row13_col0\" class=\"data row13 col0\" >analysis</td>\n",
       "      <td id=\"T_75f6e_row13_col1\" class=\"data row13 col1\" >1</td>\n",
       "    </tr>\n",
       "    <tr>\n",
       "      <th id=\"T_75f6e_level0_row14\" class=\"row_heading level0 row14\" >14</th>\n",
       "      <td id=\"T_75f6e_row14_col0\" class=\"data row14 col0\" >and</td>\n",
       "      <td id=\"T_75f6e_row14_col1\" class=\"data row14 col1\" >1</td>\n",
       "    </tr>\n",
       "    <tr>\n",
       "      <th id=\"T_75f6e_level0_row15\" class=\"row_heading level0 row15\" >15</th>\n",
       "      <td id=\"T_75f6e_row15_col0\" class=\"data row15 col0\" >mining</td>\n",
       "      <td id=\"T_75f6e_row15_col1\" class=\"data row15 col1\" >1</td>\n",
       "    </tr>\n",
       "    <tr>\n",
       "      <th id=\"T_75f6e_level0_row16\" class=\"row_heading level0 row16\" >16</th>\n",
       "      <td id=\"T_75f6e_row16_col0\" class=\"data row16 col0\" >are</td>\n",
       "      <td id=\"T_75f6e_row16_col1\" class=\"data row16 col1\" >1</td>\n",
       "    </tr>\n",
       "    <tr>\n",
       "      <th id=\"T_75f6e_level0_row17\" class=\"row_heading level0 row17\" >17</th>\n",
       "      <td id=\"T_75f6e_row17_col0\" class=\"data row17 col0\" >fun</td>\n",
       "      <td id=\"T_75f6e_row17_col1\" class=\"data row17 col1\" >1</td>\n",
       "    </tr>\n",
       "    <tr>\n",
       "      <th id=\"T_75f6e_level0_row18\" class=\"row_heading level0 row18\" >18</th>\n",
       "      <td id=\"T_75f6e_row18_col0\" class=\"data row18 col0\" >Sample</td>\n",
       "      <td id=\"T_75f6e_row18_col1\" class=\"data row18 col1\" >1</td>\n",
       "    </tr>\n",
       "    <tr>\n",
       "      <th id=\"T_75f6e_level0_row19\" class=\"row_heading level0 row19\" >19</th>\n",
       "      <td id=\"T_75f6e_row19_col0\" class=\"data row19 col0\" >count</td>\n",
       "      <td id=\"T_75f6e_row19_col1\" class=\"data row19 col1\" >1</td>\n",
       "    </tr>\n",
       "  </tbody>\n",
       "</table>\n"
      ],
      "text/plain": [
       "<pandas.io.formats.style.Styler at 0x1ebad193f70>"
      ]
     },
     "metadata": {},
     "output_type": "display_data"
    },
    {
     "name": "stdout",
     "output_type": "stream",
     "text": [
      "   Common_words  count\n",
      "0          text      3\n",
      "1        sample      2\n",
      "2           for      2\n",
      "3       testing      2\n",
      "4          word      2\n",
      "5          data      2\n",
      "6          This      1\n",
      "7            is      1\n",
      "8             a      1\n",
      "9       Testing      1\n",
      "10    frequency      1\n",
      "11         with      1\n",
      "12         Data      1\n",
      "13     analysis      1\n",
      "14          and      1\n",
      "15       mining      1\n",
      "16          are      1\n",
      "17          fun      1\n",
      "18       Sample      1\n",
      "19        count      1\n"
     ]
    }
   ],
   "source": [
    "import pandas as pd\n",
    "from collections import Counter\n",
    "\n",
    "# Example DataFrame (replace with your actual data)\n",
    "data = {\n",
    "    'Clean_Text': [\n",
    "        'This is a sample text for testing',\n",
    "        'Testing word frequency with sample data',\n",
    "        'Data analysis and text mining are fun',\n",
    "        'Sample text data for word count testing'\n",
    "    ]\n",
    "}\n",
    "df1 = pd.DataFrame(data)\n",
    "\n",
    "# Ensure no missing values in Clean_Text\n",
    "df1['Clean_Text'] = df1['Clean_Text'].fillna('')\n",
    "\n",
    "# Split text into words and count word frequency\n",
    "df1['temp_list'] = df1['Clean_Text'].apply(lambda x: str(x).split())\n",
    "top_words = Counter([item for sublist in df1['temp_list'] for item in sublist])\n",
    "\n",
    "# Convert to DataFrame\n",
    "top_words_df = pd.DataFrame(top_words.most_common(20), columns=['Common_words', 'count'])\n",
    "\n",
    "# Display with gradient (for Jupyter Notebook)\n",
    "display(top_words_df.style.background_gradient(cmap='Blues'))\n",
    "\n",
    "# For non-notebook environments, simply print\n",
    "print(top_words_df)\n"
   ]
  },
  {
   "cell_type": "code",
   "execution_count": 32,
   "id": "33031eab",
   "metadata": {
    "execution": {
     "iopub.execute_input": "2025-01-24T04:13:08.921446Z",
     "iopub.status.busy": "2025-01-24T04:13:08.921056Z",
     "iopub.status.idle": "2025-01-24T04:13:10.986276Z",
     "shell.execute_reply": "2025-01-24T04:13:10.984995Z"
    },
    "papermill": {
     "duration": 2.089975,
     "end_time": "2025-01-24T04:13:10.988106",
     "exception": false,
     "start_time": "2025-01-24T04:13:08.898131",
     "status": "completed"
    },
    "tags": []
   },
   "outputs": [
    {
     "data": {
      "application/vnd.plotly.v1+json": {
       "config": {
        "plotlyServerURL": "https://plot.ly"
       },
       "data": [
        {
         "hovertemplate": "Common_words=%{y}<br>count=%{x}<extra></extra>",
         "legendgroup": "text",
         "marker": {
          "color": "#636efa",
          "pattern": {
           "shape": ""
          }
         },
         "name": "text",
         "orientation": "h",
         "showlegend": true,
         "textposition": "auto",
         "type": "bar",
         "x": {
          "bdata": "Aw==",
          "dtype": "i1"
         },
         "xaxis": "x",
         "y": [
          "text"
         ],
         "yaxis": "y"
        },
        {
         "hovertemplate": "Common_words=%{y}<br>count=%{x}<extra></extra>",
         "legendgroup": "sample",
         "marker": {
          "color": "#EF553B",
          "pattern": {
           "shape": ""
          }
         },
         "name": "sample",
         "orientation": "h",
         "showlegend": true,
         "textposition": "auto",
         "type": "bar",
         "x": {
          "bdata": "Ag==",
          "dtype": "i1"
         },
         "xaxis": "x",
         "y": [
          "sample"
         ],
         "yaxis": "y"
        },
        {
         "hovertemplate": "Common_words=%{y}<br>count=%{x}<extra></extra>",
         "legendgroup": "for",
         "marker": {
          "color": "#00cc96",
          "pattern": {
           "shape": ""
          }
         },
         "name": "for",
         "orientation": "h",
         "showlegend": true,
         "textposition": "auto",
         "type": "bar",
         "x": {
          "bdata": "Ag==",
          "dtype": "i1"
         },
         "xaxis": "x",
         "y": [
          "for"
         ],
         "yaxis": "y"
        },
        {
         "hovertemplate": "Common_words=%{y}<br>count=%{x}<extra></extra>",
         "legendgroup": "testing",
         "marker": {
          "color": "#ab63fa",
          "pattern": {
           "shape": ""
          }
         },
         "name": "testing",
         "orientation": "h",
         "showlegend": true,
         "textposition": "auto",
         "type": "bar",
         "x": {
          "bdata": "Ag==",
          "dtype": "i1"
         },
         "xaxis": "x",
         "y": [
          "testing"
         ],
         "yaxis": "y"
        },
        {
         "hovertemplate": "Common_words=%{y}<br>count=%{x}<extra></extra>",
         "legendgroup": "word",
         "marker": {
          "color": "#FFA15A",
          "pattern": {
           "shape": ""
          }
         },
         "name": "word",
         "orientation": "h",
         "showlegend": true,
         "textposition": "auto",
         "type": "bar",
         "x": {
          "bdata": "Ag==",
          "dtype": "i1"
         },
         "xaxis": "x",
         "y": [
          "word"
         ],
         "yaxis": "y"
        },
        {
         "hovertemplate": "Common_words=%{y}<br>count=%{x}<extra></extra>",
         "legendgroup": "data",
         "marker": {
          "color": "#19d3f3",
          "pattern": {
           "shape": ""
          }
         },
         "name": "data",
         "orientation": "h",
         "showlegend": true,
         "textposition": "auto",
         "type": "bar",
         "x": {
          "bdata": "Ag==",
          "dtype": "i1"
         },
         "xaxis": "x",
         "y": [
          "data"
         ],
         "yaxis": "y"
        },
        {
         "hovertemplate": "Common_words=%{y}<br>count=%{x}<extra></extra>",
         "legendgroup": "This",
         "marker": {
          "color": "#FF6692",
          "pattern": {
           "shape": ""
          }
         },
         "name": "This",
         "orientation": "h",
         "showlegend": true,
         "textposition": "auto",
         "type": "bar",
         "x": {
          "bdata": "AQ==",
          "dtype": "i1"
         },
         "xaxis": "x",
         "y": [
          "This"
         ],
         "yaxis": "y"
        },
        {
         "hovertemplate": "Common_words=%{y}<br>count=%{x}<extra></extra>",
         "legendgroup": "is",
         "marker": {
          "color": "#B6E880",
          "pattern": {
           "shape": ""
          }
         },
         "name": "is",
         "orientation": "h",
         "showlegend": true,
         "textposition": "auto",
         "type": "bar",
         "x": {
          "bdata": "AQ==",
          "dtype": "i1"
         },
         "xaxis": "x",
         "y": [
          "is"
         ],
         "yaxis": "y"
        },
        {
         "hovertemplate": "Common_words=%{y}<br>count=%{x}<extra></extra>",
         "legendgroup": "a",
         "marker": {
          "color": "#FF97FF",
          "pattern": {
           "shape": ""
          }
         },
         "name": "a",
         "orientation": "h",
         "showlegend": true,
         "textposition": "auto",
         "type": "bar",
         "x": {
          "bdata": "AQ==",
          "dtype": "i1"
         },
         "xaxis": "x",
         "y": [
          "a"
         ],
         "yaxis": "y"
        },
        {
         "hovertemplate": "Common_words=%{y}<br>count=%{x}<extra></extra>",
         "legendgroup": "Testing",
         "marker": {
          "color": "#FECB52",
          "pattern": {
           "shape": ""
          }
         },
         "name": "Testing",
         "orientation": "h",
         "showlegend": true,
         "textposition": "auto",
         "type": "bar",
         "x": {
          "bdata": "AQ==",
          "dtype": "i1"
         },
         "xaxis": "x",
         "y": [
          "Testing"
         ],
         "yaxis": "y"
        },
        {
         "hovertemplate": "Common_words=%{y}<br>count=%{x}<extra></extra>",
         "legendgroup": "frequency",
         "marker": {
          "color": "#636efa",
          "pattern": {
           "shape": ""
          }
         },
         "name": "frequency",
         "orientation": "h",
         "showlegend": true,
         "textposition": "auto",
         "type": "bar",
         "x": {
          "bdata": "AQ==",
          "dtype": "i1"
         },
         "xaxis": "x",
         "y": [
          "frequency"
         ],
         "yaxis": "y"
        },
        {
         "hovertemplate": "Common_words=%{y}<br>count=%{x}<extra></extra>",
         "legendgroup": "with",
         "marker": {
          "color": "#EF553B",
          "pattern": {
           "shape": ""
          }
         },
         "name": "with",
         "orientation": "h",
         "showlegend": true,
         "textposition": "auto",
         "type": "bar",
         "x": {
          "bdata": "AQ==",
          "dtype": "i1"
         },
         "xaxis": "x",
         "y": [
          "with"
         ],
         "yaxis": "y"
        },
        {
         "hovertemplate": "Common_words=%{y}<br>count=%{x}<extra></extra>",
         "legendgroup": "Data",
         "marker": {
          "color": "#00cc96",
          "pattern": {
           "shape": ""
          }
         },
         "name": "Data",
         "orientation": "h",
         "showlegend": true,
         "textposition": "auto",
         "type": "bar",
         "x": {
          "bdata": "AQ==",
          "dtype": "i1"
         },
         "xaxis": "x",
         "y": [
          "Data"
         ],
         "yaxis": "y"
        },
        {
         "hovertemplate": "Common_words=%{y}<br>count=%{x}<extra></extra>",
         "legendgroup": "analysis",
         "marker": {
          "color": "#ab63fa",
          "pattern": {
           "shape": ""
          }
         },
         "name": "analysis",
         "orientation": "h",
         "showlegend": true,
         "textposition": "auto",
         "type": "bar",
         "x": {
          "bdata": "AQ==",
          "dtype": "i1"
         },
         "xaxis": "x",
         "y": [
          "analysis"
         ],
         "yaxis": "y"
        },
        {
         "hovertemplate": "Common_words=%{y}<br>count=%{x}<extra></extra>",
         "legendgroup": "and",
         "marker": {
          "color": "#FFA15A",
          "pattern": {
           "shape": ""
          }
         },
         "name": "and",
         "orientation": "h",
         "showlegend": true,
         "textposition": "auto",
         "type": "bar",
         "x": {
          "bdata": "AQ==",
          "dtype": "i1"
         },
         "xaxis": "x",
         "y": [
          "and"
         ],
         "yaxis": "y"
        },
        {
         "hovertemplate": "Common_words=%{y}<br>count=%{x}<extra></extra>",
         "legendgroup": "mining",
         "marker": {
          "color": "#19d3f3",
          "pattern": {
           "shape": ""
          }
         },
         "name": "mining",
         "orientation": "h",
         "showlegend": true,
         "textposition": "auto",
         "type": "bar",
         "x": {
          "bdata": "AQ==",
          "dtype": "i1"
         },
         "xaxis": "x",
         "y": [
          "mining"
         ],
         "yaxis": "y"
        },
        {
         "hovertemplate": "Common_words=%{y}<br>count=%{x}<extra></extra>",
         "legendgroup": "are",
         "marker": {
          "color": "#FF6692",
          "pattern": {
           "shape": ""
          }
         },
         "name": "are",
         "orientation": "h",
         "showlegend": true,
         "textposition": "auto",
         "type": "bar",
         "x": {
          "bdata": "AQ==",
          "dtype": "i1"
         },
         "xaxis": "x",
         "y": [
          "are"
         ],
         "yaxis": "y"
        },
        {
         "hovertemplate": "Common_words=%{y}<br>count=%{x}<extra></extra>",
         "legendgroup": "fun",
         "marker": {
          "color": "#B6E880",
          "pattern": {
           "shape": ""
          }
         },
         "name": "fun",
         "orientation": "h",
         "showlegend": true,
         "textposition": "auto",
         "type": "bar",
         "x": {
          "bdata": "AQ==",
          "dtype": "i1"
         },
         "xaxis": "x",
         "y": [
          "fun"
         ],
         "yaxis": "y"
        },
        {
         "hovertemplate": "Common_words=%{y}<br>count=%{x}<extra></extra>",
         "legendgroup": "Sample",
         "marker": {
          "color": "#FF97FF",
          "pattern": {
           "shape": ""
          }
         },
         "name": "Sample",
         "orientation": "h",
         "showlegend": true,
         "textposition": "auto",
         "type": "bar",
         "x": {
          "bdata": "AQ==",
          "dtype": "i1"
         },
         "xaxis": "x",
         "y": [
          "Sample"
         ],
         "yaxis": "y"
        },
        {
         "hovertemplate": "Common_words=%{y}<br>count=%{x}<extra></extra>",
         "legendgroup": "count",
         "marker": {
          "color": "#FECB52",
          "pattern": {
           "shape": ""
          }
         },
         "name": "count",
         "orientation": "h",
         "showlegend": true,
         "textposition": "auto",
         "type": "bar",
         "x": {
          "bdata": "AQ==",
          "dtype": "i1"
         },
         "xaxis": "x",
         "y": [
          "count"
         ],
         "yaxis": "y"
        }
       ],
       "layout": {
        "barmode": "relative",
        "height": 700,
        "legend": {
         "title": {
          "text": "Common_words"
         },
         "tracegroupgap": 0
        },
        "template": {
         "data": {
          "bar": [
           {
            "error_x": {
             "color": "#2a3f5f"
            },
            "error_y": {
             "color": "#2a3f5f"
            },
            "marker": {
             "line": {
              "color": "#E5ECF6",
              "width": 0.5
             },
             "pattern": {
              "fillmode": "overlay",
              "size": 10,
              "solidity": 0.2
             }
            },
            "type": "bar"
           }
          ],
          "barpolar": [
           {
            "marker": {
             "line": {
              "color": "#E5ECF6",
              "width": 0.5
             },
             "pattern": {
              "fillmode": "overlay",
              "size": 10,
              "solidity": 0.2
             }
            },
            "type": "barpolar"
           }
          ],
          "carpet": [
           {
            "aaxis": {
             "endlinecolor": "#2a3f5f",
             "gridcolor": "white",
             "linecolor": "white",
             "minorgridcolor": "white",
             "startlinecolor": "#2a3f5f"
            },
            "baxis": {
             "endlinecolor": "#2a3f5f",
             "gridcolor": "white",
             "linecolor": "white",
             "minorgridcolor": "white",
             "startlinecolor": "#2a3f5f"
            },
            "type": "carpet"
           }
          ],
          "choropleth": [
           {
            "colorbar": {
             "outlinewidth": 0,
             "ticks": ""
            },
            "type": "choropleth"
           }
          ],
          "contour": [
           {
            "colorbar": {
             "outlinewidth": 0,
             "ticks": ""
            },
            "colorscale": [
             [
              0,
              "#0d0887"
             ],
             [
              0.1111111111111111,
              "#46039f"
             ],
             [
              0.2222222222222222,
              "#7201a8"
             ],
             [
              0.3333333333333333,
              "#9c179e"
             ],
             [
              0.4444444444444444,
              "#bd3786"
             ],
             [
              0.5555555555555556,
              "#d8576b"
             ],
             [
              0.6666666666666666,
              "#ed7953"
             ],
             [
              0.7777777777777778,
              "#fb9f3a"
             ],
             [
              0.8888888888888888,
              "#fdca26"
             ],
             [
              1,
              "#f0f921"
             ]
            ],
            "type": "contour"
           }
          ],
          "contourcarpet": [
           {
            "colorbar": {
             "outlinewidth": 0,
             "ticks": ""
            },
            "type": "contourcarpet"
           }
          ],
          "heatmap": [
           {
            "colorbar": {
             "outlinewidth": 0,
             "ticks": ""
            },
            "colorscale": [
             [
              0,
              "#0d0887"
             ],
             [
              0.1111111111111111,
              "#46039f"
             ],
             [
              0.2222222222222222,
              "#7201a8"
             ],
             [
              0.3333333333333333,
              "#9c179e"
             ],
             [
              0.4444444444444444,
              "#bd3786"
             ],
             [
              0.5555555555555556,
              "#d8576b"
             ],
             [
              0.6666666666666666,
              "#ed7953"
             ],
             [
              0.7777777777777778,
              "#fb9f3a"
             ],
             [
              0.8888888888888888,
              "#fdca26"
             ],
             [
              1,
              "#f0f921"
             ]
            ],
            "type": "heatmap"
           }
          ],
          "histogram": [
           {
            "marker": {
             "pattern": {
              "fillmode": "overlay",
              "size": 10,
              "solidity": 0.2
             }
            },
            "type": "histogram"
           }
          ],
          "histogram2d": [
           {
            "colorbar": {
             "outlinewidth": 0,
             "ticks": ""
            },
            "colorscale": [
             [
              0,
              "#0d0887"
             ],
             [
              0.1111111111111111,
              "#46039f"
             ],
             [
              0.2222222222222222,
              "#7201a8"
             ],
             [
              0.3333333333333333,
              "#9c179e"
             ],
             [
              0.4444444444444444,
              "#bd3786"
             ],
             [
              0.5555555555555556,
              "#d8576b"
             ],
             [
              0.6666666666666666,
              "#ed7953"
             ],
             [
              0.7777777777777778,
              "#fb9f3a"
             ],
             [
              0.8888888888888888,
              "#fdca26"
             ],
             [
              1,
              "#f0f921"
             ]
            ],
            "type": "histogram2d"
           }
          ],
          "histogram2dcontour": [
           {
            "colorbar": {
             "outlinewidth": 0,
             "ticks": ""
            },
            "colorscale": [
             [
              0,
              "#0d0887"
             ],
             [
              0.1111111111111111,
              "#46039f"
             ],
             [
              0.2222222222222222,
              "#7201a8"
             ],
             [
              0.3333333333333333,
              "#9c179e"
             ],
             [
              0.4444444444444444,
              "#bd3786"
             ],
             [
              0.5555555555555556,
              "#d8576b"
             ],
             [
              0.6666666666666666,
              "#ed7953"
             ],
             [
              0.7777777777777778,
              "#fb9f3a"
             ],
             [
              0.8888888888888888,
              "#fdca26"
             ],
             [
              1,
              "#f0f921"
             ]
            ],
            "type": "histogram2dcontour"
           }
          ],
          "mesh3d": [
           {
            "colorbar": {
             "outlinewidth": 0,
             "ticks": ""
            },
            "type": "mesh3d"
           }
          ],
          "parcoords": [
           {
            "line": {
             "colorbar": {
              "outlinewidth": 0,
              "ticks": ""
             }
            },
            "type": "parcoords"
           }
          ],
          "pie": [
           {
            "automargin": true,
            "type": "pie"
           }
          ],
          "scatter": [
           {
            "fillpattern": {
             "fillmode": "overlay",
             "size": 10,
             "solidity": 0.2
            },
            "type": "scatter"
           }
          ],
          "scatter3d": [
           {
            "line": {
             "colorbar": {
              "outlinewidth": 0,
              "ticks": ""
             }
            },
            "marker": {
             "colorbar": {
              "outlinewidth": 0,
              "ticks": ""
             }
            },
            "type": "scatter3d"
           }
          ],
          "scattercarpet": [
           {
            "marker": {
             "colorbar": {
              "outlinewidth": 0,
              "ticks": ""
             }
            },
            "type": "scattercarpet"
           }
          ],
          "scattergeo": [
           {
            "marker": {
             "colorbar": {
              "outlinewidth": 0,
              "ticks": ""
             }
            },
            "type": "scattergeo"
           }
          ],
          "scattergl": [
           {
            "marker": {
             "colorbar": {
              "outlinewidth": 0,
              "ticks": ""
             }
            },
            "type": "scattergl"
           }
          ],
          "scattermap": [
           {
            "marker": {
             "colorbar": {
              "outlinewidth": 0,
              "ticks": ""
             }
            },
            "type": "scattermap"
           }
          ],
          "scattermapbox": [
           {
            "marker": {
             "colorbar": {
              "outlinewidth": 0,
              "ticks": ""
             }
            },
            "type": "scattermapbox"
           }
          ],
          "scatterpolar": [
           {
            "marker": {
             "colorbar": {
              "outlinewidth": 0,
              "ticks": ""
             }
            },
            "type": "scatterpolar"
           }
          ],
          "scatterpolargl": [
           {
            "marker": {
             "colorbar": {
              "outlinewidth": 0,
              "ticks": ""
             }
            },
            "type": "scatterpolargl"
           }
          ],
          "scatterternary": [
           {
            "marker": {
             "colorbar": {
              "outlinewidth": 0,
              "ticks": ""
             }
            },
            "type": "scatterternary"
           }
          ],
          "surface": [
           {
            "colorbar": {
             "outlinewidth": 0,
             "ticks": ""
            },
            "colorscale": [
             [
              0,
              "#0d0887"
             ],
             [
              0.1111111111111111,
              "#46039f"
             ],
             [
              0.2222222222222222,
              "#7201a8"
             ],
             [
              0.3333333333333333,
              "#9c179e"
             ],
             [
              0.4444444444444444,
              "#bd3786"
             ],
             [
              0.5555555555555556,
              "#d8576b"
             ],
             [
              0.6666666666666666,
              "#ed7953"
             ],
             [
              0.7777777777777778,
              "#fb9f3a"
             ],
             [
              0.8888888888888888,
              "#fdca26"
             ],
             [
              1,
              "#f0f921"
             ]
            ],
            "type": "surface"
           }
          ],
          "table": [
           {
            "cells": {
             "fill": {
              "color": "#EBF0F8"
             },
             "line": {
              "color": "white"
             }
            },
            "header": {
             "fill": {
              "color": "#C8D4E3"
             },
             "line": {
              "color": "white"
             }
            },
            "type": "table"
           }
          ]
         },
         "layout": {
          "annotationdefaults": {
           "arrowcolor": "#2a3f5f",
           "arrowhead": 0,
           "arrowwidth": 1
          },
          "autotypenumbers": "strict",
          "coloraxis": {
           "colorbar": {
            "outlinewidth": 0,
            "ticks": ""
           }
          },
          "colorscale": {
           "diverging": [
            [
             0,
             "#8e0152"
            ],
            [
             0.1,
             "#c51b7d"
            ],
            [
             0.2,
             "#de77ae"
            ],
            [
             0.3,
             "#f1b6da"
            ],
            [
             0.4,
             "#fde0ef"
            ],
            [
             0.5,
             "#f7f7f7"
            ],
            [
             0.6,
             "#e6f5d0"
            ],
            [
             0.7,
             "#b8e186"
            ],
            [
             0.8,
             "#7fbc41"
            ],
            [
             0.9,
             "#4d9221"
            ],
            [
             1,
             "#276419"
            ]
           ],
           "sequential": [
            [
             0,
             "#0d0887"
            ],
            [
             0.1111111111111111,
             "#46039f"
            ],
            [
             0.2222222222222222,
             "#7201a8"
            ],
            [
             0.3333333333333333,
             "#9c179e"
            ],
            [
             0.4444444444444444,
             "#bd3786"
            ],
            [
             0.5555555555555556,
             "#d8576b"
            ],
            [
             0.6666666666666666,
             "#ed7953"
            ],
            [
             0.7777777777777778,
             "#fb9f3a"
            ],
            [
             0.8888888888888888,
             "#fdca26"
            ],
            [
             1,
             "#f0f921"
            ]
           ],
           "sequentialminus": [
            [
             0,
             "#0d0887"
            ],
            [
             0.1111111111111111,
             "#46039f"
            ],
            [
             0.2222222222222222,
             "#7201a8"
            ],
            [
             0.3333333333333333,
             "#9c179e"
            ],
            [
             0.4444444444444444,
             "#bd3786"
            ],
            [
             0.5555555555555556,
             "#d8576b"
            ],
            [
             0.6666666666666666,
             "#ed7953"
            ],
            [
             0.7777777777777778,
             "#fb9f3a"
            ],
            [
             0.8888888888888888,
             "#fdca26"
            ],
            [
             1,
             "#f0f921"
            ]
           ]
          },
          "colorway": [
           "#636efa",
           "#EF553B",
           "#00cc96",
           "#ab63fa",
           "#FFA15A",
           "#19d3f3",
           "#FF6692",
           "#B6E880",
           "#FF97FF",
           "#FECB52"
          ],
          "font": {
           "color": "#2a3f5f"
          },
          "geo": {
           "bgcolor": "white",
           "lakecolor": "white",
           "landcolor": "#E5ECF6",
           "showlakes": true,
           "showland": true,
           "subunitcolor": "white"
          },
          "hoverlabel": {
           "align": "left"
          },
          "hovermode": "closest",
          "mapbox": {
           "style": "light"
          },
          "paper_bgcolor": "white",
          "plot_bgcolor": "#E5ECF6",
          "polar": {
           "angularaxis": {
            "gridcolor": "white",
            "linecolor": "white",
            "ticks": ""
           },
           "bgcolor": "#E5ECF6",
           "radialaxis": {
            "gridcolor": "white",
            "linecolor": "white",
            "ticks": ""
           }
          },
          "scene": {
           "xaxis": {
            "backgroundcolor": "#E5ECF6",
            "gridcolor": "white",
            "gridwidth": 2,
            "linecolor": "white",
            "showbackground": true,
            "ticks": "",
            "zerolinecolor": "white"
           },
           "yaxis": {
            "backgroundcolor": "#E5ECF6",
            "gridcolor": "white",
            "gridwidth": 2,
            "linecolor": "white",
            "showbackground": true,
            "ticks": "",
            "zerolinecolor": "white"
           },
           "zaxis": {
            "backgroundcolor": "#E5ECF6",
            "gridcolor": "white",
            "gridwidth": 2,
            "linecolor": "white",
            "showbackground": true,
            "ticks": "",
            "zerolinecolor": "white"
           }
          },
          "shapedefaults": {
           "line": {
            "color": "#2a3f5f"
           }
          },
          "ternary": {
           "aaxis": {
            "gridcolor": "white",
            "linecolor": "white",
            "ticks": ""
           },
           "baxis": {
            "gridcolor": "white",
            "linecolor": "white",
            "ticks": ""
           },
           "bgcolor": "#E5ECF6",
           "caxis": {
            "gridcolor": "white",
            "linecolor": "white",
            "ticks": ""
           }
          },
          "title": {
           "x": 0.05
          },
          "xaxis": {
           "automargin": true,
           "gridcolor": "white",
           "linecolor": "white",
           "ticks": "",
           "title": {
            "standoff": 15
           },
           "zerolinecolor": "white",
           "zerolinewidth": 2
          },
          "yaxis": {
           "automargin": true,
           "gridcolor": "white",
           "linecolor": "white",
           "ticks": "",
           "title": {
            "standoff": 15
           },
           "zerolinecolor": "white",
           "zerolinewidth": 2
          }
         }
        },
        "title": {
         "text": "Common Words in Text Data"
        },
        "width": 700,
        "xaxis": {
         "anchor": "y",
         "domain": [
          0,
          1
         ],
         "title": {
          "text": "count"
         }
        },
        "yaxis": {
         "anchor": "x",
         "categoryarray": [
          "count",
          "Sample",
          "fun",
          "are",
          "mining",
          "and",
          "analysis",
          "Data",
          "with",
          "frequency",
          "Testing",
          "a",
          "is",
          "This",
          "data",
          "word",
          "testing",
          "for",
          "sample",
          "text"
         ],
         "categoryorder": "array",
         "domain": [
          0,
          1
         ],
         "title": {
          "text": "Common_words"
         }
        }
       }
      }
     },
     "metadata": {},
     "output_type": "display_data"
    }
   ],
   "source": [
    "df1['temp_list'] = df1['Clean_Text'].apply(lambda x: str(x).split())\n",
    "top_words = Counter([item for sublist in df1['temp_list'] for item in sublist])\n",
    "top_words_df = pd.DataFrame(top_words.most_common(20), columns=['Common_words', 'count'])\n",
    "\n",
    "fig = px.bar(top_words_df,\n",
    "            x=\"count\",\n",
    "            y=\"Common_words\",\n",
    "            title='Common Words in Text Data',\n",
    "            orientation='h',\n",
    "            width=700,\n",
    "            height=700,\n",
    "            color='Common_words')\n",
    "\n",
    "fig.show()\n"
   ]
  },
  {
   "cell_type": "code",
   "execution_count": 33,
   "id": "7f451856",
   "metadata": {
    "execution": {
     "iopub.execute_input": "2025-01-24T04:13:11.036621Z",
     "iopub.status.busy": "2025-01-24T04:13:11.036159Z",
     "iopub.status.idle": "2025-01-24T04:13:11.051291Z",
     "shell.execute_reply": "2025-01-24T04:13:11.049651Z"
    },
    "papermill": {
     "duration": 0.041148,
     "end_time": "2025-01-24T04:13:11.053103",
     "exception": false,
     "start_time": "2025-01-24T04:13:11.011955",
     "status": "completed"
    },
    "tags": []
   },
   "outputs": [
    {
     "name": "stdout",
     "output_type": "stream",
     "text": [
      "Positive Sentiment:\n",
      "                    Text Sentiment\n",
      "0           I love this!  positive\n",
      "3  Absolutely fantastic!  positive\n",
      "\n",
      "Negative Sentiment:\n",
      "               Text Sentiment\n",
      "1      This is bad.  negative\n",
      "4  Not good at all.  negative\n",
      "\n",
      "Neutral Sentiment:\n",
      "          Text Sentiment\n",
      "2  It is okay.   neutral\n"
     ]
    }
   ],
   "source": [
    "import pandas as pd\n",
    "\n",
    "# Example DataFrame (replace with your actual data)\n",
    "data = {\n",
    "    'Text': ['I love this!', 'This is bad.', 'It is okay.', 'Absolutely fantastic!', 'Not good at all.'],\n",
    "    'Sentiment': ['positive', 'negative', 'neutral', 'Positive', 'Negative']\n",
    "}\n",
    "df1 = pd.DataFrame(data)\n",
    "\n",
    "# Ensure consistency in the Sentiment column\n",
    "df1['Sentiment'] = df1['Sentiment'].str.lower()\n",
    "\n",
    "# Filter data based on Sentiment\n",
    "Positive_sent = df1[df1['Sentiment'] == 'positive']\n",
    "Negative_sent = df1[df1['Sentiment'] == 'negative']\n",
    "Neutral_sent = df1[df1['Sentiment'] == 'neutral']\n",
    "\n",
    "# Validation\n",
    "print(\"Positive Sentiment:\")\n",
    "print(Positive_sent)\n",
    "\n",
    "print(\"\\nNegative Sentiment:\")\n",
    "print(Negative_sent)\n",
    "\n",
    "print(\"\\nNeutral Sentiment:\")\n",
    "print(Neutral_sent)\n"
   ]
  },
  {
   "cell_type": "markdown",
   "id": "cc783404",
   "metadata": {
    "papermill": {
     "duration": 0.022822,
     "end_time": "2025-01-24T04:13:11.098943",
     "exception": false,
     "start_time": "2025-01-24T04:13:11.076121",
     "status": "completed"
    },
    "tags": []
   },
   "source": [
    "**Positive Common Words**"
   ]
  },
  {
   "cell_type": "code",
   "execution_count": 34,
   "id": "ca1e5205",
   "metadata": {
    "execution": {
     "iopub.execute_input": "2025-01-24T04:13:11.146156Z",
     "iopub.status.busy": "2025-01-24T04:13:11.145735Z",
     "iopub.status.idle": "2025-01-24T04:13:11.166107Z",
     "shell.execute_reply": "2025-01-24T04:13:11.164755Z"
    },
    "papermill": {
     "duration": 0.04613,
     "end_time": "2025-01-24T04:13:11.167985",
     "exception": false,
     "start_time": "2025-01-24T04:13:11.121855",
     "status": "completed"
    },
    "tags": []
   },
   "outputs": [
    {
     "data": {
      "text/html": [
       "<style type=\"text/css\">\n",
       "#T_e483d_row0_col1, #T_e483d_row1_col1, #T_e483d_row2_col1 {\n",
       "  background-color: #00441b;\n",
       "  color: #f1f1f1;\n",
       "}\n",
       "#T_e483d_row3_col1, #T_e483d_row4_col1, #T_e483d_row5_col1, #T_e483d_row6_col1, #T_e483d_row7_col1, #T_e483d_row8_col1, #T_e483d_row9_col1 {\n",
       "  background-color: #f7fcf5;\n",
       "  color: #000000;\n",
       "}\n",
       "</style>\n",
       "<table id=\"T_e483d\">\n",
       "  <thead>\n",
       "    <tr>\n",
       "      <th class=\"blank level0\" >&nbsp;</th>\n",
       "      <th id=\"T_e483d_level0_col0\" class=\"col_heading level0 col0\" >Common_words</th>\n",
       "      <th id=\"T_e483d_level0_col1\" class=\"col_heading level0 col1\" >count</th>\n",
       "    </tr>\n",
       "  </thead>\n",
       "  <tbody>\n",
       "    <tr>\n",
       "      <th id=\"T_e483d_level0_row0\" class=\"row_heading level0 row0\" >0</th>\n",
       "      <td id=\"T_e483d_row0_col0\" class=\"data row0 col0\" >I</td>\n",
       "      <td id=\"T_e483d_row0_col1\" class=\"data row0 col1\" >2</td>\n",
       "    </tr>\n",
       "    <tr>\n",
       "      <th id=\"T_e483d_level0_row1\" class=\"row_heading level0 row1\" >1</th>\n",
       "      <td id=\"T_e483d_row1_col0\" class=\"data row1 col0\" >this</td>\n",
       "      <td id=\"T_e483d_row1_col1\" class=\"data row1 col1\" >2</td>\n",
       "    </tr>\n",
       "    <tr>\n",
       "      <th id=\"T_e483d_level0_row2\" class=\"row_heading level0 row2\" >2</th>\n",
       "      <td id=\"T_e483d_row2_col0\" class=\"data row2 col0\" >and</td>\n",
       "      <td id=\"T_e483d_row2_col1\" class=\"data row2 col1\" >2</td>\n",
       "    </tr>\n",
       "    <tr>\n",
       "      <th id=\"T_e483d_level0_row3\" class=\"row_heading level0 row3\" >3</th>\n",
       "      <td id=\"T_e483d_row3_col0\" class=\"data row3 col0\" >love</td>\n",
       "      <td id=\"T_e483d_row3_col1\" class=\"data row3 col1\" >1</td>\n",
       "    </tr>\n",
       "    <tr>\n",
       "      <th id=\"T_e483d_level0_row4\" class=\"row_heading level0 row4\" >4</th>\n",
       "      <td id=\"T_e483d_row4_col0\" class=\"data row4 col0\" >product</td>\n",
       "      <td id=\"T_e483d_row4_col1\" class=\"data row4 col1\" >1</td>\n",
       "    </tr>\n",
       "    <tr>\n",
       "      <th id=\"T_e483d_level0_row5\" class=\"row_heading level0 row5\" >5</th>\n",
       "      <td id=\"T_e483d_row5_col0\" class=\"data row5 col0\" >Absolutely</td>\n",
       "      <td id=\"T_e483d_row5_col1\" class=\"data row5 col1\" >1</td>\n",
       "    </tr>\n",
       "    <tr>\n",
       "      <th id=\"T_e483d_level0_row6\" class=\"row_heading level0 row6\" >6</th>\n",
       "      <td id=\"T_e483d_row6_col0\" class=\"data row6 col0\" >amazing</td>\n",
       "      <td id=\"T_e483d_row6_col1\" class=\"data row6 col1\" >1</td>\n",
       "    </tr>\n",
       "    <tr>\n",
       "      <th id=\"T_e483d_level0_row7\" class=\"row_heading level0 row7\" >7</th>\n",
       "      <td id=\"T_e483d_row7_col0\" class=\"data row7 col0\" >experience</td>\n",
       "      <td id=\"T_e483d_row7_col1\" class=\"data row7 col1\" >1</td>\n",
       "    </tr>\n",
       "    <tr>\n",
       "      <th id=\"T_e483d_level0_row8\" class=\"row_heading level0 row8\" >8</th>\n",
       "      <td id=\"T_e483d_row8_col0\" class=\"data row8 col0\" >Great</td>\n",
       "      <td id=\"T_e483d_row8_col1\" class=\"data row8 col1\" >1</td>\n",
       "    </tr>\n",
       "    <tr>\n",
       "      <th id=\"T_e483d_level0_row9\" class=\"row_heading level0 row9\" >9</th>\n",
       "      <td id=\"T_e483d_row9_col0\" class=\"data row9 col0\" >service</td>\n",
       "      <td id=\"T_e483d_row9_col1\" class=\"data row9 col1\" >1</td>\n",
       "    </tr>\n",
       "  </tbody>\n",
       "</table>\n"
      ],
      "text/plain": [
       "<pandas.io.formats.style.Styler at 0x1ebaaa7f190>"
      ]
     },
     "metadata": {},
     "output_type": "display_data"
    },
    {
     "name": "stdout",
     "output_type": "stream",
     "text": [
      "  Common_words  count\n",
      "0            I      2\n",
      "1         this      2\n",
      "2          and      2\n",
      "3         love      1\n",
      "4      product      1\n",
      "5   Absolutely      1\n",
      "6      amazing      1\n",
      "7   experience      1\n",
      "8        Great      1\n",
      "9      service      1\n"
     ]
    }
   ],
   "source": [
    "import pandas as pd\n",
    "from collections import Counter\n",
    "\n",
    "# Example DataFrame (replace with your actual data)\n",
    "data = {\n",
    "    'Clean_Text': [\n",
    "        'I love this product', 'Absolutely amazing experience',\n",
    "        'Great service and support', 'Wonderful and fantastic!',\n",
    "        'I would recommend this to everyone'\n",
    "    ],\n",
    "    'Sentiment': ['positive', 'positive', 'positive', 'positive', 'positive']\n",
    "}\n",
    "df1 = pd.DataFrame(data)\n",
    "\n",
    "# Ensure consistency in Sentiment column\n",
    "df1['Sentiment'] = df1['Sentiment'].str.lower()\n",
    "\n",
    "# Create temp_list column if not already present\n",
    "df1['temp_list'] = df1['Clean_Text'].fillna('').apply(lambda x: str(x).split())\n",
    "\n",
    "# Count top 10 words for positive sentiment\n",
    "top = Counter([item for sublist in df1[df1['Sentiment'] == 'positive']['temp_list'] for item in sublist])\n",
    "temp_positive = pd.DataFrame(top.most_common(10), columns=['Common_words', 'count'])\n",
    "\n",
    "# Display with gradient (for Jupyter Notebook)\n",
    "display(temp_positive.style.background_gradient(cmap='Greens'))\n",
    "\n",
    "# For non-notebook environments, print the DataFrame\n",
    "print(temp_positive)\n"
   ]
  },
  {
   "cell_type": "code",
   "execution_count": 35,
   "id": "224c8284",
   "metadata": {
    "execution": {
     "iopub.execute_input": "2025-01-24T04:13:11.274931Z",
     "iopub.status.busy": "2025-01-24T04:13:11.274489Z",
     "iopub.status.idle": "2025-01-24T04:13:11.714997Z",
     "shell.execute_reply": "2025-01-24T04:13:11.713809Z"
    },
    "papermill": {
     "duration": 0.46745,
     "end_time": "2025-01-24T04:13:11.718038",
     "exception": false,
     "start_time": "2025-01-24T04:13:11.250588",
     "status": "completed"
    },
    "tags": []
   },
   "outputs": [
    {
     "data": {
      "image/png": "[encoded data removed]",
      "text/plain": [
       "<Figure size 1000x800 with 1 Axes>"
      ]
     },
     "metadata": {},
     "output_type": "display_data"
    }
   ],
   "source": [
    "words = ' '.join([item for sublist in df1[df1['Sentiment'] == 'positive']['temp_list'] for item in sublist])\n",
    "wordcloud = WordCloud(width=800, height=400, background_color='white').generate(words)\n",
    "\n",
    "plt.figure(figsize=(10, 8))\n",
    "plt.imshow(wordcloud, interpolation='bilinear')\n",
    "plt.axis('off')\n",
    "plt.show()\n"
   ]
  },
  {
   "cell_type": "markdown",
   "id": "2ffb1cf2",
   "metadata": {
    "papermill": {
     "duration": 0.026744,
     "end_time": "2025-01-24T04:13:11.771608",
     "exception": false,
     "start_time": "2025-01-24T04:13:11.744864",
     "status": "completed"
    },
    "tags": []
   },
   "source": [
    "**Neutral Common Words**"
   ]
  },
  {
   "cell_type": "code",
   "execution_count": 36,
   "id": "fbb9d18d",
   "metadata": {
    "execution": {
     "iopub.execute_input": "2025-01-24T04:13:11.827638Z",
     "iopub.status.busy": "2025-01-24T04:13:11.827285Z",
     "iopub.status.idle": "2025-01-24T04:13:11.847171Z",
     "shell.execute_reply": "2025-01-24T04:13:11.846119Z"
    },
    "papermill": {
     "duration": 0.050772,
     "end_time": "2025-01-24T04:13:11.849051",
     "exception": false,
     "start_time": "2025-01-24T04:13:11.798279",
     "status": "completed"
    },
    "tags": []
   },
   "outputs": [
    {
     "data": {
      "text/html": [
       "<style type=\"text/css\">\n",
       "#T_055a3_row0_col1 {\n",
       "  background-color: #08306b;\n",
       "  color: #f1f1f1;\n",
       "}\n",
       "#T_055a3_row1_col1, #T_055a3_row2_col1, #T_055a3_row3_col1, #T_055a3_row4_col1, #T_055a3_row5_col1, #T_055a3_row6_col1, #T_055a3_row7_col1, #T_055a3_row8_col1, #T_055a3_row9_col1 {\n",
       "  background-color: #f7fbff;\n",
       "  color: #000000;\n",
       "}\n",
       "</style>\n",
       "<table id=\"T_055a3\">\n",
       "  <thead>\n",
       "    <tr>\n",
       "      <th class=\"blank level0\" >&nbsp;</th>\n",
       "      <th id=\"T_055a3_level0_col0\" class=\"col_heading level0 col0\" >Common_words</th>\n",
       "      <th id=\"T_055a3_level0_col1\" class=\"col_heading level0 col1\" >count</th>\n",
       "    </tr>\n",
       "  </thead>\n",
       "  <tbody>\n",
       "    <tr>\n",
       "      <th id=\"T_055a3_level0_row0\" class=\"row_heading level0 row0\" >0</th>\n",
       "      <td id=\"T_055a3_row0_col0\" class=\"data row0 col0\" >bad</td>\n",
       "      <td id=\"T_055a3_row0_col1\" class=\"data row0 col1\" >2</td>\n",
       "    </tr>\n",
       "    <tr>\n",
       "      <th id=\"T_055a3_level0_row1\" class=\"row_heading level0 row1\" >1</th>\n",
       "      <td id=\"T_055a3_row1_col0\" class=\"data row1 col0\" >I</td>\n",
       "      <td id=\"T_055a3_row1_col1\" class=\"data row1 col1\" >1</td>\n",
       "    </tr>\n",
       "    <tr>\n",
       "      <th id=\"T_055a3_level0_row2\" class=\"row_heading level0 row2\" >2</th>\n",
       "      <td id=\"T_055a3_row2_col0\" class=\"data row2 col0\" >feel</td>\n",
       "      <td id=\"T_055a3_row2_col1\" class=\"data row2 col1\" >1</td>\n",
       "    </tr>\n",
       "    <tr>\n",
       "      <th id=\"T_055a3_level0_row3\" class=\"row_heading level0 row3\" >3</th>\n",
       "      <td id=\"T_055a3_row3_col0\" class=\"data row3 col0\" >neutral</td>\n",
       "      <td id=\"T_055a3_row3_col1\" class=\"data row3 col1\" >1</td>\n",
       "    </tr>\n",
       "    <tr>\n",
       "      <th id=\"T_055a3_level0_row4\" class=\"row_heading level0 row4\" >4</th>\n",
       "      <td id=\"T_055a3_row4_col0\" class=\"data row4 col0\" >about</td>\n",
       "      <td id=\"T_055a3_row4_col1\" class=\"data row4 col1\" >1</td>\n",
       "    </tr>\n",
       "    <tr>\n",
       "      <th id=\"T_055a3_level0_row5\" class=\"row_heading level0 row5\" >5</th>\n",
       "      <td id=\"T_055a3_row5_col0\" class=\"data row5 col0\" >this</td>\n",
       "      <td id=\"T_055a3_row5_col1\" class=\"data row5 col1\" >1</td>\n",
       "    </tr>\n",
       "    <tr>\n",
       "      <th id=\"T_055a3_level0_row6\" class=\"row_heading level0 row6\" >6</th>\n",
       "      <td id=\"T_055a3_row6_col0\" class=\"data row6 col0\" >Not</td>\n",
       "      <td id=\"T_055a3_row6_col1\" class=\"data row6 col1\" >1</td>\n",
       "    </tr>\n",
       "    <tr>\n",
       "      <th id=\"T_055a3_level0_row7\" class=\"row_heading level0 row7\" >7</th>\n",
       "      <td id=\"T_055a3_row7_col0\" class=\"data row7 col0\" >good,</td>\n",
       "      <td id=\"T_055a3_row7_col1\" class=\"data row7 col1\" >1</td>\n",
       "    </tr>\n",
       "    <tr>\n",
       "      <th id=\"T_055a3_level0_row8\" class=\"row_heading level0 row8\" >8</th>\n",
       "      <td id=\"T_055a3_row8_col0\" class=\"data row8 col0\" >not</td>\n",
       "      <td id=\"T_055a3_row8_col1\" class=\"data row8 col1\" >1</td>\n",
       "    </tr>\n",
       "    <tr>\n",
       "      <th id=\"T_055a3_level0_row9\" class=\"row_heading level0 row9\" >9</th>\n",
       "      <td id=\"T_055a3_row9_col0\" class=\"data row9 col0\" >Just</td>\n",
       "      <td id=\"T_055a3_row9_col1\" class=\"data row9 col1\" >1</td>\n",
       "    </tr>\n",
       "  </tbody>\n",
       "</table>\n"
      ],
      "text/plain": [
       "<pandas.io.formats.style.Styler at 0x1ebad133b20>"
      ]
     },
     "metadata": {},
     "output_type": "display_data"
    },
    {
     "name": "stdout",
     "output_type": "stream",
     "text": [
      "  Common_words  count\n",
      "0          bad      2\n",
      "1            I      1\n",
      "2         feel      1\n",
      "3      neutral      1\n",
      "4        about      1\n",
      "5         this      1\n",
      "6          Not      1\n",
      "7        good,      1\n",
      "8          not      1\n",
      "9         Just      1\n"
     ]
    }
   ],
   "source": [
    "import pandas as pd\n",
    "from collections import Counter\n",
    "\n",
    "# Example DataFrame (replace with your actual data)\n",
    "data = {\n",
    "    'Clean_Text': [\n",
    "        'I feel neutral about this', 'Not good, not bad', 'Just an average experience',\n",
    "        'Nothing special', 'This is okay, neither good nor bad'\n",
    "    ],\n",
    "    'Sentiment': ['neutral', 'neutral', 'neutral', 'neutral', 'neutral']\n",
    "}\n",
    "df1 = pd.DataFrame(data)\n",
    "\n",
    "# Ensure consistency in Sentiment column\n",
    "df1['Sentiment'] = df1['Sentiment'].str.lower()\n",
    "\n",
    "# Create temp_list column if not already present\n",
    "df1['temp_list'] = df1['Clean_Text'].fillna('').apply(lambda x: str(x).split())\n",
    "\n",
    "# Count top 10 words for neutral sentiment\n",
    "top = Counter([item for sublist in df1[df1['Sentiment'] == 'neutral']['temp_list'] for item in sublist])\n",
    "temp_positive = pd.DataFrame(top.most_common(10), columns=['Common_words', 'count'])\n",
    "\n",
    "# Display with gradient (for Jupyter Notebook)\n",
    "display(temp_positive.style.background_gradient(cmap='Blues'))\n",
    "\n",
    "# For non-notebook environments, print the DataFrame\n",
    "print(temp_positive)\n"
   ]
  },
  {
   "cell_type": "code",
   "execution_count": 37,
   "id": "ae7b598b",
   "metadata": {
    "execution": {
     "iopub.execute_input": "2025-01-24T04:13:11.903473Z",
     "iopub.status.busy": "2025-01-24T04:13:11.903114Z",
     "iopub.status.idle": "2025-01-24T04:13:12.305886Z",
     "shell.execute_reply": "2025-01-24T04:13:12.304740Z"
    },
    "papermill": {
     "duration": 0.433082,
     "end_time": "2025-01-24T04:13:12.308910",
     "exception": false,
     "start_time": "2025-01-24T04:13:11.875828",
     "status": "completed"
    },
    "tags": []
   },
   "outputs": [
    {
     "data": {
      "image/png": "[encoded data removed]",
      "text/plain": [
       "<Figure size 1000x800 with 1 Axes>"
      ]
     },
     "metadata": {},
     "output_type": "display_data"
    }
   ],
   "source": [
    "words = ' '.join([item for sublist in df1[df1['Sentiment'] == 'neutral']['temp_list'] for item in sublist])\n",
    "wordcloud = WordCloud(width=800, height=400, background_color='white').generate(words)\n",
    "\n",
    "plt.figure(figsize=(10, 8))\n",
    "plt.imshow(wordcloud, interpolation='bilinear')\n",
    "plt.axis('off')\n",
    "plt.show()\n"
   ]
  },
  {
   "cell_type": "markdown",
   "id": "acce9c2e",
   "metadata": {
    "papermill": {
     "duration": 0.030243,
     "end_time": "2025-01-24T04:13:12.369629",
     "exception": false,
     "start_time": "2025-01-24T04:13:12.339386",
     "status": "completed"
    },
    "tags": []
   },
   "source": [
    "**Negative Common Words**"
   ]
  },
  {
   "cell_type": "code",
   "execution_count": 38,
   "id": "98be5528",
   "metadata": {
    "execution": {
     "iopub.execute_input": "2025-01-24T04:13:12.432196Z",
     "iopub.status.busy": "2025-01-24T04:13:12.431753Z",
     "iopub.status.idle": "2025-01-24T04:13:12.451589Z",
     "shell.execute_reply": "2025-01-24T04:13:12.450414Z"
    },
    "papermill": {
     "duration": 0.053405,
     "end_time": "2025-01-24T04:13:12.453432",
     "exception": false,
     "start_time": "2025-01-24T04:13:12.400027",
     "status": "completed"
    },
    "tags": []
   },
   "outputs": [
    {
     "data": {
      "text/html": [
       "<style type=\"text/css\">\n",
       "#T_63e93_row0_col1, #T_63e93_row1_col1 {\n",
       "  background-color: #67000d;\n",
       "  color: #f1f1f1;\n",
       "}\n",
       "#T_63e93_row2_col1, #T_63e93_row3_col1, #T_63e93_row4_col1, #T_63e93_row5_col1, #T_63e93_row6_col1, #T_63e93_row7_col1, #T_63e93_row8_col1, #T_63e93_row9_col1 {\n",
       "  background-color: #fff5f0;\n",
       "  color: #000000;\n",
       "}\n",
       "</style>\n",
       "<table id=\"T_63e93\">\n",
       "  <thead>\n",
       "    <tr>\n",
       "      <th class=\"blank level0\" >&nbsp;</th>\n",
       "      <th id=\"T_63e93_level0_col0\" class=\"col_heading level0 col0\" >Common_words</th>\n",
       "      <th id=\"T_63e93_level0_col1\" class=\"col_heading level0 col1\" >count</th>\n",
       "    </tr>\n",
       "  </thead>\n",
       "  <tbody>\n",
       "    <tr>\n",
       "      <th id=\"T_63e93_level0_row0\" class=\"row_heading level0 row0\" >0</th>\n",
       "      <td id=\"T_63e93_row0_col0\" class=\"data row0 col0\" >I</td>\n",
       "      <td id=\"T_63e93_row0_col1\" class=\"data row0 col1\" >2</td>\n",
       "    </tr>\n",
       "    <tr>\n",
       "      <th id=\"T_63e93_level0_row1\" class=\"row_heading level0 row1\" >1</th>\n",
       "      <td id=\"T_63e93_row1_col0\" class=\"data row1 col0\" >this</td>\n",
       "      <td id=\"T_63e93_row1_col1\" class=\"data row1 col1\" >2</td>\n",
       "    </tr>\n",
       "    <tr>\n",
       "      <th id=\"T_63e93_level0_row2\" class=\"row_heading level0 row2\" >2</th>\n",
       "      <td id=\"T_63e93_row2_col0\" class=\"data row2 col0\" >hate</td>\n",
       "      <td id=\"T_63e93_row2_col1\" class=\"data row2 col1\" >1</td>\n",
       "    </tr>\n",
       "    <tr>\n",
       "      <th id=\"T_63e93_level0_row3\" class=\"row_heading level0 row3\" >3</th>\n",
       "      <td id=\"T_63e93_row3_col0\" class=\"data row3 col0\" >product</td>\n",
       "      <td id=\"T_63e93_row3_col1\" class=\"data row3 col1\" >1</td>\n",
       "    </tr>\n",
       "    <tr>\n",
       "      <th id=\"T_63e93_level0_row4\" class=\"row_heading level0 row4\" >4</th>\n",
       "      <td id=\"T_63e93_row4_col0\" class=\"data row4 col0\" >Worst</td>\n",
       "      <td id=\"T_63e93_row4_col1\" class=\"data row4 col1\" >1</td>\n",
       "    </tr>\n",
       "    <tr>\n",
       "      <th id=\"T_63e93_level0_row5\" class=\"row_heading level0 row5\" >5</th>\n",
       "      <td id=\"T_63e93_row5_col0\" class=\"data row5 col0\" >experience</td>\n",
       "      <td id=\"T_63e93_row5_col1\" class=\"data row5 col1\" >1</td>\n",
       "    </tr>\n",
       "    <tr>\n",
       "      <th id=\"T_63e93_level0_row6\" class=\"row_heading level0 row6\" >6</th>\n",
       "      <td id=\"T_63e93_row6_col0\" class=\"data row6 col0\" >ever</td>\n",
       "      <td id=\"T_63e93_row6_col1\" class=\"data row6 col1\" >1</td>\n",
       "    </tr>\n",
       "    <tr>\n",
       "      <th id=\"T_63e93_level0_row7\" class=\"row_heading level0 row7\" >7</th>\n",
       "      <td id=\"T_63e93_row7_col0\" class=\"data row7 col0\" >would</td>\n",
       "      <td id=\"T_63e93_row7_col1\" class=\"data row7 col1\" >1</td>\n",
       "    </tr>\n",
       "    <tr>\n",
       "      <th id=\"T_63e93_level0_row8\" class=\"row_heading level0 row8\" >8</th>\n",
       "      <td id=\"T_63e93_row8_col0\" class=\"data row8 col0\" >not</td>\n",
       "      <td id=\"T_63e93_row8_col1\" class=\"data row8 col1\" >1</td>\n",
       "    </tr>\n",
       "    <tr>\n",
       "      <th id=\"T_63e93_level0_row9\" class=\"row_heading level0 row9\" >9</th>\n",
       "      <td id=\"T_63e93_row9_col0\" class=\"data row9 col0\" >recommend</td>\n",
       "      <td id=\"T_63e93_row9_col1\" class=\"data row9 col1\" >1</td>\n",
       "    </tr>\n",
       "  </tbody>\n",
       "</table>\n"
      ],
      "text/plain": [
       "<pandas.io.formats.style.Styler at 0x1ebaaa7f190>"
      ]
     },
     "metadata": {},
     "output_type": "display_data"
    },
    {
     "name": "stdout",
     "output_type": "stream",
     "text": [
      "  Common_words  count\n",
      "0            I      2\n",
      "1         this      2\n",
      "2         hate      1\n",
      "3      product      1\n",
      "4        Worst      1\n",
      "5   experience      1\n",
      "6         ever      1\n",
      "7        would      1\n",
      "8          not      1\n",
      "9    recommend      1\n"
     ]
    }
   ],
   "source": [
    "import pandas as pd\n",
    "from collections import Counter\n",
    "\n",
    "# Example DataFrame (replace with your actual data)\n",
    "data = {\n",
    "    'Clean_Text': [\n",
    "        'I hate this product', 'Worst experience ever', 'I would not recommend this', \n",
    "        'It was a terrible decision', 'This is awful'\n",
    "    ],\n",
    "    'Sentiment': ['negative', 'negative', 'negative', 'negative', 'negative']\n",
    "}\n",
    "df1 = pd.DataFrame(data)\n",
    "\n",
    "# Ensure consistency in Sentiment column (e.g., lowercase)\n",
    "df1['Sentiment'] = df1['Sentiment'].str.lower()\n",
    "\n",
    "# Create temp_list column if not already present\n",
    "df1['temp_list'] = df1['Clean_Text'].fillna('').apply(lambda x: str(x).split())\n",
    "\n",
    "# Count top 10 words for negative sentiment\n",
    "top = Counter([item for sublist in df1[df1['Sentiment'] == 'negative']['temp_list'] for item in sublist])\n",
    "temp_positive = pd.DataFrame(top.most_common(10), columns=['Common_words', 'count'])\n",
    "\n",
    "# Display with gradient (for Jupyter Notebook)\n",
    "display(temp_positive.style.background_gradient(cmap='Reds'))\n",
    "\n",
    "# For non-notebook environments, print the DataFrame\n",
    "print(temp_positive)\n"
   ]
  },
  {
   "cell_type": "code",
   "execution_count": 39,
   "id": "ca485215",
   "metadata": {
    "execution": {
     "iopub.execute_input": "2025-01-24T04:13:12.516444Z",
     "iopub.status.busy": "2025-01-24T04:13:12.516000Z",
     "iopub.status.idle": "2025-01-24T04:13:12.903592Z",
     "shell.execute_reply": "2025-01-24T04:13:12.902535Z"
    },
    "papermill": {
     "duration": 0.422034,
     "end_time": "2025-01-24T04:13:12.906285",
     "exception": false,
     "start_time": "2025-01-24T04:13:12.484251",
     "status": "completed"
    },
    "tags": []
   },
   "outputs": [
    {
     "data": {
      "image/png": "[encoded data removed]",
      "text/plain": [
       "<Figure size 1000x800 with 1 Axes>"
      ]
     },
     "metadata": {},
     "output_type": "display_data"
    }
   ],
   "source": [
    "words = ' '.join([item for sublist in df1[df1['Sentiment'] == 'negative']['temp_list'] for item in sublist])\n",
    "wordcloud = WordCloud(width=800, height=400, background_color='white').generate(words)\n",
    "\n",
    "plt.figure(figsize=(10, 8))\n",
    "plt.imshow(wordcloud, interpolation='bilinear')\n",
    "plt.axis('off')\n",
    "plt.show()\n"
   ]
  },
  {
   "cell_type": "markdown",
   "id": "d4df84a5",
   "metadata": {
    "papermill": {
     "duration": 0.032177,
     "end_time": "2025-01-24T04:13:12.971651",
     "exception": false,
     "start_time": "2025-01-24T04:13:12.939474",
     "status": "completed"
    },
    "tags": []
   },
   "source": [
    "#  Data Preparation"
   ]
  },
  {
   "cell_type": "code",
   "execution_count": 40,
   "id": "7977073f",
   "metadata": {
    "execution": {
     "iopub.execute_input": "2025-01-24T04:13:13.041300Z",
     "iopub.status.busy": "2025-01-24T04:13:13.040861Z",
     "iopub.status.idle": "2025-01-24T04:13:13.045768Z",
     "shell.execute_reply": "2025-01-24T04:13:13.044567Z"
    },
    "papermill": {
     "duration": 0.041264,
     "end_time": "2025-01-24T04:13:13.047611",
     "exception": false,
     "start_time": "2025-01-24T04:13:13.006347",
     "status": "completed"
    },
    "tags": []
   },
   "outputs": [],
   "source": [
    "df2 = df1.copy()"
   ]
  },
  {
   "cell_type": "code",
   "execution_count": 41,
   "id": "a399f738",
   "metadata": {
    "execution": {
     "iopub.execute_input": "2025-01-24T04:13:13.116724Z",
     "iopub.status.busy": "2025-01-24T04:13:13.116279Z",
     "iopub.status.idle": "2025-01-24T04:13:13.448419Z",
     "shell.execute_reply": "2025-01-24T04:13:13.447254Z"
    },
    "papermill": {
     "duration": 0.36855,
     "end_time": "2025-01-24T04:13:13.450678",
     "exception": false,
     "start_time": "2025-01-24T04:13:13.082128",
     "status": "completed"
    },
    "tags": []
   },
   "outputs": [],
   "source": [
    "from sklearn.feature_extraction.text import TfidfVectorizer\n",
    "from sklearn.linear_model import PassiveAggressiveClassifier\n",
    "from sklearn.model_selection import train_test_split\n",
    "from sklearn.metrics import accuracy_score, classification_report\n",
    "from sklearn.linear_model import LogisticRegression\n",
    "from sklearn.ensemble import RandomForestClassifier\n",
    "from sklearn.svm import SVC\n",
    "from sklearn.naive_bayes import MultinomialNB\n",
    "from sklearn.model_selection import RandomizedSearchCV\n",
    "from sklearn.metrics import confusion_matrix"
   ]
  },
  {
   "cell_type": "markdown",
   "id": "df4a1ee2",
   "metadata": {
    "papermill": {
     "duration": 0.032552,
     "end_time": "2025-01-24T04:13:13.518377",
     "exception": false,
     "start_time": "2025-01-24T04:13:13.485825",
     "status": "completed"
    },
    "tags": []
   },
   "source": [
    "# Split Data"
   ]
  },
  {
   "cell_type": "code",
   "execution_count": 42,
   "id": "80375a08",
   "metadata": {
    "execution": {
     "iopub.execute_input": "2025-01-24T04:13:13.585729Z",
     "iopub.status.busy": "2025-01-24T04:13:13.585363Z",
     "iopub.status.idle": "2025-01-24T04:13:13.589995Z",
     "shell.execute_reply": "2025-01-24T04:13:13.589034Z"
    },
    "papermill": {
     "duration": 0.040174,
     "end_time": "2025-01-24T04:13:13.591604",
     "exception": false,
     "start_time": "2025-01-24T04:13:13.551430",
     "status": "completed"
    },
    "tags": []
   },
   "outputs": [],
   "source": [
    "X = df2['Clean_Text'].values\n",
    "y = df2['Sentiment'].values"
   ]
  },
  {
   "cell_type": "code",
   "execution_count": 43,
   "id": "2c84c1fe",
   "metadata": {
    "execution": {
     "iopub.execute_input": "2025-01-24T04:13:13.659053Z",
     "iopub.status.busy": "2025-01-24T04:13:13.658660Z",
     "iopub.status.idle": "2025-01-24T04:13:13.663901Z",
     "shell.execute_reply": "2025-01-24T04:13:13.662873Z"
    },
    "papermill": {
     "duration": 0.04119,
     "end_time": "2025-01-24T04:13:13.665582",
     "exception": false,
     "start_time": "2025-01-24T04:13:13.624392",
     "status": "completed"
    },
    "tags": []
   },
   "outputs": [],
   "source": [
    "X_train, X_test, y_train, y_test = train_test_split(X, y, test_size=0.2, random_state=42)\n"
   ]
  },
  {
   "cell_type": "markdown",
   "id": "d02b65d1",
   "metadata": {
    "papermill": {
     "duration": 0.032535,
     "end_time": "2025-01-24T04:13:13.731139",
     "exception": false,
     "start_time": "2025-01-24T04:13:13.698604",
     "status": "completed"
    },
    "tags": []
   },
   "source": [
    "# Modeling"
   ]
  },
  {
   "cell_type": "code",
   "execution_count": 44,
   "id": "eea14b8c",
   "metadata": {
    "execution": {
     "iopub.execute_input": "2025-01-24T04:13:13.805835Z",
     "iopub.status.busy": "2025-01-24T04:13:13.805480Z",
     "iopub.status.idle": "2025-01-24T04:13:13.841491Z",
     "shell.execute_reply": "2025-01-24T04:13:13.840103Z"
    },
    "papermill": {
     "duration": 0.07247,
     "end_time": "2025-01-24T04:13:13.843311",
     "exception": false,
     "start_time": "2025-01-24T04:13:13.770841",
     "status": "completed"
    },
    "tags": []
   },
   "outputs": [
    {
     "name": "stdout",
     "output_type": "stream",
     "text": [
      "Accuracy: 0.00%\n"
     ]
    }
   ],
   "source": [
    "from sklearn.feature_extraction.text import TfidfVectorizer\n",
    "from sklearn.model_selection import train_test_split\n",
    "from sklearn.naive_bayes import MultinomialNB\n",
    "from sklearn.metrics import accuracy_score\n",
    "\n",
    "# Sample text data (ensure it's properly labeled)\n",
    "X = ['I love machine learning', 'Python is great', 'Text classification is fun', 'I enjoy learning new things']\n",
    "y = [1, 0, 1, 0]  # Example binary sentiment labels (1 = positive, 0 = negative)\n",
    "\n",
    "# Train-test split (with a very small dataset, you may want to ensure each class is represented in both train and test sets)\n",
    "X_train, X_test, y_train, y_test = train_test_split(X, y, test_size=0.25, random_state=42)\n",
    "\n",
    "# Initialize the vectorizer with max_features=5000\n",
    "vectorizer = TfidfVectorizer(max_features=5000)\n",
    "\n",
    "# Fit and transform the training data\n",
    "X_train_tfidf = vectorizer.fit_transform(X_train)\n",
    "\n",
    "# Transform the test data (using the same vocabulary as X_train)\n",
    "X_test_tfidf = vectorizer.transform(X_test)\n",
    "\n",
    "# Example classifier (Naive Bayes)\n",
    "clf = MultinomialNB()\n",
    "\n",
    "# Fit the model to the training data\n",
    "clf.fit(X_train_tfidf, y_train)\n",
    "\n",
    "# Make predictions\n",
    "y_pred = clf.predict(X_test_tfidf)\n",
    "\n",
    "# Evaluate accuracy\n",
    "accuracy = accuracy_score(y_test, y_pred)\n",
    "print(f'Accuracy: {accuracy * 100:.2f}%')\n"
   ]
  },
  {
   "cell_type": "markdown",
   "id": "e4e89702",
   "metadata": {
    "papermill": {
     "duration": 0.037437,
     "end_time": "2025-01-24T04:13:13.913858",
     "exception": false,
     "start_time": "2025-01-24T04:13:13.876421",
     "status": "completed"
    },
    "tags": []
   },
   "source": [
    "# Passive Aggressive Classifier"
   ]
  },
  {
   "cell_type": "code",
   "execution_count": 45,
   "id": "7dcbaa43",
   "metadata": {
    "execution": {
     "iopub.execute_input": "2025-01-24T04:13:13.997175Z",
     "iopub.status.busy": "2025-01-24T04:13:13.996744Z",
     "iopub.status.idle": "2025-01-24T04:13:14.014939Z",
     "shell.execute_reply": "2025-01-24T04:13:14.013598Z"
    },
    "papermill": {
     "duration": 0.06066,
     "end_time": "2025-01-24T04:13:14.016820",
     "exception": false,
     "start_time": "2025-01-24T04:13:13.956160",
     "status": "completed"
    },
    "tags": []
   },
   "outputs": [
    {
     "data": {
      "text/html": [
       "<style>#sk-container-id-1 {\n",
       "  /* Definition of color scheme common for light and dark mode */\n",
       "  --sklearn-color-text: #000;\n",
       "  --sklearn-color-text-muted: #666;\n",
       "  --sklearn-color-line: gray;\n",
       "  /* Definition of color scheme for unfitted estimators */\n",
       "  --sklearn-color-unfitted-level-0: #fff5e6;\n",
       "  --sklearn-color-unfitted-level-1: #f6e4d2;\n",
       "  --sklearn-color-unfitted-level-2: #ffe0b3;\n",
       "  --sklearn-color-unfitted-level-3: chocolate;\n",
       "  /* Definition of color scheme for fitted estimators */\n",
       "  --sklearn-color-fitted-level-0: #f0f8ff;\n",
       "  --sklearn-color-fitted-level-1: #d4ebff;\n",
       "  --sklearn-color-fitted-level-2: #b3dbfd;\n",
       "  --sklearn-color-fitted-level-3: cornflowerblue;\n",
       "\n",
       "  /* Specific color for light theme */\n",
       "  --sklearn-color-text-on-default-background: var(--sg-text-color, var(--theme-code-foreground, var(--jp-content-font-color1, black)));\n",
       "  --sklearn-color-background: var(--sg-background-color, var(--theme-background, var(--jp-layout-color0, white)));\n",
       "  --sklearn-color-border-box: var(--sg-text-color, var(--theme-code-foreground, var(--jp-content-font-color1, black)));\n",
       "  --sklearn-color-icon: #696969;\n",
       "\n",
       "  @media (prefers-color-scheme: dark) {\n",
       "    /* Redefinition of color scheme for dark theme */\n",
       "    --sklearn-color-text-on-default-background: var(--sg-text-color, var(--theme-code-foreground, var(--jp-content-font-color1, white)));\n",
       "    --sklearn-color-background: var(--sg-background-color, var(--theme-background, var(--jp-layout-color0, #111)));\n",
       "    --sklearn-color-border-box: var(--sg-text-color, var(--theme-code-foreground, var(--jp-content-font-color1, white)));\n",
       "    --sklearn-color-icon: #878787;\n",
       "  }\n",
       "}\n",
       "\n",
       "#sk-container-id-1 {\n",
       "  color: var(--sklearn-color-text);\n",
       "}\n",
       "\n",
       "#sk-container-id-1 pre {\n",
       "  padding: 0;\n",
       "}\n",
       "\n",
       "#sk-container-id-1 input.sk-hidden--visually {\n",
       "  border: 0;\n",
       "  clip: rect(1px 1px 1px 1px);\n",
       "  clip: rect(1px, 1px, 1px, 1px);\n",
       "  height: 1px;\n",
       "  margin: -1px;\n",
       "  overflow: hidden;\n",
       "  padding: 0;\n",
       "  position: absolute;\n",
       "  width: 1px;\n",
       "}\n",
       "\n",
       "#sk-container-id-1 div.sk-dashed-wrapped {\n",
       "  border: 1px dashed var(--sklearn-color-line);\n",
       "  margin: 0 0.4em 0.5em 0.4em;\n",
       "  box-sizing: border-box;\n",
       "  padding-bottom: 0.4em;\n",
       "  background-color: var(--sklearn-color-background);\n",
       "}\n",
       "\n",
       "#sk-container-id-1 div.sk-container {\n",
       "  /* jupyter's `normalize.less` sets `[hidden] { display: none; }`\n",
       "     but bootstrap.min.css set `[hidden] { display: none !important; }`\n",
       "     so we also need the `!important` here to be able to override the\n",
       "     default hidden behavior on the sphinx rendered scikit-learn.org.\n",
       "     See: https://github.com/scikit-learn/scikit-learn/issues/21755 */\n",
       "  display: inline-block !important;\n",
       "  position: relative;\n",
       "}\n",
       "\n",
       "#sk-container-id-1 div.sk-text-repr-fallback {\n",
       "  display: none;\n",
       "}\n",
       "\n",
       "div.sk-parallel-item,\n",
       "div.sk-serial,\n",
       "div.sk-item {\n",
       "  /* draw centered vertical line to link estimators */\n",
       "  background-image: linear-gradient(var(--sklearn-color-text-on-default-background), var(--sklearn-color-text-on-default-background));\n",
       "  background-size: 2px 100%;\n",
       "  background-repeat: no-repeat;\n",
       "  background-position: center center;\n",
       "}\n",
       "\n",
       "/* Parallel-specific style estimator block */\n",
       "\n",
       "#sk-container-id-1 div.sk-parallel-item::after {\n",
       "  content: \"\";\n",
       "  width: 100%;\n",
       "  border-bottom: 2px solid var(--sklearn-color-text-on-default-background);\n",
       "  flex-grow: 1;\n",
       "}\n",
       "\n",
       "#sk-container-id-1 div.sk-parallel {\n",
       "  display: flex;\n",
       "  align-items: stretch;\n",
       "  justify-content: center;\n",
       "  background-color: var(--sklearn-color-background);\n",
       "  position: relative;\n",
       "}\n",
       "\n",
       "#sk-container-id-1 div.sk-parallel-item {\n",
       "  display: flex;\n",
       "  flex-direction: column;\n",
       "}\n",
       "\n",
       "#sk-container-id-1 div.sk-parallel-item:first-child::after {\n",
       "  align-self: flex-end;\n",
       "  width: 50%;\n",
       "}\n",
       "\n",
       "#sk-container-id-1 div.sk-parallel-item:last-child::after {\n",
       "  align-self: flex-start;\n",
       "  width: 50%;\n",
       "}\n",
       "\n",
       "#sk-container-id-1 div.sk-parallel-item:only-child::after {\n",
       "  width: 0;\n",
       "}\n",
       "\n",
       "/* Serial-specific style estimator block */\n",
       "\n",
       "#sk-container-id-1 div.sk-serial {\n",
       "  display: flex;\n",
       "  flex-direction: column;\n",
       "  align-items: center;\n",
       "  background-color: var(--sklearn-color-background);\n",
       "  padding-right: 1em;\n",
       "  padding-left: 1em;\n",
       "}\n",
       "\n",
       "\n",
       "/* Toggleable style: style used for estimator/Pipeline/ColumnTransformer box that is\n",
       "clickable and can be expanded/collapsed.\n",
       "- Pipeline and ColumnTransformer use this feature and define the default style\n",
       "- Estimators will overwrite some part of the style using the `sk-estimator` class\n",
       "*/\n",
       "\n",
       "/* Pipeline and ColumnTransformer style (default) */\n",
       "\n",
       "#sk-container-id-1 div.sk-toggleable {\n",
       "  /* Default theme specific background. It is overwritten whether we have a\n",
       "  specific estimator or a Pipeline/ColumnTransformer */\n",
       "  background-color: var(--sklearn-color-background);\n",
       "}\n",
       "\n",
       "/* Toggleable label */\n",
       "#sk-container-id-1 label.sk-toggleable__label {\n",
       "  cursor: pointer;\n",
       "  display: flex;\n",
       "  width: 100%;\n",
       "  margin-bottom: 0;\n",
       "  padding: 0.5em;\n",
       "  box-sizing: border-box;\n",
       "  text-align: center;\n",
       "  align-items: start;\n",
       "  justify-content: space-between;\n",
       "  gap: 0.5em;\n",
       "}\n",
       "\n",
       "#sk-container-id-1 label.sk-toggleable__label .caption {\n",
       "  font-size: 0.6rem;\n",
       "  font-weight: lighter;\n",
       "  color: var(--sklearn-color-text-muted);\n",
       "}\n",
       "\n",
       "#sk-container-id-1 label.sk-toggleable__label-arrow:before {\n",
       "  /* Arrow on the left of the label */\n",
       "  content: \"▸\";\n",
       "  float: left;\n",
       "  margin-right: 0.25em;\n",
       "  color: var(--sklearn-color-icon);\n",
       "}\n",
       "\n",
       "#sk-container-id-1 label.sk-toggleable__label-arrow:hover:before {\n",
       "  color: var(--sklearn-color-text);\n",
       "}\n",
       "\n",
       "/* Toggleable content - dropdown */\n",
       "\n",
       "#sk-container-id-1 div.sk-toggleable__content {\n",
       "  max-height: 0;\n",
       "  max-width: 0;\n",
       "  overflow: hidden;\n",
       "  text-align: left;\n",
       "  /* unfitted */\n",
       "  background-color: var(--sklearn-color-unfitted-level-0);\n",
       "}\n",
       "\n",
       "#sk-container-id-1 div.sk-toggleable__content.fitted {\n",
       "  /* fitted */\n",
       "  background-color: var(--sklearn-color-fitted-level-0);\n",
       "}\n",
       "\n",
       "#sk-container-id-1 div.sk-toggleable__content pre {\n",
       "  margin: 0.2em;\n",
       "  border-radius: 0.25em;\n",
       "  color: var(--sklearn-color-text);\n",
       "  /* unfitted */\n",
       "  background-color: var(--sklearn-color-unfitted-level-0);\n",
       "}\n",
       "\n",
       "#sk-container-id-1 div.sk-toggleable__content.fitted pre {\n",
       "  /* unfitted */\n",
       "  background-color: var(--sklearn-color-fitted-level-0);\n",
       "}\n",
       "\n",
       "#sk-container-id-1 input.sk-toggleable__control:checked~div.sk-toggleable__content {\n",
       "  /* Expand drop-down */\n",
       "  max-height: 200px;\n",
       "  max-width: 100%;\n",
       "  overflow: auto;\n",
       "}\n",
       "\n",
       "#sk-container-id-1 input.sk-toggleable__control:checked~label.sk-toggleable__label-arrow:before {\n",
       "  content: \"▾\";\n",
       "}\n",
       "\n",
       "/* Pipeline/ColumnTransformer-specific style */\n",
       "\n",
       "#sk-container-id-1 div.sk-label input.sk-toggleable__control:checked~label.sk-toggleable__label {\n",
       "  color: var(--sklearn-color-text);\n",
       "  background-color: var(--sklearn-color-unfitted-level-2);\n",
       "}\n",
       "\n",
       "#sk-container-id-1 div.sk-label.fitted input.sk-toggleable__control:checked~label.sk-toggleable__label {\n",
       "  background-color: var(--sklearn-color-fitted-level-2);\n",
       "}\n",
       "\n",
       "/* Estimator-specific style */\n",
       "\n",
       "/* Colorize estimator box */\n",
       "#sk-container-id-1 div.sk-estimator input.sk-toggleable__control:checked~label.sk-toggleable__label {\n",
       "  /* unfitted */\n",
       "  background-color: var(--sklearn-color-unfitted-level-2);\n",
       "}\n",
       "\n",
       "#sk-container-id-1 div.sk-estimator.fitted input.sk-toggleable__control:checked~label.sk-toggleable__label {\n",
       "  /* fitted */\n",
       "  background-color: var(--sklearn-color-fitted-level-2);\n",
       "}\n",
       "\n",
       "#sk-container-id-1 div.sk-label label.sk-toggleable__label,\n",
       "#sk-container-id-1 div.sk-label label {\n",
       "  /* The background is the default theme color */\n",
       "  color: var(--sklearn-color-text-on-default-background);\n",
       "}\n",
       "\n",
       "/* On hover, darken the color of the background */\n",
       "#sk-container-id-1 div.sk-label:hover label.sk-toggleable__label {\n",
       "  color: var(--sklearn-color-text);\n",
       "  background-color: var(--sklearn-color-unfitted-level-2);\n",
       "}\n",
       "\n",
       "/* Label box, darken color on hover, fitted */\n",
       "#sk-container-id-1 div.sk-label.fitted:hover label.sk-toggleable__label.fitted {\n",
       "  color: var(--sklearn-color-text);\n",
       "  background-color: var(--sklearn-color-fitted-level-2);\n",
       "}\n",
       "\n",
       "/* Estimator label */\n",
       "\n",
       "#sk-container-id-1 div.sk-label label {\n",
       "  font-family: monospace;\n",
       "  font-weight: bold;\n",
       "  display: inline-block;\n",
       "  line-height: 1.2em;\n",
       "}\n",
       "\n",
       "#sk-container-id-1 div.sk-label-container {\n",
       "  text-align: center;\n",
       "}\n",
       "\n",
       "/* Estimator-specific */\n",
       "#sk-container-id-1 div.sk-estimator {\n",
       "  font-family: monospace;\n",
       "  border: 1px dotted var(--sklearn-color-border-box);\n",
       "  border-radius: 0.25em;\n",
       "  box-sizing: border-box;\n",
       "  margin-bottom: 0.5em;\n",
       "  /* unfitted */\n",
       "  background-color: var(--sklearn-color-unfitted-level-0);\n",
       "}\n",
       "\n",
       "#sk-container-id-1 div.sk-estimator.fitted {\n",
       "  /* fitted */\n",
       "  background-color: var(--sklearn-color-fitted-level-0);\n",
       "}\n",
       "\n",
       "/* on hover */\n",
       "#sk-container-id-1 div.sk-estimator:hover {\n",
       "  /* unfitted */\n",
       "  background-color: var(--sklearn-color-unfitted-level-2);\n",
       "}\n",
       "\n",
       "#sk-container-id-1 div.sk-estimator.fitted:hover {\n",
       "  /* fitted */\n",
       "  background-color: var(--sklearn-color-fitted-level-2);\n",
       "}\n",
       "\n",
       "/* Specification for estimator info (e.g. \"i\" and \"?\") */\n",
       "\n",
       "/* Common style for \"i\" and \"?\" */\n",
       "\n",
       ".sk-estimator-doc-link,\n",
       "a:link.sk-estimator-doc-link,\n",
       "a:visited.sk-estimator-doc-link {\n",
       "  float: right;\n",
       "  font-size: smaller;\n",
       "  line-height: 1em;\n",
       "  font-family: monospace;\n",
       "  background-color: var(--sklearn-color-background);\n",
       "  border-radius: 1em;\n",
       "  height: 1em;\n",
       "  width: 1em;\n",
       "  text-decoration: none !important;\n",
       "  margin-left: 0.5em;\n",
       "  text-align: center;\n",
       "  /* unfitted */\n",
       "  border: var(--sklearn-color-unfitted-level-1) 1pt solid;\n",
       "  color: var(--sklearn-color-unfitted-level-1);\n",
       "}\n",
       "\n",
       ".sk-estimator-doc-link.fitted,\n",
       "a:link.sk-estimator-doc-link.fitted,\n",
       "a:visited.sk-estimator-doc-link.fitted {\n",
       "  /* fitted */\n",
       "  border: var(--sklearn-color-fitted-level-1) 1pt solid;\n",
       "  color: var(--sklearn-color-fitted-level-1);\n",
       "}\n",
       "\n",
       "/* On hover */\n",
       "div.sk-estimator:hover .sk-estimator-doc-link:hover,\n",
       ".sk-estimator-doc-link:hover,\n",
       "div.sk-label-container:hover .sk-estimator-doc-link:hover,\n",
       ".sk-estimator-doc-link:hover {\n",
       "  /* unfitted */\n",
       "  background-color: var(--sklearn-color-unfitted-level-3);\n",
       "  color: var(--sklearn-color-background);\n",
       "  text-decoration: none;\n",
       "}\n",
       "\n",
       "div.sk-estimator.fitted:hover .sk-estimator-doc-link.fitted:hover,\n",
       ".sk-estimator-doc-link.fitted:hover,\n",
       "div.sk-label-container:hover .sk-estimator-doc-link.fitted:hover,\n",
       ".sk-estimator-doc-link.fitted:hover {\n",
       "  /* fitted */\n",
       "  background-color: var(--sklearn-color-fitted-level-3);\n",
       "  color: var(--sklearn-color-background);\n",
       "  text-decoration: none;\n",
       "}\n",
       "\n",
       "/* Span, style for the box shown on hovering the info icon */\n",
       ".sk-estimator-doc-link span {\n",
       "  display: none;\n",
       "  z-index: 9999;\n",
       "  position: relative;\n",
       "  font-weight: normal;\n",
       "  right: .2ex;\n",
       "  padding: .5ex;\n",
       "  margin: .5ex;\n",
       "  width: min-content;\n",
       "  min-width: 20ex;\n",
       "  max-width: 50ex;\n",
       "  color: var(--sklearn-color-text);\n",
       "  box-shadow: 2pt 2pt 4pt #999;\n",
       "  /* unfitted */\n",
       "  background: var(--sklearn-color-unfitted-level-0);\n",
       "  border: .5pt solid var(--sklearn-color-unfitted-level-3);\n",
       "}\n",
       "\n",
       ".sk-estimator-doc-link.fitted span {\n",
       "  /* fitted */\n",
       "  background: var(--sklearn-color-fitted-level-0);\n",
       "  border: var(--sklearn-color-fitted-level-3);\n",
       "}\n",
       "\n",
       ".sk-estimator-doc-link:hover span {\n",
       "  display: block;\n",
       "}\n",
       "\n",
       "/* \"?\"-specific style due to the `<a>` HTML tag */\n",
       "\n",
       "#sk-container-id-1 a.estimator_doc_link {\n",
       "  float: right;\n",
       "  font-size: 1rem;\n",
       "  line-height: 1em;\n",
       "  font-family: monospace;\n",
       "  background-color: var(--sklearn-color-background);\n",
       "  border-radius: 1rem;\n",
       "  height: 1rem;\n",
       "  width: 1rem;\n",
       "  text-decoration: none;\n",
       "  /* unfitted */\n",
       "  color: var(--sklearn-color-unfitted-level-1);\n",
       "  border: var(--sklearn-color-unfitted-level-1) 1pt solid;\n",
       "}\n",
       "\n",
       "#sk-container-id-1 a.estimator_doc_link.fitted {\n",
       "  /* fitted */\n",
       "  border: var(--sklearn-color-fitted-level-1) 1pt solid;\n",
       "  color: var(--sklearn-color-fitted-level-1);\n",
       "}\n",
       "\n",
       "/* On hover */\n",
       "#sk-container-id-1 a.estimator_doc_link:hover {\n",
       "  /* unfitted */\n",
       "  background-color: var(--sklearn-color-unfitted-level-3);\n",
       "  color: var(--sklearn-color-background);\n",
       "  text-decoration: none;\n",
       "}\n",
       "\n",
       "#sk-container-id-1 a.estimator_doc_link.fitted:hover {\n",
       "  /* fitted */\n",
       "  background-color: var(--sklearn-color-fitted-level-3);\n",
       "}\n",
       "</style><div id=\"sk-container-id-1\" class=\"sk-top-container\"><div class=\"sk-text-repr-fallback\"><pre>PassiveAggressiveClassifier(max_iter=50, random_state=42)</pre><b>In a Jupyter environment, please rerun this cell to show the HTML representation or trust the notebook. <br />On GitHub, the HTML representation is unable to render, please try loading this page with nbviewer.org.</b></div><div class=\"sk-container\" hidden><div class=\"sk-item\"><div class=\"sk-estimator fitted sk-toggleable\"><input class=\"sk-toggleable__control sk-hidden--visually\" id=\"sk-estimator-id-1\" type=\"checkbox\" checked><label for=\"sk-estimator-id-1\" class=\"sk-toggleable__label fitted sk-toggleable__label-arrow\"><div><div>PassiveAggressiveClassifier</div></div><div><a class=\"sk-estimator-doc-link fitted\" rel=\"noreferrer\" target=\"_blank\" href=\"https://scikit-learn.org/1.6/modules/generated/sklearn.linear_model.PassiveAggressiveClassifier.html\">?<span>Documentation for PassiveAggressiveClassifier</span></a><span class=\"sk-estimator-doc-link fitted\">i<span>Fitted</span></span></div></label><div class=\"sk-toggleable__content fitted\"><pre>PassiveAggressiveClassifier(max_iter=50, random_state=42)</pre></div> </div></div></div></div>"
      ],
      "text/plain": [
       "PassiveAggressiveClassifier(max_iter=50, random_state=42)"
      ]
     },
     "execution_count": 45,
     "metadata": {},
     "output_type": "execute_result"
    }
   ],
   "source": [
    "pac_classifier = PassiveAggressiveClassifier(max_iter=50, random_state=42)\n",
    "pac_classifier.fit(X_train_tfidf, y_train)"
   ]
  },
  {
   "cell_type": "markdown",
   "id": "3d13fd44",
   "metadata": {
    "papermill": {
     "duration": 0.033107,
     "end_time": "2025-01-24T04:13:14.400472",
     "exception": false,
     "start_time": "2025-01-24T04:13:14.367365",
     "status": "completed"
    },
    "tags": []
   },
   "source": [
    "# SVM Classifier"
   ]
  },
  {
   "cell_type": "code",
   "execution_count": 48,
   "id": "d8857fdb",
   "metadata": {
    "execution": {
     "iopub.execute_input": "2025-01-24T04:13:14.468573Z",
     "iopub.status.busy": "2025-01-24T04:13:14.468197Z",
     "iopub.status.idle": "2025-01-24T04:13:14.478807Z",
     "shell.execute_reply": "2025-01-24T04:13:14.477821Z"
    },
    "papermill": {
     "duration": 0.046758,
     "end_time": "2025-01-24T04:13:14.480513",
     "exception": false,
     "start_time": "2025-01-24T04:13:14.433755",
     "status": "completed"
    },
    "tags": []
   },
   "outputs": [
    {
     "data": {
      "text/html": [
       "<style>#sk-container-id-2 {\n",
       "  /* Definition of color scheme common for light and dark mode */\n",
       "  --sklearn-color-text: #000;\n",
       "  --sklearn-color-text-muted: #666;\n",
       "  --sklearn-color-line: gray;\n",
       "  /* Definition of color scheme for unfitted estimators */\n",
       "  --sklearn-color-unfitted-level-0: #fff5e6;\n",
       "  --sklearn-color-unfitted-level-1: #f6e4d2;\n",
       "  --sklearn-color-unfitted-level-2: #ffe0b3;\n",
       "  --sklearn-color-unfitted-level-3: chocolate;\n",
       "  /* Definition of color scheme for fitted estimators */\n",
       "  --sklearn-color-fitted-level-0: #f0f8ff;\n",
       "  --sklearn-color-fitted-level-1: #d4ebff;\n",
       "  --sklearn-color-fitted-level-2: #b3dbfd;\n",
       "  --sklearn-color-fitted-level-3: cornflowerblue;\n",
       "\n",
       "  /* Specific color for light theme */\n",
       "  --sklearn-color-text-on-default-background: var(--sg-text-color, var(--theme-code-foreground, var(--jp-content-font-color1, black)));\n",
       "  --sklearn-color-background: var(--sg-background-color, var(--theme-background, var(--jp-layout-color0, white)));\n",
       "  --sklearn-color-border-box: var(--sg-text-color, var(--theme-code-foreground, var(--jp-content-font-color1, black)));\n",
       "  --sklearn-color-icon: #696969;\n",
       "\n",
       "  @media (prefers-color-scheme: dark) {\n",
       "    /* Redefinition of color scheme for dark theme */\n",
       "    --sklearn-color-text-on-default-background: var(--sg-text-color, var(--theme-code-foreground, var(--jp-content-font-color1, white)));\n",
       "    --sklearn-color-background: var(--sg-background-color, var(--theme-background, var(--jp-layout-color0, #111)));\n",
       "    --sklearn-color-border-box: var(--sg-text-color, var(--theme-code-foreground, var(--jp-content-font-color1, white)));\n",
       "    --sklearn-color-icon: #878787;\n",
       "  }\n",
       "}\n",
       "\n",
       "#sk-container-id-2 {\n",
       "  color: var(--sklearn-color-text);\n",
       "}\n",
       "\n",
       "#sk-container-id-2 pre {\n",
       "  padding: 0;\n",
       "}\n",
       "\n",
       "#sk-container-id-2 input.sk-hidden--visually {\n",
       "  border: 0;\n",
       "  clip: rect(1px 1px 1px 1px);\n",
       "  clip: rect(1px, 1px, 1px, 1px);\n",
       "  height: 1px;\n",
       "  margin: -1px;\n",
       "  overflow: hidden;\n",
       "  padding: 0;\n",
       "  position: absolute;\n",
       "  width: 1px;\n",
       "}\n",
       "\n",
       "#sk-container-id-2 div.sk-dashed-wrapped {\n",
       "  border: 1px dashed var(--sklearn-color-line);\n",
       "  margin: 0 0.4em 0.5em 0.4em;\n",
       "  box-sizing: border-box;\n",
       "  padding-bottom: 0.4em;\n",
       "  background-color: var(--sklearn-color-background);\n",
       "}\n",
       "\n",
       "#sk-container-id-2 div.sk-container {\n",
       "  /* jupyter's `normalize.less` sets `[hidden] { display: none; }`\n",
       "     but bootstrap.min.css set `[hidden] { display: none !important; }`\n",
       "     so we also need the `!important` here to be able to override the\n",
       "     default hidden behavior on the sphinx rendered scikit-learn.org.\n",
       "     See: https://github.com/scikit-learn/scikit-learn/issues/21755 */\n",
       "  display: inline-block !important;\n",
       "  position: relative;\n",
       "}\n",
       "\n",
       "#sk-container-id-2 div.sk-text-repr-fallback {\n",
       "  display: none;\n",
       "}\n",
       "\n",
       "div.sk-parallel-item,\n",
       "div.sk-serial,\n",
       "div.sk-item {\n",
       "  /* draw centered vertical line to link estimators */\n",
       "  background-image: linear-gradient(var(--sklearn-color-text-on-default-background), var(--sklearn-color-text-on-default-background));\n",
       "  background-size: 2px 100%;\n",
       "  background-repeat: no-repeat;\n",
       "  background-position: center center;\n",
       "}\n",
       "\n",
       "/* Parallel-specific style estimator block */\n",
       "\n",
       "#sk-container-id-2 div.sk-parallel-item::after {\n",
       "  content: \"\";\n",
       "  width: 100%;\n",
       "  border-bottom: 2px solid var(--sklearn-color-text-on-default-background);\n",
       "  flex-grow: 1;\n",
       "}\n",
       "\n",
       "#sk-container-id-2 div.sk-parallel {\n",
       "  display: flex;\n",
       "  align-items: stretch;\n",
       "  justify-content: center;\n",
       "  background-color: var(--sklearn-color-background);\n",
       "  position: relative;\n",
       "}\n",
       "\n",
       "#sk-container-id-2 div.sk-parallel-item {\n",
       "  display: flex;\n",
       "  flex-direction: column;\n",
       "}\n",
       "\n",
       "#sk-container-id-2 div.sk-parallel-item:first-child::after {\n",
       "  align-self: flex-end;\n",
       "  width: 50%;\n",
       "}\n",
       "\n",
       "#sk-container-id-2 div.sk-parallel-item:last-child::after {\n",
       "  align-self: flex-start;\n",
       "  width: 50%;\n",
       "}\n",
       "\n",
       "#sk-container-id-2 div.sk-parallel-item:only-child::after {\n",
       "  width: 0;\n",
       "}\n",
       "\n",
       "/* Serial-specific style estimator block */\n",
       "\n",
       "#sk-container-id-2 div.sk-serial {\n",
       "  display: flex;\n",
       "  flex-direction: column;\n",
       "  align-items: center;\n",
       "  background-color: var(--sklearn-color-background);\n",
       "  padding-right: 1em;\n",
       "  padding-left: 1em;\n",
       "}\n",
       "\n",
       "\n",
       "/* Toggleable style: style used for estimator/Pipeline/ColumnTransformer box that is\n",
       "clickable and can be expanded/collapsed.\n",
       "- Pipeline and ColumnTransformer use this feature and define the default style\n",
       "- Estimators will overwrite some part of the style using the `sk-estimator` class\n",
       "*/\n",
       "\n",
       "/* Pipeline and ColumnTransformer style (default) */\n",
       "\n",
       "#sk-container-id-2 div.sk-toggleable {\n",
       "  /* Default theme specific background. It is overwritten whether we have a\n",
       "  specific estimator or a Pipeline/ColumnTransformer */\n",
       "  background-color: var(--sklearn-color-background);\n",
       "}\n",
       "\n",
       "/* Toggleable label */\n",
       "#sk-container-id-2 label.sk-toggleable__label {\n",
       "  cursor: pointer;\n",
       "  display: flex;\n",
       "  width: 100%;\n",
       "  margin-bottom: 0;\n",
       "  padding: 0.5em;\n",
       "  box-sizing: border-box;\n",
       "  text-align: center;\n",
       "  align-items: start;\n",
       "  justify-content: space-between;\n",
       "  gap: 0.5em;\n",
       "}\n",
       "\n",
       "#sk-container-id-2 label.sk-toggleable__label .caption {\n",
       "  font-size: 0.6rem;\n",
       "  font-weight: lighter;\n",
       "  color: var(--sklearn-color-text-muted);\n",
       "}\n",
       "\n",
       "#sk-container-id-2 label.sk-toggleable__label-arrow:before {\n",
       "  /* Arrow on the left of the label */\n",
       "  content: \"▸\";\n",
       "  float: left;\n",
       "  margin-right: 0.25em;\n",
       "  color: var(--sklearn-color-icon);\n",
       "}\n",
       "\n",
       "#sk-container-id-2 label.sk-toggleable__label-arrow:hover:before {\n",
       "  color: var(--sklearn-color-text);\n",
       "}\n",
       "\n",
       "/* Toggleable content - dropdown */\n",
       "\n",
       "#sk-container-id-2 div.sk-toggleable__content {\n",
       "  max-height: 0;\n",
       "  max-width: 0;\n",
       "  overflow: hidden;\n",
       "  text-align: left;\n",
       "  /* unfitted */\n",
       "  background-color: var(--sklearn-color-unfitted-level-0);\n",
       "}\n",
       "\n",
       "#sk-container-id-2 div.sk-toggleable__content.fitted {\n",
       "  /* fitted */\n",
       "  background-color: var(--sklearn-color-fitted-level-0);\n",
       "}\n",
       "\n",
       "#sk-container-id-2 div.sk-toggleable__content pre {\n",
       "  margin: 0.2em;\n",
       "  border-radius: 0.25em;\n",
       "  color: var(--sklearn-color-text);\n",
       "  /* unfitted */\n",
       "  background-color: var(--sklearn-color-unfitted-level-0);\n",
       "}\n",
       "\n",
       "#sk-container-id-2 div.sk-toggleable__content.fitted pre {\n",
       "  /* unfitted */\n",
       "  background-color: var(--sklearn-color-fitted-level-0);\n",
       "}\n",
       "\n",
       "#sk-container-id-2 input.sk-toggleable__control:checked~div.sk-toggleable__content {\n",
       "  /* Expand drop-down */\n",
       "  max-height: 200px;\n",
       "  max-width: 100%;\n",
       "  overflow: auto;\n",
       "}\n",
       "\n",
       "#sk-container-id-2 input.sk-toggleable__control:checked~label.sk-toggleable__label-arrow:before {\n",
       "  content: \"▾\";\n",
       "}\n",
       "\n",
       "/* Pipeline/ColumnTransformer-specific style */\n",
       "\n",
       "#sk-container-id-2 div.sk-label input.sk-toggleable__control:checked~label.sk-toggleable__label {\n",
       "  color: var(--sklearn-color-text);\n",
       "  background-color: var(--sklearn-color-unfitted-level-2);\n",
       "}\n",
       "\n",
       "#sk-container-id-2 div.sk-label.fitted input.sk-toggleable__control:checked~label.sk-toggleable__label {\n",
       "  background-color: var(--sklearn-color-fitted-level-2);\n",
       "}\n",
       "\n",
       "/* Estimator-specific style */\n",
       "\n",
       "/* Colorize estimator box */\n",
       "#sk-container-id-2 div.sk-estimator input.sk-toggleable__control:checked~label.sk-toggleable__label {\n",
       "  /* unfitted */\n",
       "  background-color: var(--sklearn-color-unfitted-level-2);\n",
       "}\n",
       "\n",
       "#sk-container-id-2 div.sk-estimator.fitted input.sk-toggleable__control:checked~label.sk-toggleable__label {\n",
       "  /* fitted */\n",
       "  background-color: var(--sklearn-color-fitted-level-2);\n",
       "}\n",
       "\n",
       "#sk-container-id-2 div.sk-label label.sk-toggleable__label,\n",
       "#sk-container-id-2 div.sk-label label {\n",
       "  /* The background is the default theme color */\n",
       "  color: var(--sklearn-color-text-on-default-background);\n",
       "}\n",
       "\n",
       "/* On hover, darken the color of the background */\n",
       "#sk-container-id-2 div.sk-label:hover label.sk-toggleable__label {\n",
       "  color: var(--sklearn-color-text);\n",
       "  background-color: var(--sklearn-color-unfitted-level-2);\n",
       "}\n",
       "\n",
       "/* Label box, darken color on hover, fitted */\n",
       "#sk-container-id-2 div.sk-label.fitted:hover label.sk-toggleable__label.fitted {\n",
       "  color: var(--sklearn-color-text);\n",
       "  background-color: var(--sklearn-color-fitted-level-2);\n",
       "}\n",
       "\n",
       "/* Estimator label */\n",
       "\n",
       "#sk-container-id-2 div.sk-label label {\n",
       "  font-family: monospace;\n",
       "  font-weight: bold;\n",
       "  display: inline-block;\n",
       "  line-height: 1.2em;\n",
       "}\n",
       "\n",
       "#sk-container-id-2 div.sk-label-container {\n",
       "  text-align: center;\n",
       "}\n",
       "\n",
       "/* Estimator-specific */\n",
       "#sk-container-id-2 div.sk-estimator {\n",
       "  font-family: monospace;\n",
       "  border: 1px dotted var(--sklearn-color-border-box);\n",
       "  border-radius: 0.25em;\n",
       "  box-sizing: border-box;\n",
       "  margin-bottom: 0.5em;\n",
       "  /* unfitted */\n",
       "  background-color: var(--sklearn-color-unfitted-level-0);\n",
       "}\n",
       "\n",
       "#sk-container-id-2 div.sk-estimator.fitted {\n",
       "  /* fitted */\n",
       "  background-color: var(--sklearn-color-fitted-level-0);\n",
       "}\n",
       "\n",
       "/* on hover */\n",
       "#sk-container-id-2 div.sk-estimator:hover {\n",
       "  /* unfitted */\n",
       "  background-color: var(--sklearn-color-unfitted-level-2);\n",
       "}\n",
       "\n",
       "#sk-container-id-2 div.sk-estimator.fitted:hover {\n",
       "  /* fitted */\n",
       "  background-color: var(--sklearn-color-fitted-level-2);\n",
       "}\n",
       "\n",
       "/* Specification for estimator info (e.g. \"i\" and \"?\") */\n",
       "\n",
       "/* Common style for \"i\" and \"?\" */\n",
       "\n",
       ".sk-estimator-doc-link,\n",
       "a:link.sk-estimator-doc-link,\n",
       "a:visited.sk-estimator-doc-link {\n",
       "  float: right;\n",
       "  font-size: smaller;\n",
       "  line-height: 1em;\n",
       "  font-family: monospace;\n",
       "  background-color: var(--sklearn-color-background);\n",
       "  border-radius: 1em;\n",
       "  height: 1em;\n",
       "  width: 1em;\n",
       "  text-decoration: none !important;\n",
       "  margin-left: 0.5em;\n",
       "  text-align: center;\n",
       "  /* unfitted */\n",
       "  border: var(--sklearn-color-unfitted-level-1) 1pt solid;\n",
       "  color: var(--sklearn-color-unfitted-level-1);\n",
       "}\n",
       "\n",
       ".sk-estimator-doc-link.fitted,\n",
       "a:link.sk-estimator-doc-link.fitted,\n",
       "a:visited.sk-estimator-doc-link.fitted {\n",
       "  /* fitted */\n",
       "  border: var(--sklearn-color-fitted-level-1) 1pt solid;\n",
       "  color: var(--sklearn-color-fitted-level-1);\n",
       "}\n",
       "\n",
       "/* On hover */\n",
       "div.sk-estimator:hover .sk-estimator-doc-link:hover,\n",
       ".sk-estimator-doc-link:hover,\n",
       "div.sk-label-container:hover .sk-estimator-doc-link:hover,\n",
       ".sk-estimator-doc-link:hover {\n",
       "  /* unfitted */\n",
       "  background-color: var(--sklearn-color-unfitted-level-3);\n",
       "  color: var(--sklearn-color-background);\n",
       "  text-decoration: none;\n",
       "}\n",
       "\n",
       "div.sk-estimator.fitted:hover .sk-estimator-doc-link.fitted:hover,\n",
       ".sk-estimator-doc-link.fitted:hover,\n",
       "div.sk-label-container:hover .sk-estimator-doc-link.fitted:hover,\n",
       ".sk-estimator-doc-link.fitted:hover {\n",
       "  /* fitted */\n",
       "  background-color: var(--sklearn-color-fitted-level-3);\n",
       "  color: var(--sklearn-color-background);\n",
       "  text-decoration: none;\n",
       "}\n",
       "\n",
       "/* Span, style for the box shown on hovering the info icon */\n",
       ".sk-estimator-doc-link span {\n",
       "  display: none;\n",
       "  z-index: 9999;\n",
       "  position: relative;\n",
       "  font-weight: normal;\n",
       "  right: .2ex;\n",
       "  padding: .5ex;\n",
       "  margin: .5ex;\n",
       "  width: min-content;\n",
       "  min-width: 20ex;\n",
       "  max-width: 50ex;\n",
       "  color: var(--sklearn-color-text);\n",
       "  box-shadow: 2pt 2pt 4pt #999;\n",
       "  /* unfitted */\n",
       "  background: var(--sklearn-color-unfitted-level-0);\n",
       "  border: .5pt solid var(--sklearn-color-unfitted-level-3);\n",
       "}\n",
       "\n",
       ".sk-estimator-doc-link.fitted span {\n",
       "  /* fitted */\n",
       "  background: var(--sklearn-color-fitted-level-0);\n",
       "  border: var(--sklearn-color-fitted-level-3);\n",
       "}\n",
       "\n",
       ".sk-estimator-doc-link:hover span {\n",
       "  display: block;\n",
       "}\n",
       "\n",
       "/* \"?\"-specific style due to the `<a>` HTML tag */\n",
       "\n",
       "#sk-container-id-2 a.estimator_doc_link {\n",
       "  float: right;\n",
       "  font-size: 1rem;\n",
       "  line-height: 1em;\n",
       "  font-family: monospace;\n",
       "  background-color: var(--sklearn-color-background);\n",
       "  border-radius: 1rem;\n",
       "  height: 1rem;\n",
       "  width: 1rem;\n",
       "  text-decoration: none;\n",
       "  /* unfitted */\n",
       "  color: var(--sklearn-color-unfitted-level-1);\n",
       "  border: var(--sklearn-color-unfitted-level-1) 1pt solid;\n",
       "}\n",
       "\n",
       "#sk-container-id-2 a.estimator_doc_link.fitted {\n",
       "  /* fitted */\n",
       "  border: var(--sklearn-color-fitted-level-1) 1pt solid;\n",
       "  color: var(--sklearn-color-fitted-level-1);\n",
       "}\n",
       "\n",
       "/* On hover */\n",
       "#sk-container-id-2 a.estimator_doc_link:hover {\n",
       "  /* unfitted */\n",
       "  background-color: var(--sklearn-color-unfitted-level-3);\n",
       "  color: var(--sklearn-color-background);\n",
       "  text-decoration: none;\n",
       "}\n",
       "\n",
       "#sk-container-id-2 a.estimator_doc_link.fitted:hover {\n",
       "  /* fitted */\n",
       "  background-color: var(--sklearn-color-fitted-level-3);\n",
       "}\n",
       "</style><div id=\"sk-container-id-2\" class=\"sk-top-container\"><div class=\"sk-text-repr-fallback\"><pre>SVC(random_state=42)</pre><b>In a Jupyter environment, please rerun this cell to show the HTML representation or trust the notebook. <br />On GitHub, the HTML representation is unable to render, please try loading this page with nbviewer.org.</b></div><div class=\"sk-container\" hidden><div class=\"sk-item\"><div class=\"sk-estimator fitted sk-toggleable\"><input class=\"sk-toggleable__control sk-hidden--visually\" id=\"sk-estimator-id-2\" type=\"checkbox\" checked><label for=\"sk-estimator-id-2\" class=\"sk-toggleable__label fitted sk-toggleable__label-arrow\"><div><div>SVC</div></div><div><a class=\"sk-estimator-doc-link fitted\" rel=\"noreferrer\" target=\"_blank\" href=\"https://scikit-learn.org/1.6/modules/generated/sklearn.svm.SVC.html\">?<span>Documentation for SVC</span></a><span class=\"sk-estimator-doc-link fitted\">i<span>Fitted</span></span></div></label><div class=\"sk-toggleable__content fitted\"><pre>SVC(random_state=42)</pre></div> </div></div></div></div>"
      ],
      "text/plain": [
       "SVC(random_state=42)"
      ]
     },
     "execution_count": 48,
     "metadata": {},
     "output_type": "execute_result"
    }
   ],
   "source": [
    "svm_classifier = SVC(random_state=42)\n",
    "svm_classifier.fit(X_train_tfidf, y_train)"
   ]
  },
  {
   "cell_type": "code",
   "execution_count": 49,
   "id": "5b8f0e8e",
   "metadata": {
    "execution": {
     "iopub.execute_input": "2025-01-24T04:13:14.551830Z",
     "iopub.status.busy": "2025-01-24T04:13:14.551443Z",
     "iopub.status.idle": "2025-01-24T04:13:14.563913Z",
     "shell.execute_reply": "2025-01-24T04:13:14.562870Z"
    },
    "papermill": {
     "duration": 0.050141,
     "end_time": "2025-01-24T04:13:14.565785",
     "exception": false,
     "start_time": "2025-01-24T04:13:14.515644",
     "status": "completed"
    },
    "tags": []
   },
   "outputs": [],
   "source": [
    "y_pred_svm = svm_classifier.predict(X_test_tfidf)\n",
    "accuracy_svm = accuracy_score(y_test, y_pred_svm)\n",
    "classification_rep_svm = classification_report(y_test, y_pred_svm)"
   ]
  },
  {
   "cell_type": "code",
   "execution_count": 50,
   "id": "7f5abce3",
   "metadata": {
    "execution": {
     "iopub.execute_input": "2025-01-24T04:13:14.635927Z",
     "iopub.status.busy": "2025-01-24T04:13:14.635518Z",
     "iopub.status.idle": "2025-01-24T04:13:14.641528Z",
     "shell.execute_reply": "2025-01-24T04:13:14.640378Z"
    },
    "papermill": {
     "duration": 0.043293,
     "end_time": "2025-01-24T04:13:14.643225",
     "exception": false,
     "start_time": "2025-01-24T04:13:14.599932",
     "status": "completed"
    },
    "tags": []
   },
   "outputs": [
    {
     "name": "stdout",
     "output_type": "stream",
     "text": [
      "Support Vector Machine Results:\n",
      "Accuracy: 0.0\n",
      "Classification Report:\n",
      "               precision    recall  f1-score   support\n",
      "\n",
      "           0       0.00      0.00      0.00       1.0\n",
      "           1       0.00      0.00      0.00       0.0\n",
      "\n",
      "    accuracy                           0.00       1.0\n",
      "   macro avg       0.00      0.00      0.00       1.0\n",
      "weighted avg       0.00      0.00      0.00       1.0\n",
      "\n"
     ]
    }
   ],
   "source": [
    "print(\"Support Vector Machine Results:\")\n",
    "print(f\"Accuracy: {accuracy_svm}\")\n",
    "print(\"Classification Report:\\n\", classification_rep_svm)"
   ]
  },
  {
   "cell_type": "markdown",
   "id": "8b89ec44",
   "metadata": {
    "papermill": {
     "duration": 0.034005,
     "end_time": "2025-01-24T04:13:14.711578",
     "exception": false,
     "start_time": "2025-01-24T04:13:14.677573",
     "status": "completed"
    },
    "tags": []
   },
   "source": [
    "# Multinomial NB"
   ]
  },
  {
   "cell_type": "code",
   "execution_count": 51,
   "id": "97962b5b",
   "metadata": {
    "execution": {
     "iopub.execute_input": "2025-01-24T04:13:14.781872Z",
     "iopub.status.busy": "2025-01-24T04:13:14.781513Z",
     "iopub.status.idle": "2025-01-24T04:13:14.790403Z",
     "shell.execute_reply": "2025-01-24T04:13:14.789333Z"
    },
    "papermill": {
     "duration": 0.045981,
     "end_time": "2025-01-24T04:13:14.792216",
     "exception": false,
     "start_time": "2025-01-24T04:13:14.746235",
     "status": "completed"
    },
    "tags": []
   },
   "outputs": [
    {
     "data": {
      "text/html": [
       "<style>#sk-container-id-3 {\n",
       "  /* Definition of color scheme common for light and dark mode */\n",
       "  --sklearn-color-text: #000;\n",
       "  --sklearn-color-text-muted: #666;\n",
       "  --sklearn-color-line: gray;\n",
       "  /* Definition of color scheme for unfitted estimators */\n",
       "  --sklearn-color-unfitted-level-0: #fff5e6;\n",
       "  --sklearn-color-unfitted-level-1: #f6e4d2;\n",
       "  --sklearn-color-unfitted-level-2: #ffe0b3;\n",
       "  --sklearn-color-unfitted-level-3: chocolate;\n",
       "  /* Definition of color scheme for fitted estimators */\n",
       "  --sklearn-color-fitted-level-0: #f0f8ff;\n",
       "  --sklearn-color-fitted-level-1: #d4ebff;\n",
       "  --sklearn-color-fitted-level-2: #b3dbfd;\n",
       "  --sklearn-color-fitted-level-3: cornflowerblue;\n",
       "\n",
       "  /* Specific color for light theme */\n",
       "  --sklearn-color-text-on-default-background: var(--sg-text-color, var(--theme-code-foreground, var(--jp-content-font-color1, black)));\n",
       "  --sklearn-color-background: var(--sg-background-color, var(--theme-background, var(--jp-layout-color0, white)));\n",
       "  --sklearn-color-border-box: var(--sg-text-color, var(--theme-code-foreground, var(--jp-content-font-color1, black)));\n",
       "  --sklearn-color-icon: #696969;\n",
       "\n",
       "  @media (prefers-color-scheme: dark) {\n",
       "    /* Redefinition of color scheme for dark theme */\n",
       "    --sklearn-color-text-on-default-background: var(--sg-text-color, var(--theme-code-foreground, var(--jp-content-font-color1, white)));\n",
       "    --sklearn-color-background: var(--sg-background-color, var(--theme-background, var(--jp-layout-color0, #111)));\n",
       "    --sklearn-color-border-box: var(--sg-text-color, var(--theme-code-foreground, var(--jp-content-font-color1, white)));\n",
       "    --sklearn-color-icon: #878787;\n",
       "  }\n",
       "}\n",
       "\n",
       "#sk-container-id-3 {\n",
       "  color: var(--sklearn-color-text);\n",
       "}\n",
       "\n",
       "#sk-container-id-3 pre {\n",
       "  padding: 0;\n",
       "}\n",
       "\n",
       "#sk-container-id-3 input.sk-hidden--visually {\n",
       "  border: 0;\n",
       "  clip: rect(1px 1px 1px 1px);\n",
       "  clip: rect(1px, 1px, 1px, 1px);\n",
       "  height: 1px;\n",
       "  margin: -1px;\n",
       "  overflow: hidden;\n",
       "  padding: 0;\n",
       "  position: absolute;\n",
       "  width: 1px;\n",
       "}\n",
       "\n",
       "#sk-container-id-3 div.sk-dashed-wrapped {\n",
       "  border: 1px dashed var(--sklearn-color-line);\n",
       "  margin: 0 0.4em 0.5em 0.4em;\n",
       "  box-sizing: border-box;\n",
       "  padding-bottom: 0.4em;\n",
       "  background-color: var(--sklearn-color-background);\n",
       "}\n",
       "\n",
       "#sk-container-id-3 div.sk-container {\n",
       "  /* jupyter's `normalize.less` sets `[hidden] { display: none; }`\n",
       "     but bootstrap.min.css set `[hidden] { display: none !important; }`\n",
       "     so we also need the `!important` here to be able to override the\n",
       "     default hidden behavior on the sphinx rendered scikit-learn.org.\n",
       "     See: https://github.com/scikit-learn/scikit-learn/issues/21755 */\n",
       "  display: inline-block !important;\n",
       "  position: relative;\n",
       "}\n",
       "\n",
       "#sk-container-id-3 div.sk-text-repr-fallback {\n",
       "  display: none;\n",
       "}\n",
       "\n",
       "div.sk-parallel-item,\n",
       "div.sk-serial,\n",
       "div.sk-item {\n",
       "  /* draw centered vertical line to link estimators */\n",
       "  background-image: linear-gradient(var(--sklearn-color-text-on-default-background), var(--sklearn-color-text-on-default-background));\n",
       "  background-size: 2px 100%;\n",
       "  background-repeat: no-repeat;\n",
       "  background-position: center center;\n",
       "}\n",
       "\n",
       "/* Parallel-specific style estimator block */\n",
       "\n",
       "#sk-container-id-3 div.sk-parallel-item::after {\n",
       "  content: \"\";\n",
       "  width: 100%;\n",
       "  border-bottom: 2px solid var(--sklearn-color-text-on-default-background);\n",
       "  flex-grow: 1;\n",
       "}\n",
       "\n",
       "#sk-container-id-3 div.sk-parallel {\n",
       "  display: flex;\n",
       "  align-items: stretch;\n",
       "  justify-content: center;\n",
       "  background-color: var(--sklearn-color-background);\n",
       "  position: relative;\n",
       "}\n",
       "\n",
       "#sk-container-id-3 div.sk-parallel-item {\n",
       "  display: flex;\n",
       "  flex-direction: column;\n",
       "}\n",
       "\n",
       "#sk-container-id-3 div.sk-parallel-item:first-child::after {\n",
       "  align-self: flex-end;\n",
       "  width: 50%;\n",
       "}\n",
       "\n",
       "#sk-container-id-3 div.sk-parallel-item:last-child::after {\n",
       "  align-self: flex-start;\n",
       "  width: 50%;\n",
       "}\n",
       "\n",
       "#sk-container-id-3 div.sk-parallel-item:only-child::after {\n",
       "  width: 0;\n",
       "}\n",
       "\n",
       "/* Serial-specific style estimator block */\n",
       "\n",
       "#sk-container-id-3 div.sk-serial {\n",
       "  display: flex;\n",
       "  flex-direction: column;\n",
       "  align-items: center;\n",
       "  background-color: var(--sklearn-color-background);\n",
       "  padding-right: 1em;\n",
       "  padding-left: 1em;\n",
       "}\n",
       "\n",
       "\n",
       "/* Toggleable style: style used for estimator/Pipeline/ColumnTransformer box that is\n",
       "clickable and can be expanded/collapsed.\n",
       "- Pipeline and ColumnTransformer use this feature and define the default style\n",
       "- Estimators will overwrite some part of the style using the `sk-estimator` class\n",
       "*/\n",
       "\n",
       "/* Pipeline and ColumnTransformer style (default) */\n",
       "\n",
       "#sk-container-id-3 div.sk-toggleable {\n",
       "  /* Default theme specific background. It is overwritten whether we have a\n",
       "  specific estimator or a Pipeline/ColumnTransformer */\n",
       "  background-color: var(--sklearn-color-background);\n",
       "}\n",
       "\n",
       "/* Toggleable label */\n",
       "#sk-container-id-3 label.sk-toggleable__label {\n",
       "  cursor: pointer;\n",
       "  display: flex;\n",
       "  width: 100%;\n",
       "  margin-bottom: 0;\n",
       "  padding: 0.5em;\n",
       "  box-sizing: border-box;\n",
       "  text-align: center;\n",
       "  align-items: start;\n",
       "  justify-content: space-between;\n",
       "  gap: 0.5em;\n",
       "}\n",
       "\n",
       "#sk-container-id-3 label.sk-toggleable__label .caption {\n",
       "  font-size: 0.6rem;\n",
       "  font-weight: lighter;\n",
       "  color: var(--sklearn-color-text-muted);\n",
       "}\n",
       "\n",
       "#sk-container-id-3 label.sk-toggleable__label-arrow:before {\n",
       "  /* Arrow on the left of the label */\n",
       "  content: \"▸\";\n",
       "  float: left;\n",
       "  margin-right: 0.25em;\n",
       "  color: var(--sklearn-color-icon);\n",
       "}\n",
       "\n",
       "#sk-container-id-3 label.sk-toggleable__label-arrow:hover:before {\n",
       "  color: var(--sklearn-color-text);\n",
       "}\n",
       "\n",
       "/* Toggleable content - dropdown */\n",
       "\n",
       "#sk-container-id-3 div.sk-toggleable__content {\n",
       "  max-height: 0;\n",
       "  max-width: 0;\n",
       "  overflow: hidden;\n",
       "  text-align: left;\n",
       "  /* unfitted */\n",
       "  background-color: var(--sklearn-color-unfitted-level-0);\n",
       "}\n",
       "\n",
       "#sk-container-id-3 div.sk-toggleable__content.fitted {\n",
       "  /* fitted */\n",
       "  background-color: var(--sklearn-color-fitted-level-0);\n",
       "}\n",
       "\n",
       "#sk-container-id-3 div.sk-toggleable__content pre {\n",
       "  margin: 0.2em;\n",
       "  border-radius: 0.25em;\n",
       "  color: var(--sklearn-color-text);\n",
       "  /* unfitted */\n",
       "  background-color: var(--sklearn-color-unfitted-level-0);\n",
       "}\n",
       "\n",
       "#sk-container-id-3 div.sk-toggleable__content.fitted pre {\n",
       "  /* unfitted */\n",
       "  background-color: var(--sklearn-color-fitted-level-0);\n",
       "}\n",
       "\n",
       "#sk-container-id-3 input.sk-toggleable__control:checked~div.sk-toggleable__content {\n",
       "  /* Expand drop-down */\n",
       "  max-height: 200px;\n",
       "  max-width: 100%;\n",
       "  overflow: auto;\n",
       "}\n",
       "\n",
       "#sk-container-id-3 input.sk-toggleable__control:checked~label.sk-toggleable__label-arrow:before {\n",
       "  content: \"▾\";\n",
       "}\n",
       "\n",
       "/* Pipeline/ColumnTransformer-specific style */\n",
       "\n",
       "#sk-container-id-3 div.sk-label input.sk-toggleable__control:checked~label.sk-toggleable__label {\n",
       "  color: var(--sklearn-color-text);\n",
       "  background-color: var(--sklearn-color-unfitted-level-2);\n",
       "}\n",
       "\n",
       "#sk-container-id-3 div.sk-label.fitted input.sk-toggleable__control:checked~label.sk-toggleable__label {\n",
       "  background-color: var(--sklearn-color-fitted-level-2);\n",
       "}\n",
       "\n",
       "/* Estimator-specific style */\n",
       "\n",
       "/* Colorize estimator box */\n",
       "#sk-container-id-3 div.sk-estimator input.sk-toggleable__control:checked~label.sk-toggleable__label {\n",
       "  /* unfitted */\n",
       "  background-color: var(--sklearn-color-unfitted-level-2);\n",
       "}\n",
       "\n",
       "#sk-container-id-3 div.sk-estimator.fitted input.sk-toggleable__control:checked~label.sk-toggleable__label {\n",
       "  /* fitted */\n",
       "  background-color: var(--sklearn-color-fitted-level-2);\n",
       "}\n",
       "\n",
       "#sk-container-id-3 div.sk-label label.sk-toggleable__label,\n",
       "#sk-container-id-3 div.sk-label label {\n",
       "  /* The background is the default theme color */\n",
       "  color: var(--sklearn-color-text-on-default-background);\n",
       "}\n",
       "\n",
       "/* On hover, darken the color of the background */\n",
       "#sk-container-id-3 div.sk-label:hover label.sk-toggleable__label {\n",
       "  color: var(--sklearn-color-text);\n",
       "  background-color: var(--sklearn-color-unfitted-level-2);\n",
       "}\n",
       "\n",
       "/* Label box, darken color on hover, fitted */\n",
       "#sk-container-id-3 div.sk-label.fitted:hover label.sk-toggleable__label.fitted {\n",
       "  color: var(--sklearn-color-text);\n",
       "  background-color: var(--sklearn-color-fitted-level-2);\n",
       "}\n",
       "\n",
       "/* Estimator label */\n",
       "\n",
       "#sk-container-id-3 div.sk-label label {\n",
       "  font-family: monospace;\n",
       "  font-weight: bold;\n",
       "  display: inline-block;\n",
       "  line-height: 1.2em;\n",
       "}\n",
       "\n",
       "#sk-container-id-3 div.sk-label-container {\n",
       "  text-align: center;\n",
       "}\n",
       "\n",
       "/* Estimator-specific */\n",
       "#sk-container-id-3 div.sk-estimator {\n",
       "  font-family: monospace;\n",
       "  border: 1px dotted var(--sklearn-color-border-box);\n",
       "  border-radius: 0.25em;\n",
       "  box-sizing: border-box;\n",
       "  margin-bottom: 0.5em;\n",
       "  /* unfitted */\n",
       "  background-color: var(--sklearn-color-unfitted-level-0);\n",
       "}\n",
       "\n",
       "#sk-container-id-3 div.sk-estimator.fitted {\n",
       "  /* fitted */\n",
       "  background-color: var(--sklearn-color-fitted-level-0);\n",
       "}\n",
       "\n",
       "/* on hover */\n",
       "#sk-container-id-3 div.sk-estimator:hover {\n",
       "  /* unfitted */\n",
       "  background-color: var(--sklearn-color-unfitted-level-2);\n",
       "}\n",
       "\n",
       "#sk-container-id-3 div.sk-estimator.fitted:hover {\n",
       "  /* fitted */\n",
       "  background-color: var(--sklearn-color-fitted-level-2);\n",
       "}\n",
       "\n",
       "/* Specification for estimator info (e.g. \"i\" and \"?\") */\n",
       "\n",
       "/* Common style for \"i\" and \"?\" */\n",
       "\n",
       ".sk-estimator-doc-link,\n",
       "a:link.sk-estimator-doc-link,\n",
       "a:visited.sk-estimator-doc-link {\n",
       "  float: right;\n",
       "  font-size: smaller;\n",
       "  line-height: 1em;\n",
       "  font-family: monospace;\n",
       "  background-color: var(--sklearn-color-background);\n",
       "  border-radius: 1em;\n",
       "  height: 1em;\n",
       "  width: 1em;\n",
       "  text-decoration: none !important;\n",
       "  margin-left: 0.5em;\n",
       "  text-align: center;\n",
       "  /* unfitted */\n",
       "  border: var(--sklearn-color-unfitted-level-1) 1pt solid;\n",
       "  color: var(--sklearn-color-unfitted-level-1);\n",
       "}\n",
       "\n",
       ".sk-estimator-doc-link.fitted,\n",
       "a:link.sk-estimator-doc-link.fitted,\n",
       "a:visited.sk-estimator-doc-link.fitted {\n",
       "  /* fitted */\n",
       "  border: var(--sklearn-color-fitted-level-1) 1pt solid;\n",
       "  color: var(--sklearn-color-fitted-level-1);\n",
       "}\n",
       "\n",
       "/* On hover */\n",
       "div.sk-estimator:hover .sk-estimator-doc-link:hover,\n",
       ".sk-estimator-doc-link:hover,\n",
       "div.sk-label-container:hover .sk-estimator-doc-link:hover,\n",
       ".sk-estimator-doc-link:hover {\n",
       "  /* unfitted */\n",
       "  background-color: var(--sklearn-color-unfitted-level-3);\n",
       "  color: var(--sklearn-color-background);\n",
       "  text-decoration: none;\n",
       "}\n",
       "\n",
       "div.sk-estimator.fitted:hover .sk-estimator-doc-link.fitted:hover,\n",
       ".sk-estimator-doc-link.fitted:hover,\n",
       "div.sk-label-container:hover .sk-estimator-doc-link.fitted:hover,\n",
       ".sk-estimator-doc-link.fitted:hover {\n",
       "  /* fitted */\n",
       "  background-color: var(--sklearn-color-fitted-level-3);\n",
       "  color: var(--sklearn-color-background);\n",
       "  text-decoration: none;\n",
       "}\n",
       "\n",
       "/* Span, style for the box shown on hovering the info icon */\n",
       ".sk-estimator-doc-link span {\n",
       "  display: none;\n",
       "  z-index: 9999;\n",
       "  position: relative;\n",
       "  font-weight: normal;\n",
       "  right: .2ex;\n",
       "  padding: .5ex;\n",
       "  margin: .5ex;\n",
       "  width: min-content;\n",
       "  min-width: 20ex;\n",
       "  max-width: 50ex;\n",
       "  color: var(--sklearn-color-text);\n",
       "  box-shadow: 2pt 2pt 4pt #999;\n",
       "  /* unfitted */\n",
       "  background: var(--sklearn-color-unfitted-level-0);\n",
       "  border: .5pt solid var(--sklearn-color-unfitted-level-3);\n",
       "}\n",
       "\n",
       ".sk-estimator-doc-link.fitted span {\n",
       "  /* fitted */\n",
       "  background: var(--sklearn-color-fitted-level-0);\n",
       "  border: var(--sklearn-color-fitted-level-3);\n",
       "}\n",
       "\n",
       ".sk-estimator-doc-link:hover span {\n",
       "  display: block;\n",
       "}\n",
       "\n",
       "/* \"?\"-specific style due to the `<a>` HTML tag */\n",
       "\n",
       "#sk-container-id-3 a.estimator_doc_link {\n",
       "  float: right;\n",
       "  font-size: 1rem;\n",
       "  line-height: 1em;\n",
       "  font-family: monospace;\n",
       "  background-color: var(--sklearn-color-background);\n",
       "  border-radius: 1rem;\n",
       "  height: 1rem;\n",
       "  width: 1rem;\n",
       "  text-decoration: none;\n",
       "  /* unfitted */\n",
       "  color: var(--sklearn-color-unfitted-level-1);\n",
       "  border: var(--sklearn-color-unfitted-level-1) 1pt solid;\n",
       "}\n",
       "\n",
       "#sk-container-id-3 a.estimator_doc_link.fitted {\n",
       "  /* fitted */\n",
       "  border: var(--sklearn-color-fitted-level-1) 1pt solid;\n",
       "  color: var(--sklearn-color-fitted-level-1);\n",
       "}\n",
       "\n",
       "/* On hover */\n",
       "#sk-container-id-3 a.estimator_doc_link:hover {\n",
       "  /* unfitted */\n",
       "  background-color: var(--sklearn-color-unfitted-level-3);\n",
       "  color: var(--sklearn-color-background);\n",
       "  text-decoration: none;\n",
       "}\n",
       "\n",
       "#sk-container-id-3 a.estimator_doc_link.fitted:hover {\n",
       "  /* fitted */\n",
       "  background-color: var(--sklearn-color-fitted-level-3);\n",
       "}\n",
       "</style><div id=\"sk-container-id-3\" class=\"sk-top-container\"><div class=\"sk-text-repr-fallback\"><pre>MultinomialNB()</pre><b>In a Jupyter environment, please rerun this cell to show the HTML representation or trust the notebook. <br />On GitHub, the HTML representation is unable to render, please try loading this page with nbviewer.org.</b></div><div class=\"sk-container\" hidden><div class=\"sk-item\"><div class=\"sk-estimator fitted sk-toggleable\"><input class=\"sk-toggleable__control sk-hidden--visually\" id=\"sk-estimator-id-3\" type=\"checkbox\" checked><label for=\"sk-estimator-id-3\" class=\"sk-toggleable__label fitted sk-toggleable__label-arrow\"><div><div>MultinomialNB</div></div><div><a class=\"sk-estimator-doc-link fitted\" rel=\"noreferrer\" target=\"_blank\" href=\"https://scikit-learn.org/1.6/modules/generated/sklearn.naive_bayes.MultinomialNB.html\">?<span>Documentation for MultinomialNB</span></a><span class=\"sk-estimator-doc-link fitted\">i<span>Fitted</span></span></div></label><div class=\"sk-toggleable__content fitted\"><pre>MultinomialNB()</pre></div> </div></div></div></div>"
      ],
      "text/plain": [
       "MultinomialNB()"
      ]
     },
     "execution_count": 51,
     "metadata": {},
     "output_type": "execute_result"
    }
   ],
   "source": [
    "nb_classifier = MultinomialNB()\n",
    "nb_classifier.fit(X_train_tfidf, y_train)"
   ]
  },
  {
   "cell_type": "code",
   "execution_count": 52,
   "id": "267e1b09",
   "metadata": {
    "execution": {
     "iopub.execute_input": "2025-01-24T04:13:14.863710Z",
     "iopub.status.busy": "2025-01-24T04:13:14.863332Z",
     "iopub.status.idle": "2025-01-24T04:13:14.875755Z",
     "shell.execute_reply": "2025-01-24T04:13:14.874799Z"
    },
    "papermill": {
     "duration": 0.051236,
     "end_time": "2025-01-24T04:13:14.877751",
     "exception": false,
     "start_time": "2025-01-24T04:13:14.826515",
     "status": "completed"
    },
    "tags": []
   },
   "outputs": [],
   "source": [
    "y_pred_nb = nb_classifier.predict(X_test_tfidf)\n",
    "accuracy_nb = accuracy_score(y_test, y_pred_nb)\n",
    "classification_rep_nb = classification_report(y_test, y_pred_nb)"
   ]
  },
  {
   "cell_type": "code",
   "execution_count": 53,
   "id": "aa1dd948",
   "metadata": {
    "execution": {
     "iopub.execute_input": "2025-01-24T04:13:14.948214Z",
     "iopub.status.busy": "2025-01-24T04:13:14.947804Z",
     "iopub.status.idle": "2025-01-24T04:13:14.953357Z",
     "shell.execute_reply": "2025-01-24T04:13:14.952075Z"
    },
    "papermill": {
     "duration": 0.042614,
     "end_time": "2025-01-24T04:13:14.955185",
     "exception": false,
     "start_time": "2025-01-24T04:13:14.912571",
     "status": "completed"
    },
    "tags": []
   },
   "outputs": [
    {
     "name": "stdout",
     "output_type": "stream",
     "text": [
      "\n",
      "Multinomial Naive Bayes Results:\n",
      "Accuracy: 0.0\n",
      "Classification Report:\n",
      "               precision    recall  f1-score   support\n",
      "\n",
      "           0       0.00      0.00      0.00       1.0\n",
      "           1       0.00      0.00      0.00       0.0\n",
      "\n",
      "    accuracy                           0.00       1.0\n",
      "   macro avg       0.00      0.00      0.00       1.0\n",
      "weighted avg       0.00      0.00      0.00       1.0\n",
      "\n"
     ]
    }
   ],
   "source": [
    "print(\"\\nMultinomial Naive Bayes Results:\")\n",
    "print(f\"Accuracy: {accuracy_nb}\")\n",
    "print(\"Classification Report:\\n\", classification_rep_nb)"
   ]
  },
  {
   "cell_type": "markdown",
   "id": "ec33a64d",
   "metadata": {
    "papermill": {
     "duration": 0.034011,
     "end_time": "2025-01-24T04:13:15.023676",
     "exception": false,
     "start_time": "2025-01-24T04:13:14.989665",
     "status": "completed"
    },
    "tags": []
   },
   "source": [
    "# Best Modeling : Passive Aggressive Classifier"
   ]
  },
  {
   "cell_type": "markdown",
   "id": "c6de8de0",
   "metadata": {
    "papermill": {
     "duration": 0.034582,
     "end_time": "2025-01-24T04:13:15.096138",
     "exception": false,
     "start_time": "2025-01-24T04:13:15.061556",
     "status": "completed"
    },
    "tags": []
   },
   "source": [
    "**Hyperparameters**"
   ]
  },
  {
   "cell_type": "code",
   "execution_count": 54,
   "id": "ffa4d658",
   "metadata": {
    "execution": {
     "iopub.execute_input": "2025-01-24T04:13:15.181208Z",
     "iopub.status.busy": "2025-01-24T04:13:15.180776Z",
     "iopub.status.idle": "2025-01-24T04:13:15.185282Z",
     "shell.execute_reply": "2025-01-24T04:13:15.184345Z"
    },
    "papermill": {
     "duration": 0.040487,
     "end_time": "2025-01-24T04:13:15.186817",
     "exception": false,
     "start_time": "2025-01-24T04:13:15.146330",
     "status": "completed"
    },
    "tags": []
   },
   "outputs": [],
   "source": [
    "param_dist = {\n",
    "    'C': [0.1, 0.5, 1.0],\n",
    "    'fit_intercept': [True, False],\n",
    "    'shuffle': [True, False],\n",
    "    'verbose': [0, 1],\n",
    "}"
   ]
  },
  {
   "cell_type": "code",
   "execution_count": 55,
   "id": "c106db62",
   "metadata": {
    "execution": {
     "iopub.execute_input": "2025-01-24T04:13:15.256269Z",
     "iopub.status.busy": "2025-01-24T04:13:15.255858Z",
     "iopub.status.idle": "2025-01-24T04:13:27.857352Z",
     "shell.execute_reply": "2025-01-24T04:13:27.856152Z"
    },
    "papermill": {
     "duration": 12.638584,
     "end_time": "2025-01-24T04:13:27.859551",
     "exception": false,
     "start_time": "2025-01-24T04:13:15.220967",
     "status": "completed"
    },
    "tags": []
   },
   "outputs": [
    {
     "name": "stdout",
     "output_type": "stream",
     "text": [
      "-- Epoch 1\n",
      "Norm: 16.03, NNZs: 11152, Bias: 0.129192, T: 666, Avg. loss: 0.591133\n",
      "Total training time: 0.00 seconds.\n",
      "-- Epoch 2\n",
      "Norm: 18.88, NNZs: 11152, Bias: 0.099357, T: 1332, Avg. loss: 0.134678\n",
      "Total training time: 0.00 seconds.\n",
      "-- Epoch 3\n",
      "Norm: 19.46, NNZs: 11152, Bias: 0.100661, T: 1998, Avg. loss: 0.048059\n",
      "Total training time: 0.00 seconds.\n",
      "-- Epoch 4\n",
      "Norm: 19.58, NNZs: 11152, Bias: 0.102676, T: 2664, Avg. loss: 0.032988\n",
      "Total training time: 0.00 seconds.\n",
      "-- Epoch 5\n",
      "Norm: 19.61, NNZs: 11152, Bias: 0.103780, T: 3330, Avg. loss: 0.030024\n",
      "Total training time: 0.00 seconds.\n",
      "-- Epoch 6\n",
      "Norm: 19.62, NNZs: 11152, Bias: 0.103902, T: 3996, Avg. loss: 0.029280\n",
      "Total training time: 0.00 seconds.\n",
      "-- Epoch 7\n",
      "Norm: 19.62, NNZs: 11152, Bias: 0.103816, T: 4662, Avg. loss: 0.029175\n",
      "Total training time: 0.00 seconds.\n",
      "-- Epoch 8\n",
      "Norm: 19.62, NNZs: 11152, Bias: 0.103817, T: 5328, Avg. loss: 0.029156\n",
      "Total training time: 0.00 seconds.\n",
      "-- Epoch 9\n",
      "Norm: 19.62, NNZs: 11152, Bias: 0.103818, T: 5994, Avg. loss: 0.029155\n",
      "Total training time: 0.01 seconds.\n",
      "-- Epoch 10\n",
      "Norm: 19.62, NNZs: 11152, Bias: 0.103818, T: 6660, Avg. loss: 0.029155\n",
      "Total training time: 0.01 seconds.\n",
      "Convergence after 10 epochs took 0.01 seconds\n",
      "-- Epoch 1\n",
      "Norm: 15.92, NNZs: 10376, Bias: 0.119376, T: 670, Avg. loss: 0.609657\n",
      "Total training time: 0.00 seconds.\n",
      "-- Epoch 2\n",
      "Norm: 19.05, NNZs: 10376, Bias: 0.082376, T: 1340, Avg. loss: 0.138672\n",
      "Total training time: 0.00 seconds.\n",
      "-- Epoch 3\n",
      "Norm: 19.66, NNZs: 10376, Bias: 0.073470, T: 2010, Avg. loss: 0.043904\n",
      "Total training time: 0.00 seconds.\n",
      "-- Epoch 4\n",
      "Norm: 19.79, NNZs: 10376, Bias: 0.075699, T: 2680, Avg. loss: 0.027435\n",
      "Total training time: 0.00 seconds.\n",
      "-- Epoch 5\n",
      "Norm: 19.83, NNZs: 10376, Bias: 0.078719, T: 3350, Avg. loss: 0.024426\n",
      "Total training time: 0.00 seconds.\n",
      "-- Epoch 6\n",
      "Norm: 19.84, NNZs: 10376, Bias: 0.079082, T: 4020, Avg. loss: 0.023505\n",
      "Total training time: 0.00 seconds.\n",
      "-- Epoch 7\n",
      "Norm: 19.84, NNZs: 10376, Bias: 0.078970, T: 4690, Avg. loss: 0.023346\n",
      "Total training time: 0.00 seconds.\n",
      "-- Epoch 8\n",
      "Norm: 19.84, NNZs: 10376, Bias: 0.078969, T: 5360, Avg. loss: 0.023324\n",
      "Total training time: 0.00 seconds.\n",
      "-- Epoch 9\n",
      "Norm: 19.84, NNZs: 10376, Bias: 0.078969, T: 6030, Avg. loss: 0.023324\n",
      "Total training time: 0.00 seconds.\n",
      "-- Epoch 10\n",
      "Norm: 19.84, NNZs: 10376, Bias: 0.078969, T: 6700, Avg. loss: 0.023324\n",
      "Total training time: 0.00 seconds.\n",
      "Convergence after 10 epochs took 0.00 seconds\n",
      "-- Epoch 1\n",
      "Norm: 15.97, NNZs: 10579, Bias: 0.144234, T: 668, Avg. loss: 0.594305\n",
      "Total training time: 0.00 seconds.\n",
      "-- Epoch 2\n",
      "Norm: 19.07, NNZs: 10579, Bias: 0.096192, T: 1336, Avg. loss: 0.136819\n",
      "Total training time: 0.00 seconds.\n",
      "-- Epoch 3\n",
      "Norm: 19.62, NNZs: 10579, Bias: 0.087933, T: 2004, Avg. loss: 0.043665\n",
      "Total training time: 0.00 seconds.\n",
      "-- Epoch 4\n",
      "Norm: 19.76, NNZs: 10579, Bias: 0.094066, T: 2672, Avg. loss: 0.030085\n",
      "Total training time: 0.00 seconds.\n",
      "-- Epoch 5\n",
      "Norm: 19.79, NNZs: 10579, Bias: 0.097262, T: 3340, Avg. loss: 0.026754\n",
      "Total training time: 0.00 seconds.\n",
      "-- Epoch 6\n",
      "Norm: 19.80, NNZs: 10579, Bias: 0.097385, T: 4008, Avg. loss: 0.025809\n",
      "Total training time: 0.00 seconds.\n",
      "-- Epoch 7\n",
      "Norm: 19.80, NNZs: 10579, Bias: 0.097323, T: 4676, Avg. loss: 0.025681\n",
      "Total training time: 0.00 seconds.\n",
      "-- Epoch 8\n",
      "Norm: 19.80, NNZs: 10579, Bias: 0.097323, T: 5344, Avg. loss: 0.025672\n",
      "Total training time: 0.00 seconds.\n",
      "-- Epoch 9\n",
      "Norm: 19.80, NNZs: 10579, Bias: 0.097323, T: 6012, Avg. loss: 0.025672\n",
      "Total training time: 0.00 seconds.\n",
      "-- Epoch 10\n",
      "Norm: 19.80, NNZs: 10579, Bias: 0.097323, T: 6680, Avg. loss: 0.025672\n",
      "Total training time: 0.00 seconds.\n",
      "Convergence after 10 epochs took 0.00 seconds\n",
      "-- Epoch 1\n",
      "Norm: 16.03, NNZs: 10418, Bias: 0.103057, T: 667, Avg. loss: 0.591981\n",
      "Total training time: 0.00 seconds.\n",
      "-- Epoch 2\n",
      "Norm: 18.93, NNZs: 10419, Bias: 0.066592, T: 1334, Avg. loss: 0.135164\n",
      "Total training time: 0.00 seconds.\n",
      "-- Epoch 3\n",
      "Norm: 19.45, NNZs: 10419, Bias: 0.060174, T: 2001, Avg. loss: 0.047139\n",
      "Total training time: 0.00 seconds.\n",
      "-- Epoch 4\n",
      "Norm: 19.63, NNZs: 10435, Bias: 0.063820, T: 2668, Avg. loss: 0.034593\n",
      "Total training time: 0.00 seconds.\n",
      "-- Epoch 5\n",
      "Norm: 19.68, NNZs: 10435, Bias: 0.066270, T: 3335, Avg. loss: 0.030441\n",
      "Total training time: 0.00 seconds.\n",
      "-- Epoch 6\n",
      "Norm: 19.69, NNZs: 10435, Bias: 0.067060, T: 4002, Avg. loss: 0.029185\n",
      "Total training time: 0.00 seconds.\n",
      "-- Epoch 7\n",
      "Norm: 19.69, NNZs: 10435, Bias: 0.066937, T: 4669, Avg. loss: 0.028959\n",
      "Total training time: 0.00 seconds.\n",
      "-- Epoch 8\n",
      "Norm: 19.69, NNZs: 10435, Bias: 0.066926, T: 5336, Avg. loss: 0.028919\n",
      "Total training time: 0.00 seconds.\n",
      "-- Epoch 9\n",
      "Norm: 19.69, NNZs: 10435, Bias: 0.066926, T: 6003, Avg. loss: 0.028917\n",
      "Total training time: 0.00 seconds.\n",
      "-- Epoch 10\n",
      "Norm: 19.69, NNZs: 10435, Bias: 0.066926, T: 6670, Avg. loss: 0.028917\n",
      "Total training time: 0.00 seconds.\n",
      "-- Epoch 11\n",
      "Norm: 19.69, NNZs: 10435, Bias: 0.066926, T: 7337, Avg. loss: 0.028917\n",
      "Total training time: 0.00 seconds.\n",
      "Convergence after 11 epochs took 0.00 seconds\n",
      "-- Epoch 1\n",
      "Norm: 16.20, NNZs: 10806, Bias: 0.164559, T: 669, Avg. loss: 0.587686\n",
      "Total training time: 0.00 seconds.\n",
      "-- Epoch 2\n",
      "Norm: 18.92, NNZs: 10806, Bias: 0.124404, T: 1338, Avg. loss: 0.121854\n",
      "Total training time: 0.00 seconds.\n",
      "-- Epoch 3\n",
      "Norm: 19.39, NNZs: 10806, Bias: 0.112620, T: 2007, Avg. loss: 0.040743\n",
      "Total training time: 0.00 seconds.\n",
      "-- Epoch 4\n",
      "Norm: 19.49, NNZs: 10806, Bias: 0.116873, T: 2676, Avg. loss: 0.029528\n",
      "Total training time: 0.00 seconds.\n",
      "-- Epoch 5\n",
      "Norm: 19.51, NNZs: 10806, Bias: 0.118992, T: 3345, Avg. loss: 0.027016\n",
      "Total training time: 0.00 seconds.\n",
      "-- Epoch 6\n",
      "Norm: 19.51, NNZs: 10806, Bias: 0.118938, T: 4014, Avg. loss: 0.026578\n",
      "Total training time: 0.00 seconds.\n",
      "-- Epoch 7\n",
      "Norm: 19.51, NNZs: 10806, Bias: 0.118932, T: 4683, Avg. loss: 0.026549\n",
      "Total training time: 0.00 seconds.\n",
      "-- Epoch 8\n",
      "Norm: 19.51, NNZs: 10806, Bias: 0.118932, T: 5352, Avg. loss: 0.026547\n",
      "Total training time: 0.00 seconds.\n",
      "-- Epoch 9\n",
      "Norm: 19.51, NNZs: 10806, Bias: 0.118932, T: 6021, Avg. loss: 0.026547\n",
      "Total training time: 0.00 seconds.\n",
      "-- Epoch 10\n",
      "Norm: 19.51, NNZs: 10806, Bias: 0.118932, T: 6690, Avg. loss: 0.026547\n",
      "Total training time: 0.00 seconds.\n",
      "Convergence after 10 epochs took 0.00 seconds\n",
      "-- Epoch 1\n",
      "Norm: 16.02, NNZs: 11200, Bias: 0.106557, T: 666, Avg. loss: 0.587941\n",
      "Total training time: 0.00 seconds.\n",
      "-- Epoch 2\n",
      "Norm: 19.03, NNZs: 11204, Bias: 0.135724, T: 1332, Avg. loss: 0.138935\n",
      "Total training time: 0.00 seconds.\n",
      "-- Epoch 3\n",
      "Norm: 19.62, NNZs: 11204, Bias: 0.103330, T: 1998, Avg. loss: 0.048072\n",
      "Total training time: 0.00 seconds.\n",
      "-- Epoch 4\n",
      "Norm: 19.76, NNZs: 11204, Bias: 0.106916, T: 2664, Avg. loss: 0.033518\n",
      "Total training time: 0.00 seconds.\n",
      "-- Epoch 5\n",
      "Norm: 19.79, NNZs: 11204, Bias: 0.107948, T: 3330, Avg. loss: 0.030038\n",
      "Total training time: 0.00 seconds.\n",
      "-- Epoch 6\n",
      "Norm: 19.79, NNZs: 11204, Bias: 0.107867, T: 3996, Avg. loss: 0.029256\n",
      "Total training time: 0.00 seconds.\n",
      "-- Epoch 7\n",
      "Norm: 19.79, NNZs: 11204, Bias: 0.107856, T: 4662, Avg. loss: 0.029167\n",
      "Total training time: 0.00 seconds.\n",
      "-- Epoch 8\n",
      "Norm: 19.79, NNZs: 11204, Bias: 0.107854, T: 5328, Avg. loss: 0.029156\n",
      "Total training time: 0.00 seconds.\n",
      "-- Epoch 9\n",
      "Norm: 19.79, NNZs: 11204, Bias: 0.107854, T: 5994, Avg. loss: 0.029155\n",
      "Total training time: 0.00 seconds.\n",
      "-- Epoch 10\n",
      "Norm: 19.79, NNZs: 11204, Bias: 0.107854, T: 6660, Avg. loss: 0.029155\n",
      "Total training time: 0.00 seconds.\n",
      "Convergence after 10 epochs took 0.00 seconds\n",
      "-- Epoch 1\n",
      "Norm: 16.14, NNZs: 11126, Bias: 0.101493, T: 670, Avg. loss: 0.598950\n",
      "Total training time: 0.00 seconds.\n",
      "-- Epoch 2\n",
      "Norm: 19.28, NNZs: 11126, Bias: 0.113178, T: 1340, Avg. loss: 0.139020\n",
      "Total training time: 0.00 seconds.\n",
      "-- Epoch 3\n",
      "Norm: 19.92, NNZs: 11126, Bias: 0.069808, T: 2010, Avg. loss: 0.044345\n",
      "Total training time: 0.00 seconds.\n",
      "-- Epoch 4\n",
      "Norm: 20.09, NNZs: 11126, Bias: 0.083362, T: 2680, Avg. loss: 0.028773\n",
      "Total training time: 0.00 seconds.\n",
      "-- Epoch 5\n",
      "Norm: 20.12, NNZs: 11126, Bias: 0.080709, T: 3350, Avg. loss: 0.024164\n",
      "Total training time: 0.00 seconds.\n",
      "-- Epoch 6\n",
      "Norm: 20.12, NNZs: 11126, Bias: 0.081160, T: 4020, Avg. loss: 0.023445\n",
      "Total training time: 0.00 seconds.\n",
      "-- Epoch 7\n",
      "Norm: 20.12, NNZs: 11126, Bias: 0.081129, T: 4690, Avg. loss: 0.023332\n",
      "Total training time: 0.00 seconds.\n",
      "-- Epoch 8\n",
      "Norm: 20.12, NNZs: 11126, Bias: 0.081128, T: 5360, Avg. loss: 0.023324\n",
      "Total training time: 0.00 seconds.\n",
      "-- Epoch 9\n",
      "Norm: 20.12, NNZs: 11126, Bias: 0.081128, T: 6030, Avg. loss: 0.023324\n",
      "Total training time: 0.00 seconds.\n",
      "-- Epoch 10\n",
      "Norm: 20.12, NNZs: 11126, Bias: 0.081128, T: 6700, Avg. loss: 0.023324\n",
      "Total training time: 0.00 seconds.\n",
      "Convergence after 10 epochs took 0.00 seconds\n",
      "-- Epoch 1\n",
      "Norm: 16.07, NNZs: 11132, Bias: 0.136758, T: 668, Avg. loss: 0.589148\n",
      "Total training time: 0.00 seconds.\n",
      "-- Epoch 2\n",
      "Norm: 19.18, NNZs: 11132, Bias: 0.117555, T: 1336, Avg. loss: 0.137736\n",
      "Total training time: 0.00 seconds.\n",
      "-- Epoch 3\n",
      "Norm: 19.72, NNZs: 11140, Bias: 0.097963, T: 2004, Avg. loss: 0.043429\n",
      "Total training time: 0.00 seconds.\n",
      "-- Epoch 4\n",
      "Norm: 19.86, NNZs: 11140, Bias: 0.103922, T: 2672, Avg. loss: 0.030050\n",
      "Total training time: 0.00 seconds.\n",
      "-- Epoch 5\n",
      "Norm: 19.89, NNZs: 11140, Bias: 0.101834, T: 3340, Avg. loss: 0.026569\n",
      "Total training time: 0.00 seconds.\n",
      "-- Epoch 6\n",
      "Norm: 19.90, NNZs: 11140, Bias: 0.102244, T: 4008, Avg. loss: 0.025754\n",
      "Total training time: 0.00 seconds.\n",
      "-- Epoch 7\n",
      "Norm: 19.90, NNZs: 11140, Bias: 0.102211, T: 4676, Avg. loss: 0.025653\n",
      "Total training time: 0.00 seconds.\n",
      "-- Epoch 8\n",
      "Norm: 19.90, NNZs: 11140, Bias: 0.102210, T: 5344, Avg. loss: 0.025643\n",
      "Total training time: 0.00 seconds.\n",
      "-- Epoch 9\n",
      "Norm: 19.90, NNZs: 11140, Bias: 0.102211, T: 6012, Avg. loss: 0.025643\n",
      "Total training time: 0.00 seconds.\n",
      "-- Epoch 10\n",
      "Norm: 19.90, NNZs: 11140, Bias: 0.102211, T: 6680, Avg. loss: 0.025643\n",
      "Total training time: 0.00 seconds.\n",
      "Convergence after 10 epochs took 0.00 seconds\n",
      "-- Epoch 1\n",
      "Norm: 16.00, NNZs: 10798, Bias: 0.081918, T: 667, Avg. loss: 0.589503\n",
      "Total training time: 0.00 seconds.\n",
      "-- Epoch 2\n",
      "Norm: 18.96, NNZs: 10798, Bias: 0.067185, T: 1334, Avg. loss: 0.138026\n",
      "Total training time: 0.00 seconds.\n",
      "-- Epoch 3\n",
      "Norm: 19.53, NNZs: 10798, Bias: 0.063807, T: 2001, Avg. loss: 0.048324\n",
      "Total training time: 0.00 seconds.\n",
      "-- Epoch 4\n",
      "Norm: 19.67, NNZs: 10798, Bias: 0.058187, T: 2668, Avg. loss: 0.033120\n",
      "Total training time: 0.00 seconds.\n",
      "-- Epoch 5\n",
      "Norm: 19.72, NNZs: 10798, Bias: 0.062071, T: 3335, Avg. loss: 0.030455\n",
      "Total training time: 0.00 seconds.\n",
      "-- Epoch 6\n",
      "Norm: 19.73, NNZs: 10798, Bias: 0.061859, T: 4002, Avg. loss: 0.029160\n",
      "Total training time: 0.00 seconds.\n",
      "-- Epoch 7\n",
      "Norm: 19.73, NNZs: 10798, Bias: 0.061861, T: 4669, Avg. loss: 0.028960\n",
      "Total training time: 0.00 seconds.\n",
      "-- Epoch 8\n",
      "Norm: 19.73, NNZs: 10798, Bias: 0.061856, T: 5336, Avg. loss: 0.028935\n",
      "Total training time: 0.00 seconds.\n",
      "-- Epoch 9\n",
      "Norm: 19.73, NNZs: 10798, Bias: 0.061857, T: 6003, Avg. loss: 0.028933\n",
      "Total training time: 0.00 seconds.\n",
      "-- Epoch 10\n",
      "Norm: 19.73, NNZs: 10798, Bias: 0.061857, T: 6670, Avg. loss: 0.028932\n",
      "Total training time: 0.00 seconds.\n",
      "-- Epoch 11\n",
      "Norm: 19.73, NNZs: 10798, Bias: 0.061857, T: 7337, Avg. loss: 0.028932\n",
      "Total training time: 0.00 seconds.\n",
      "Convergence after 11 epochs took 0.00 seconds\n",
      "-- Epoch 1\n",
      "Norm: 16.05, NNZs: 10755, Bias: 0.121508, T: 669, Avg. loss: 0.589461\n",
      "Total training time: 0.00 seconds.\n",
      "-- Epoch 2\n",
      "Norm: 18.87, NNZs: 10755, Bias: 0.096969, T: 1338, Avg. loss: 0.126482\n",
      "Total training time: 0.00 seconds.\n",
      "-- Epoch 3\n",
      "Norm: 19.39, NNZs: 10755, Bias: 0.105550, T: 2007, Avg. loss: 0.042687\n",
      "Total training time: 0.00 seconds.\n",
      "-- Epoch 4\n",
      "Norm: 19.48, NNZs: 10755, Bias: 0.107901, T: 2676, Avg. loss: 0.029096\n",
      "Total training time: 0.00 seconds.\n",
      "-- Epoch 5\n",
      "Norm: 19.49, NNZs: 10755, Bias: 0.107110, T: 3345, Avg. loss: 0.026778\n",
      "Total training time: 0.00 seconds.\n",
      "-- Epoch 6\n",
      "Norm: 19.49, NNZs: 10755, Bias: 0.107441, T: 4014, Avg. loss: 0.026583\n",
      "Total training time: 0.00 seconds.\n",
      "-- Epoch 7\n",
      "Norm: 19.49, NNZs: 10755, Bias: 0.107360, T: 4683, Avg. loss: 0.026533\n",
      "Total training time: 0.00 seconds.\n",
      "-- Epoch 8\n",
      "Norm: 19.49, NNZs: 10755, Bias: 0.107364, T: 5352, Avg. loss: 0.026515\n",
      "Total training time: 0.00 seconds.\n",
      "-- Epoch 9\n",
      "Norm: 19.49, NNZs: 10755, Bias: 0.107363, T: 6021, Avg. loss: 0.026514\n",
      "Total training time: 0.00 seconds.\n",
      "-- Epoch 10\n",
      "Norm: 19.49, NNZs: 10755, Bias: 0.107363, T: 6690, Avg. loss: 0.026513\n",
      "Total training time: 0.00 seconds.\n",
      "Convergence after 10 epochs took 0.00 seconds\n",
      "-- Epoch 1\n",
      "Norm: 16.09, NNZs: 11272, Bias: 0.000000, T: 666, Avg. loss: 0.591390\n",
      "Total training time: 0.00 seconds.\n",
      "-- Epoch 2\n",
      "Norm: 19.09, NNZs: 11276, Bias: 0.000000, T: 1332, Avg. loss: 0.138537\n",
      "Total training time: 0.00 seconds.\n",
      "-- Epoch 3\n",
      "Norm: 19.63, NNZs: 11276, Bias: 0.000000, T: 1998, Avg. loss: 0.047260\n",
      "Total training time: 0.00 seconds.\n",
      "-- Epoch 4\n",
      "Norm: 19.75, NNZs: 11276, Bias: 0.000000, T: 2664, Avg. loss: 0.032986\n",
      "Total training time: 0.00 seconds.\n",
      "-- Epoch 5\n",
      "Norm: 19.78, NNZs: 11276, Bias: 0.000000, T: 3330, Avg. loss: 0.029963\n",
      "Total training time: 0.00 seconds.\n",
      "-- Epoch 6\n",
      "Norm: 19.79, NNZs: 11276, Bias: 0.000000, T: 3996, Avg. loss: 0.029265\n",
      "Total training time: 0.00 seconds.\n",
      "-- Epoch 7\n",
      "Norm: 19.79, NNZs: 11276, Bias: 0.000000, T: 4662, Avg. loss: 0.029172\n",
      "Total training time: 0.00 seconds.\n",
      "-- Epoch 8\n",
      "Norm: 19.79, NNZs: 11276, Bias: 0.000000, T: 5328, Avg. loss: 0.029157\n",
      "Total training time: 0.00 seconds.\n",
      "-- Epoch 9\n",
      "Norm: 19.79, NNZs: 11276, Bias: 0.000000, T: 5994, Avg. loss: 0.029155\n",
      "Total training time: 0.00 seconds.\n",
      "-- Epoch 10\n",
      "Norm: 19.79, NNZs: 11276, Bias: 0.000000, T: 6660, Avg. loss: 0.029155\n",
      "Total training time: 0.00 seconds.\n",
      "Convergence after 10 epochs took 0.00 seconds\n",
      "-- Epoch 1\n",
      "Norm: 16.22, NNZs: 11149, Bias: 0.000000, T: 670, Avg. loss: 0.601167\n",
      "Total training time: 0.00 seconds.\n",
      "-- Epoch 2\n",
      "Norm: 19.34, NNZs: 11149, Bias: 0.000000, T: 1340, Avg. loss: 0.138224\n",
      "Total training time: 0.00 seconds.\n",
      "-- Epoch 3\n",
      "Norm: 19.90, NNZs: 11149, Bias: 0.000000, T: 2010, Avg. loss: 0.042478\n",
      "Total training time: 0.00 seconds.\n",
      "-- Epoch 4\n",
      "Norm: 20.03, NNZs: 11149, Bias: 0.000000, T: 2680, Avg. loss: 0.027484\n",
      "Total training time: 0.00 seconds.\n",
      "-- Epoch 5\n",
      "Norm: 20.06, NNZs: 11149, Bias: 0.000000, T: 3350, Avg. loss: 0.024047\n",
      "Total training time: 0.00 seconds.\n",
      "-- Epoch 6\n",
      "Norm: 20.06, NNZs: 11149, Bias: 0.000000, T: 4020, Avg. loss: 0.023420\n",
      "Total training time: 0.00 seconds.\n",
      "-- Epoch 7\n",
      "Norm: 20.06, NNZs: 11149, Bias: 0.000000, T: 4690, Avg. loss: 0.023331\n",
      "Total training time: 0.00 seconds.\n",
      "-- Epoch 8\n",
      "Norm: 20.06, NNZs: 11149, Bias: 0.000000, T: 5360, Avg. loss: 0.023324\n",
      "Total training time: 0.00 seconds.\n",
      "-- Epoch 9\n",
      "Norm: 20.06, NNZs: 11149, Bias: 0.000000, T: 6030, Avg. loss: 0.023324\n",
      "Total training time: 0.00 seconds.\n",
      "-- Epoch 10\n",
      "Norm: 20.06, NNZs: 11149, Bias: 0.000000, T: 6700, Avg. loss: 0.023324\n",
      "Total training time: 0.02 seconds.\n",
      "Convergence after 10 epochs took 0.02 seconds\n",
      "-- Epoch 1\n",
      "Norm: 16.16, NNZs: 11085, Bias: 0.000000, T: 668, Avg. loss: 0.594518\n",
      "Total training time: 0.00 seconds.\n",
      "-- Epoch 2\n",
      "Norm: 19.26, NNZs: 11085, Bias: 0.000000, T: 1336, Avg. loss: 0.137406\n",
      "Total training time: 0.00 seconds.\n",
      "-- Epoch 3\n",
      "Norm: 19.75, NNZs: 11085, Bias: 0.000000, T: 2004, Avg. loss: 0.042848\n",
      "Total training time: 0.00 seconds.\n",
      "-- Epoch 4\n",
      "Norm: 19.87, NNZs: 11085, Bias: 0.000000, T: 2672, Avg. loss: 0.029982\n",
      "Total training time: 0.00 seconds.\n",
      "-- Epoch 5\n",
      "Norm: 19.90, NNZs: 11085, Bias: 0.000000, T: 3340, Avg. loss: 0.027112\n",
      "Total training time: 0.00 seconds.\n",
      "-- Epoch 6\n",
      "Norm: 19.90, NNZs: 11085, Bias: 0.000000, T: 4008, Avg. loss: 0.026343\n",
      "Total training time: 0.00 seconds.\n",
      "-- Epoch 7\n",
      "Norm: 19.90, NNZs: 11085, Bias: 0.000000, T: 4676, Avg. loss: 0.026252\n",
      "Total training time: 0.00 seconds.\n",
      "-- Epoch 8\n",
      "Norm: 19.90, NNZs: 11085, Bias: 0.000000, T: 5344, Avg. loss: 0.026241\n",
      "Total training time: 0.00 seconds.\n",
      "-- Epoch 9\n",
      "Norm: 19.90, NNZs: 11085, Bias: 0.000000, T: 6012, Avg. loss: 0.026239\n",
      "Total training time: 0.00 seconds.\n",
      "-- Epoch 10\n",
      "Norm: 19.90, NNZs: 11085, Bias: 0.000000, T: 6680, Avg. loss: 0.026239\n",
      "Total training time: 0.00 seconds.\n",
      "Convergence after 10 epochs took 0.00 seconds\n",
      "-- Epoch 1\n",
      "Norm: 16.08, NNZs: 10870, Bias: 0.000000, T: 667, Avg. loss: 0.590807\n",
      "Total training time: 0.00 seconds.\n",
      "-- Epoch 2\n",
      "Norm: 19.01, NNZs: 10870, Bias: 0.000000, T: 1334, Avg. loss: 0.136770\n",
      "Total training time: 0.00 seconds.\n",
      "-- Epoch 3\n",
      "Norm: 19.55, NNZs: 10870, Bias: 0.000000, T: 2001, Avg. loss: 0.047411\n",
      "Total training time: 0.00 seconds.\n",
      "-- Epoch 4\n",
      "Norm: 19.67, NNZs: 10870, Bias: 0.000000, T: 2668, Avg. loss: 0.033091\n",
      "Total training time: 0.00 seconds.\n",
      "-- Epoch 5\n",
      "Norm: 19.72, NNZs: 10870, Bias: 0.000000, T: 3335, Avg. loss: 0.030591\n",
      "Total training time: 0.00 seconds.\n",
      "-- Epoch 6\n",
      "Norm: 19.73, NNZs: 10870, Bias: 0.000000, T: 4002, Avg. loss: 0.029315\n",
      "Total training time: 0.00 seconds.\n",
      "-- Epoch 7\n",
      "Norm: 19.73, NNZs: 10870, Bias: 0.000000, T: 4669, Avg. loss: 0.029148\n",
      "Total training time: 0.00 seconds.\n",
      "-- Epoch 8\n",
      "Norm: 19.73, NNZs: 10870, Bias: 0.000000, T: 5336, Avg. loss: 0.029117\n",
      "Total training time: 0.00 seconds.\n",
      "-- Epoch 9\n",
      "Norm: 19.73, NNZs: 10870, Bias: 0.000000, T: 6003, Avg. loss: 0.029113\n",
      "Total training time: 0.00 seconds.\n",
      "-- Epoch 10\n",
      "Norm: 19.73, NNZs: 10870, Bias: 0.000000, T: 6670, Avg. loss: 0.029112\n",
      "Total training time: 0.00 seconds.\n",
      "-- Epoch 11\n",
      "Norm: 19.73, NNZs: 10870, Bias: 0.000000, T: 7337, Avg. loss: 0.029112\n",
      "Total training time: 0.00 seconds.\n",
      "Convergence after 11 epochs took 0.00 seconds\n",
      "-- Epoch 1\n",
      "Norm: 16.15, NNZs: 10810, Bias: 0.000000, T: 669, Avg. loss: 0.593511\n",
      "Total training time: 0.00 seconds.\n",
      "-- Epoch 2\n",
      "Norm: 18.96, NNZs: 10811, Bias: 0.000000, T: 1338, Avg. loss: 0.126568\n",
      "Total training time: 0.00 seconds.\n",
      "-- Epoch 3\n",
      "Norm: 19.45, NNZs: 10811, Bias: 0.000000, T: 2007, Avg. loss: 0.041252\n",
      "Total training time: 0.00 seconds.\n",
      "-- Epoch 4\n",
      "Norm: 19.54, NNZs: 10811, Bias: 0.000000, T: 2676, Avg. loss: 0.028605\n",
      "Total training time: 0.00 seconds.\n",
      "-- Epoch 5\n",
      "Norm: 19.55, NNZs: 10811, Bias: 0.000000, T: 3345, Avg. loss: 0.026465\n",
      "Total training time: 0.00 seconds.\n",
      "-- Epoch 6\n",
      "Norm: 19.55, NNZs: 10811, Bias: 0.000000, T: 4014, Avg. loss: 0.026258\n",
      "Total training time: 0.00 seconds.\n",
      "-- Epoch 7\n",
      "Norm: 19.55, NNZs: 10811, Bias: 0.000000, T: 4683, Avg. loss: 0.026217\n",
      "Total training time: 0.00 seconds.\n",
      "-- Epoch 8\n",
      "Norm: 19.55, NNZs: 10811, Bias: 0.000000, T: 5352, Avg. loss: 0.026203\n",
      "Total training time: 0.00 seconds.\n",
      "-- Epoch 9\n",
      "Norm: 19.55, NNZs: 10811, Bias: 0.000000, T: 6021, Avg. loss: 0.026201\n",
      "Total training time: 0.00 seconds.\n",
      "-- Epoch 10\n",
      "Norm: 19.55, NNZs: 10811, Bias: 0.000000, T: 6690, Avg. loss: 0.026201\n",
      "Total training time: 0.00 seconds.\n",
      "Convergence after 10 epochs took 0.00 seconds\n",
      "-- Epoch 1\n",
      "Norm: 4.90, NNZs: 14192, Bias: 0.053106, T: 666, Avg. loss: 0.866252\n",
      "Total training time: 0.00 seconds.\n",
      "-- Epoch 2\n",
      "Norm: 8.83, NNZs: 14192, Bias: 0.092328, T: 1332, Avg. loss: 0.558298\n",
      "Total training time: 0.00 seconds.\n",
      "-- Epoch 3\n",
      "Norm: 11.71, NNZs: 14192, Bias: 0.111737, T: 1998, Avg. loss: 0.367292\n",
      "Total training time: 0.00 seconds.\n",
      "-- Epoch 4\n",
      "Norm: 13.67, NNZs: 14192, Bias: 0.119017, T: 2664, Avg. loss: 0.252029\n",
      "Total training time: 0.00 seconds.\n",
      "-- Epoch 5\n",
      "Norm: 15.10, NNZs: 14192, Bias: 0.121873, T: 3330, Avg. loss: 0.184296\n",
      "Total training time: 0.00 seconds.\n",
      "-- Epoch 6\n",
      "Norm: 16.15, NNZs: 14192, Bias: 0.120437, T: 3996, Avg. loss: 0.137823\n",
      "Total training time: 0.00 seconds.\n",
      "-- Epoch 7\n",
      "Norm: 16.99, NNZs: 14192, Bias: 0.110971, T: 4662, Avg. loss: 0.105315\n",
      "Total training time: 0.00 seconds.\n",
      "-- Epoch 8\n",
      "Norm: 17.65, NNZs: 14192, Bias: 0.111946, T: 5328, Avg. loss: 0.081400\n",
      "Total training time: 0.00 seconds.\n",
      "-- Epoch 9\n",
      "Norm: 18.12, NNZs: 14192, Bias: 0.101345, T: 5994, Avg. loss: 0.062583\n",
      "Total training time: 0.00 seconds.\n",
      "-- Epoch 10\n",
      "Norm: 18.44, NNZs: 14192, Bias: 0.104753, T: 6660, Avg. loss: 0.050517\n",
      "Total training time: 0.00 seconds.\n",
      "-- Epoch 11\n",
      "Norm: 18.65, NNZs: 14192, Bias: 0.103070, T: 7326, Avg. loss: 0.042309\n",
      "Total training time: 0.00 seconds.\n",
      "-- Epoch 12\n",
      "Norm: 18.80, NNZs: 14192, Bias: 0.099261, T: 7992, Avg. loss: 0.037267\n",
      "Total training time: 0.00 seconds.\n",
      "-- Epoch 13\n",
      "Norm: 18.89, NNZs: 14192, Bias: 0.097023, T: 8658, Avg. loss: 0.033710\n",
      "Total training time: 0.00 seconds.\n",
      "-- Epoch 14\n",
      "Norm: 18.95, NNZs: 14192, Bias: 0.098485, T: 9324, Avg. loss: 0.032168\n",
      "Total training time: 0.00 seconds.\n",
      "-- Epoch 15\n",
      "Norm: 18.97, NNZs: 14192, Bias: 0.098628, T: 9990, Avg. loss: 0.030657\n",
      "Total training time: 0.00 seconds.\n",
      "-- Epoch 16\n",
      "Norm: 18.99, NNZs: 14192, Bias: 0.097699, T: 10656, Avg. loss: 0.030209\n",
      "Total training time: 0.00 seconds.\n",
      "-- Epoch 17\n",
      "Norm: 19.00, NNZs: 14192, Bias: 0.098327, T: 11322, Avg. loss: 0.029980\n",
      "Total training time: 0.00 seconds.\n",
      "-- Epoch 18\n",
      "Norm: 19.02, NNZs: 14192, Bias: 0.098095, T: 11988, Avg. loss: 0.029746\n",
      "Total training time: 0.00 seconds.\n",
      "-- Epoch 19\n",
      "Norm: 19.02, NNZs: 14192, Bias: 0.097200, T: 12654, Avg. loss: 0.029489\n",
      "Total training time: 0.00 seconds.\n",
      "-- Epoch 20\n",
      "Norm: 19.04, NNZs: 14192, Bias: 0.097866, T: 13320, Avg. loss: 0.029519\n",
      "Total training time: 0.00 seconds.\n",
      "Convergence after 20 epochs took 0.00 seconds\n",
      "-- Epoch 1\n",
      "Norm: 4.86, NNZs: 13588, Bias: 0.056000, T: 670, Avg. loss: 0.875164\n",
      "Total training time: 0.00 seconds.\n",
      "-- Epoch 2\n",
      "Norm: 8.81, NNZs: 13588, Bias: 0.087922, T: 1340, Avg. loss: 0.569262\n",
      "Total training time: 0.00 seconds.\n",
      "-- Epoch 3\n",
      "Norm: 11.66, NNZs: 13588, Bias: 0.106564, T: 2010, Avg. loss: 0.376792\n",
      "Total training time: 0.00 seconds.\n",
      "-- Epoch 4\n",
      "Norm: 13.68, NNZs: 13588, Bias: 0.107439, T: 2680, Avg. loss: 0.262689\n",
      "Total training time: 0.00 seconds.\n",
      "-- Epoch 5\n",
      "Norm: 15.20, NNZs: 13588, Bias: 0.101958, T: 3350, Avg. loss: 0.189577\n",
      "Total training time: 0.00 seconds.\n",
      "-- Epoch 6\n",
      "Norm: 16.36, NNZs: 13588, Bias: 0.103190, T: 4020, Avg. loss: 0.139821\n",
      "Total training time: 0.00 seconds.\n",
      "-- Epoch 7\n",
      "Norm: 17.22, NNZs: 13588, Bias: 0.090452, T: 4690, Avg. loss: 0.103431\n",
      "Total training time: 0.00 seconds.\n",
      "-- Epoch 8\n",
      "Norm: 17.92, NNZs: 13588, Bias: 0.089176, T: 5360, Avg. loss: 0.078202\n",
      "Total training time: 0.00 seconds.\n",
      "-- Epoch 9\n",
      "Norm: 18.39, NNZs: 13588, Bias: 0.080102, T: 6030, Avg. loss: 0.058199\n",
      "Total training time: 0.00 seconds.\n",
      "-- Epoch 10\n",
      "Norm: 18.72, NNZs: 13588, Bias: 0.081237, T: 6700, Avg. loss: 0.045900\n",
      "Total training time: 0.00 seconds.\n",
      "-- Epoch 11\n",
      "Norm: 18.92, NNZs: 13588, Bias: 0.076165, T: 7370, Avg. loss: 0.037515\n",
      "Total training time: 0.00 seconds.\n",
      "-- Epoch 12\n",
      "Norm: 19.07, NNZs: 13588, Bias: 0.071915, T: 8040, Avg. loss: 0.032544\n",
      "Total training time: 0.00 seconds.\n",
      "-- Epoch 13\n",
      "Norm: 19.17, NNZs: 13588, Bias: 0.070577, T: 8710, Avg. loss: 0.028997\n",
      "Total training time: 0.00 seconds.\n",
      "-- Epoch 14\n",
      "Norm: 19.24, NNZs: 13588, Bias: 0.071867, T: 9380, Avg. loss: 0.026956\n",
      "Total training time: 0.00 seconds.\n",
      "-- Epoch 15\n",
      "Norm: 19.29, NNZs: 13588, Bias: 0.072196, T: 10050, Avg. loss: 0.025399\n",
      "Total training time: 0.00 seconds.\n",
      "-- Epoch 16\n",
      "Norm: 19.30, NNZs: 13588, Bias: 0.070849, T: 10720, Avg. loss: 0.024274\n",
      "Total training time: 0.00 seconds.\n",
      "-- Epoch 17\n",
      "Norm: 19.31, NNZs: 13588, Bias: 0.071240, T: 11390, Avg. loss: 0.024087\n",
      "Total training time: 0.00 seconds.\n",
      "-- Epoch 18\n",
      "Norm: 19.32, NNZs: 13588, Bias: 0.071046, T: 12060, Avg. loss: 0.023894\n",
      "Total training time: 0.00 seconds.\n",
      "-- Epoch 19\n",
      "Norm: 19.33, NNZs: 13588, Bias: 0.070134, T: 12730, Avg. loss: 0.023641\n",
      "Total training time: 0.00 seconds.\n",
      "-- Epoch 20\n",
      "Norm: 19.34, NNZs: 13588, Bias: 0.070913, T: 13400, Avg. loss: 0.023685\n",
      "Total training time: 0.00 seconds.\n",
      "-- Epoch 21\n",
      "Norm: 19.35, NNZs: 13588, Bias: 0.070663, T: 14070, Avg. loss: 0.023409\n",
      "Total training time: 0.00 seconds.\n",
      "Convergence after 21 epochs took 0.00 seconds\n",
      "-- Epoch 1\n",
      "Norm: 4.95, NNZs: 14166, Bias: 0.052000, T: 668, Avg. loss: 0.868392\n",
      "Total training time: 0.00 seconds.\n",
      "-- Epoch 2\n",
      "Norm: 8.91, NNZs: 14166, Bias: 0.094574, T: 1336, Avg. loss: 0.554252\n",
      "Total training time: 0.00 seconds.\n",
      "-- Epoch 3\n",
      "Norm: 11.70, NNZs: 14166, Bias: 0.118608, T: 2004, Avg. loss: 0.363161\n",
      "Total training time: 0.00 seconds.\n",
      "-- Epoch 4\n",
      "Norm: 13.65, NNZs: 14166, Bias: 0.135177, T: 2672, Avg. loss: 0.253896\n",
      "Total training time: 0.00 seconds.\n",
      "-- Epoch 5\n",
      "Norm: 15.11, NNZs: 14166, Bias: 0.130334, T: 3340, Avg. loss: 0.185728\n",
      "Total training time: 0.00 seconds.\n",
      "-- Epoch 6\n",
      "Norm: 16.21, NNZs: 14166, Bias: 0.124918, T: 4008, Avg. loss: 0.139130\n",
      "Total training time: 0.00 seconds.\n",
      "-- Epoch 7\n",
      "Norm: 17.10, NNZs: 14166, Bias: 0.110271, T: 4676, Avg. loss: 0.104879\n",
      "Total training time: 0.00 seconds.\n",
      "-- Epoch 8\n",
      "Norm: 17.82, NNZs: 14166, Bias: 0.101523, T: 5344, Avg. loss: 0.079459\n",
      "Total training time: 0.00 seconds.\n",
      "-- Epoch 9\n",
      "Norm: 18.32, NNZs: 14166, Bias: 0.093751, T: 6012, Avg. loss: 0.059442\n",
      "Total training time: 0.00 seconds.\n",
      "-- Epoch 10\n",
      "Norm: 18.66, NNZs: 14166, Bias: 0.096769, T: 6680, Avg. loss: 0.046941\n",
      "Total training time: 0.00 seconds.\n",
      "-- Epoch 11\n",
      "Norm: 18.86, NNZs: 14166, Bias: 0.093029, T: 7348, Avg. loss: 0.038146\n",
      "Total training time: 0.00 seconds.\n",
      "-- Epoch 12\n",
      "Norm: 19.00, NNZs: 14166, Bias: 0.090161, T: 8016, Avg. loss: 0.033180\n",
      "Total training time: 0.00 seconds.\n",
      "-- Epoch 13\n",
      "Norm: 19.08, NNZs: 14166, Bias: 0.087444, T: 8684, Avg. loss: 0.029977\n",
      "Total training time: 0.00 seconds.\n",
      "-- Epoch 14\n",
      "Norm: 19.14, NNZs: 14166, Bias: 0.089095, T: 9352, Avg. loss: 0.028543\n",
      "Total training time: 0.02 seconds.\n",
      "-- Epoch 15\n",
      "Norm: 19.17, NNZs: 14166, Bias: 0.087094, T: 10020, Avg. loss: 0.027257\n",
      "Total training time: 0.02 seconds.\n",
      "-- Epoch 16\n",
      "Norm: 19.17, NNZs: 14166, Bias: 0.086529, T: 10688, Avg. loss: 0.026512\n",
      "Total training time: 0.02 seconds.\n",
      "-- Epoch 17\n",
      "Norm: 19.19, NNZs: 14166, Bias: 0.087188, T: 11356, Avg. loss: 0.026524\n",
      "Total training time: 0.02 seconds.\n",
      "-- Epoch 18\n",
      "Norm: 19.20, NNZs: 14166, Bias: 0.086907, T: 12024, Avg. loss: 0.026308\n",
      "Total training time: 0.02 seconds.\n",
      "-- Epoch 19\n",
      "Norm: 19.20, NNZs: 14166, Bias: 0.086036, T: 12692, Avg. loss: 0.026059\n",
      "Total training time: 0.02 seconds.\n",
      "-- Epoch 20\n",
      "Norm: 19.22, NNZs: 14166, Bias: 0.086872, T: 13360, Avg. loss: 0.026137\n",
      "Total training time: 0.02 seconds.\n",
      "Convergence after 20 epochs took 0.02 seconds\n",
      "-- Epoch 1\n",
      "Norm: 4.92, NNZs: 13740, Bias: 0.050333, T: 667, Avg. loss: 0.863472\n",
      "Total training time: 0.00 seconds.\n",
      "-- Epoch 2\n",
      "Norm: 8.87, NNZs: 13740, Bias: 0.082112, T: 1334, Avg. loss: 0.552750\n",
      "Total training time: 0.00 seconds.\n",
      "-- Epoch 3\n",
      "Norm: 11.67, NNZs: 13740, Bias: 0.092766, T: 2001, Avg. loss: 0.363922\n",
      "Total training time: 0.00 seconds.\n",
      "-- Epoch 4\n",
      "Norm: 13.67, NNZs: 13740, Bias: 0.100726, T: 2668, Avg. loss: 0.253902\n",
      "Total training time: 0.00 seconds.\n",
      "-- Epoch 5\n",
      "Norm: 15.08, NNZs: 13740, Bias: 0.091325, T: 3335, Avg. loss: 0.184817\n",
      "Total training time: 0.00 seconds.\n",
      "-- Epoch 6\n",
      "Norm: 16.19, NNZs: 13740, Bias: 0.085296, T: 4002, Avg. loss: 0.138878\n",
      "Total training time: 0.00 seconds.\n",
      "-- Epoch 7\n",
      "Norm: 17.03, NNZs: 13740, Bias: 0.080422, T: 4669, Avg. loss: 0.105391\n",
      "Total training time: 0.00 seconds.\n",
      "-- Epoch 8\n",
      "Norm: 17.68, NNZs: 13740, Bias: 0.072911, T: 5336, Avg. loss: 0.080554\n",
      "Total training time: 0.00 seconds.\n",
      "-- Epoch 9\n",
      "Norm: 18.15, NNZs: 13740, Bias: 0.071969, T: 6003, Avg. loss: 0.063097\n",
      "Total training time: 0.00 seconds.\n",
      "-- Epoch 10\n",
      "Norm: 18.49, NNZs: 13740, Bias: 0.064575, T: 6670, Avg. loss: 0.050794\n",
      "Total training time: 0.00 seconds.\n",
      "-- Epoch 11\n",
      "Norm: 18.71, NNZs: 13740, Bias: 0.060548, T: 7337, Avg. loss: 0.042245\n",
      "Total training time: 0.00 seconds.\n",
      "-- Epoch 12\n",
      "Norm: 18.82, NNZs: 13740, Bias: 0.056814, T: 8004, Avg. loss: 0.036691\n",
      "Total training time: 0.00 seconds.\n",
      "-- Epoch 13\n",
      "Norm: 18.91, NNZs: 13740, Bias: 0.058499, T: 8671, Avg. loss: 0.034494\n",
      "Total training time: 0.00 seconds.\n",
      "-- Epoch 14\n",
      "Norm: 18.96, NNZs: 13740, Bias: 0.057572, T: 9338, Avg. loss: 0.032587\n",
      "Total training time: 0.00 seconds.\n",
      "-- Epoch 15\n",
      "Norm: 19.00, NNZs: 13740, Bias: 0.056169, T: 10005, Avg. loss: 0.031531\n",
      "Total training time: 0.00 seconds.\n",
      "-- Epoch 16\n",
      "Norm: 19.02, NNZs: 13740, Bias: 0.056290, T: 10672, Avg. loss: 0.030781\n",
      "Total training time: 0.00 seconds.\n",
      "-- Epoch 17\n",
      "Norm: 19.05, NNZs: 13740, Bias: 0.056802, T: 11339, Avg. loss: 0.030541\n",
      "Total training time: 0.00 seconds.\n",
      "-- Epoch 18\n",
      "Norm: 19.06, NNZs: 13740, Bias: 0.054705, T: 12006, Avg. loss: 0.029908\n",
      "Total training time: 0.00 seconds.\n",
      "-- Epoch 19\n",
      "Norm: 19.09, NNZs: 13740, Bias: 0.056068, T: 12673, Avg. loss: 0.030087\n",
      "Total training time: 0.00 seconds.\n",
      "-- Epoch 20\n",
      "Norm: 19.11, NNZs: 13740, Bias: 0.054765, T: 13340, Avg. loss: 0.029488\n",
      "Total training time: 0.00 seconds.\n",
      "Convergence after 20 epochs took 0.00 seconds\n",
      "-- Epoch 1\n",
      "Norm: 4.90, NNZs: 13675, Bias: 0.053288, T: 669, Avg. loss: 0.866577\n",
      "Total training time: 0.00 seconds.\n",
      "-- Epoch 2\n",
      "Norm: 8.94, NNZs: 13675, Bias: 0.091292, T: 1338, Avg. loss: 0.553886\n",
      "Total training time: 0.00 seconds.\n",
      "-- Epoch 3\n",
      "Norm: 11.74, NNZs: 13675, Bias: 0.123186, T: 2007, Avg. loss: 0.358279\n",
      "Total training time: 0.01 seconds.\n",
      "-- Epoch 4\n",
      "Norm: 13.76, NNZs: 13675, Bias: 0.132417, T: 2676, Avg. loss: 0.245613\n",
      "Total training time: 0.01 seconds.\n",
      "-- Epoch 5\n",
      "Norm: 15.21, NNZs: 13675, Bias: 0.132541, T: 3345, Avg. loss: 0.174281\n",
      "Total training time: 0.01 seconds.\n",
      "-- Epoch 6\n",
      "Norm: 16.28, NNZs: 13675, Bias: 0.132656, T: 4014, Avg. loss: 0.127523\n",
      "Total training time: 0.01 seconds.\n",
      "-- Epoch 7\n",
      "Norm: 17.08, NNZs: 13675, Bias: 0.123604, T: 4683, Avg. loss: 0.094700\n",
      "Total training time: 0.01 seconds.\n",
      "-- Epoch 8\n",
      "Norm: 17.68, NNZs: 13675, Bias: 0.116225, T: 5352, Avg. loss: 0.071309\n",
      "Total training time: 0.01 seconds.\n",
      "-- Epoch 9\n",
      "Norm: 18.11, NNZs: 13675, Bias: 0.114452, T: 6021, Avg. loss: 0.055340\n",
      "Total training time: 0.01 seconds.\n",
      "-- Epoch 10\n",
      "Norm: 18.40, NNZs: 13675, Bias: 0.107585, T: 6690, Avg. loss: 0.043764\n",
      "Total training time: 0.01 seconds.\n",
      "-- Epoch 11\n",
      "Norm: 18.59, NNZs: 13675, Bias: 0.111069, T: 7359, Avg. loss: 0.036534\n",
      "Total training time: 0.01 seconds.\n",
      "-- Epoch 12\n",
      "Norm: 18.71, NNZs: 13675, Bias: 0.106346, T: 8028, Avg. loss: 0.032151\n",
      "Total training time: 0.01 seconds.\n",
      "-- Epoch 13\n",
      "Norm: 18.78, NNZs: 13675, Bias: 0.107953, T: 8697, Avg. loss: 0.029425\n",
      "Total training time: 0.01 seconds.\n",
      "-- Epoch 14\n",
      "Norm: 18.82, NNZs: 13675, Bias: 0.106043, T: 9366, Avg. loss: 0.027973\n",
      "Total training time: 0.01 seconds.\n",
      "-- Epoch 15\n",
      "Norm: 18.84, NNZs: 13675, Bias: 0.104950, T: 10035, Avg. loss: 0.027247\n",
      "Total training time: 0.01 seconds.\n",
      "-- Epoch 16\n",
      "Norm: 18.86, NNZs: 13675, Bias: 0.106193, T: 10704, Avg. loss: 0.026924\n",
      "Total training time: 0.01 seconds.\n",
      "-- Epoch 17\n",
      "Norm: 18.86, NNZs: 13675, Bias: 0.106033, T: 11373, Avg. loss: 0.026564\n",
      "Total training time: 0.01 seconds.\n",
      "-- Epoch 18\n",
      "Norm: 18.86, NNZs: 13675, Bias: 0.106048, T: 12042, Avg. loss: 0.026516\n",
      "Total training time: 0.01 seconds.\n",
      "-- Epoch 19\n",
      "Norm: 18.86, NNZs: 13675, Bias: 0.106051, T: 12711, Avg. loss: 0.026511\n",
      "Total training time: 0.01 seconds.\n",
      "Convergence after 19 epochs took 0.01 seconds\n",
      "-- Epoch 1\n",
      "Norm: 20.16, NNZs: 10185, Bias: 0.000000, T: 666, Avg. loss: 0.527647\n",
      "Total training time: 0.00 seconds.\n",
      "-- Epoch 2\n",
      "Norm: 20.79, NNZs: 10185, Bias: 0.000000, T: 1332, Avg. loss: 0.050699\n",
      "Total training time: 0.00 seconds.\n",
      "-- Epoch 3\n",
      "Norm: 20.89, NNZs: 10185, Bias: 0.000000, T: 1998, Avg. loss: 0.032345\n",
      "Total training time: 0.00 seconds.\n",
      "-- Epoch 4\n",
      "Norm: 20.90, NNZs: 10185, Bias: 0.000000, T: 2664, Avg. loss: 0.029567\n",
      "Total training time: 0.00 seconds.\n",
      "-- Epoch 5\n",
      "Norm: 20.90, NNZs: 10185, Bias: 0.000000, T: 3330, Avg. loss: 0.029212\n",
      "Total training time: 0.00 seconds.\n",
      "-- Epoch 6\n",
      "Norm: 20.90, NNZs: 10185, Bias: 0.000000, T: 3996, Avg. loss: 0.029162\n",
      "Total training time: 0.00 seconds.\n",
      "-- Epoch 7\n",
      "Norm: 20.90, NNZs: 10185, Bias: 0.000000, T: 4662, Avg. loss: 0.029156\n",
      "Total training time: 0.00 seconds.\n",
      "-- Epoch 8\n",
      "Norm: 20.90, NNZs: 10185, Bias: 0.000000, T: 5328, Avg. loss: 0.029155\n",
      "Total training time: 0.00 seconds.\n",
      "-- Epoch 9\n",
      "Norm: 20.90, NNZs: 10185, Bias: 0.000000, T: 5994, Avg. loss: 0.029155\n",
      "Total training time: 0.00 seconds.\n",
      "Convergence after 9 epochs took 0.00 seconds\n",
      "-- Epoch 1\n",
      "Norm: 20.44, NNZs: 10288, Bias: 0.000000, T: 670, Avg. loss: 0.538625\n",
      "Total training time: 0.00 seconds.\n",
      "-- Epoch 2\n",
      "Norm: 21.06, NNZs: 10295, Bias: 0.000000, T: 1340, Avg. loss: 0.045755\n",
      "Total training time: 0.00 seconds.\n",
      "-- Epoch 3\n",
      "Norm: 21.16, NNZs: 10297, Bias: 0.000000, T: 2010, Avg. loss: 0.026367\n",
      "Total training time: 0.00 seconds.\n",
      "-- Epoch 4\n",
      "Norm: 21.17, NNZs: 10297, Bias: 0.000000, T: 2680, Avg. loss: 0.023794\n",
      "Total training time: 0.00 seconds.\n",
      "-- Epoch 5\n",
      "Norm: 21.17, NNZs: 10297, Bias: 0.000000, T: 3350, Avg. loss: 0.023372\n",
      "Total training time: 0.00 seconds.\n",
      "-- Epoch 6\n",
      "Norm: 21.17, NNZs: 10297, Bias: 0.000000, T: 4020, Avg. loss: 0.023329\n",
      "Total training time: 0.00 seconds.\n",
      "-- Epoch 7\n",
      "Norm: 21.17, NNZs: 10297, Bias: 0.000000, T: 4690, Avg. loss: 0.023324\n",
      "Total training time: 0.00 seconds.\n",
      "-- Epoch 8\n",
      "Norm: 21.17, NNZs: 10297, Bias: 0.000000, T: 5360, Avg. loss: 0.023324\n",
      "Total training time: 0.00 seconds.\n",
      "-- Epoch 9\n",
      "Norm: 21.17, NNZs: 10297, Bias: 0.000000, T: 6030, Avg. loss: 0.023324\n",
      "Total training time: 0.00 seconds.\n",
      "Convergence after 9 epochs took 0.00 seconds\n",
      "-- Epoch 1\n",
      "Norm: 20.29, NNZs: 10806, Bias: 0.000000, T: 668, Avg. loss: 0.532076\n",
      "Total training time: 0.00 seconds.\n",
      "-- Epoch 2\n",
      "Norm: 20.87, NNZs: 10814, Bias: 0.000000, T: 1336, Avg. loss: 0.046318\n",
      "Total training time: 0.00 seconds.\n",
      "-- Epoch 3\n",
      "Norm: 20.96, NNZs: 10814, Bias: 0.000000, T: 2004, Avg. loss: 0.029091\n",
      "Total training time: 0.00 seconds.\n",
      "-- Epoch 4\n",
      "Norm: 20.97, NNZs: 10814, Bias: 0.000000, T: 2672, Avg. loss: 0.026626\n",
      "Total training time: 0.00 seconds.\n",
      "-- Epoch 5\n",
      "Norm: 20.98, NNZs: 10814, Bias: 0.000000, T: 3340, Avg. loss: 0.026294\n",
      "Total training time: 0.00 seconds.\n",
      "-- Epoch 6\n",
      "Norm: 20.98, NNZs: 10814, Bias: 0.000000, T: 4008, Avg. loss: 0.026245\n",
      "Total training time: 0.00 seconds.\n",
      "-- Epoch 7\n",
      "Norm: 20.98, NNZs: 10814, Bias: 0.000000, T: 4676, Avg. loss: 0.026240\n",
      "Total training time: 0.01 seconds.\n",
      "-- Epoch 8\n",
      "Norm: 20.98, NNZs: 10814, Bias: 0.000000, T: 5344, Avg. loss: 0.026239\n",
      "Total training time: 0.01 seconds.\n",
      "-- Epoch 9\n",
      "Norm: 20.98, NNZs: 10814, Bias: 0.000000, T: 6012, Avg. loss: 0.026239\n",
      "Total training time: 0.01 seconds.\n",
      "Convergence after 9 epochs took 0.01 seconds\n",
      "-- Epoch 1\n",
      "Norm: 20.21, NNZs: 9970, Bias: 0.000000, T: 667, Avg. loss: 0.529003\n",
      "Total training time: 0.00 seconds.\n",
      "-- Epoch 2\n",
      "Norm: 20.83, NNZs: 9975, Bias: 0.000000, T: 1334, Avg. loss: 0.050866\n",
      "Total training time: 0.00 seconds.\n",
      "-- Epoch 3\n",
      "Norm: 20.92, NNZs: 9975, Bias: 0.000000, T: 2001, Avg. loss: 0.032015\n",
      "Total training time: 0.00 seconds.\n",
      "-- Epoch 4\n",
      "Norm: 20.94, NNZs: 9975, Bias: 0.000000, T: 2668, Avg. loss: 0.029549\n",
      "Total training time: 0.00 seconds.\n",
      "-- Epoch 5\n",
      "Norm: 20.94, NNZs: 9975, Bias: 0.000000, T: 3335, Avg. loss: 0.029213\n",
      "Total training time: 0.00 seconds.\n",
      "-- Epoch 6\n",
      "Norm: 20.94, NNZs: 9975, Bias: 0.000000, T: 4002, Avg. loss: 0.029124\n",
      "Total training time: 0.00 seconds.\n",
      "-- Epoch 7\n",
      "Norm: 20.94, NNZs: 9975, Bias: 0.000000, T: 4669, Avg. loss: 0.029114\n",
      "Total training time: 0.00 seconds.\n",
      "-- Epoch 8\n",
      "Norm: 20.94, NNZs: 9975, Bias: 0.000000, T: 5336, Avg. loss: 0.029112\n",
      "Total training time: 0.00 seconds.\n",
      "-- Epoch 9\n",
      "Norm: 20.94, NNZs: 9975, Bias: 0.000000, T: 6003, Avg. loss: 0.029112\n",
      "Total training time: 0.00 seconds.\n",
      "Convergence after 9 epochs took 0.00 seconds\n",
      "-- Epoch 1\n",
      "Norm: 20.25, NNZs: 10049, Bias: 0.000000, T: 669, Avg. loss: 0.524613\n",
      "Total training time: 0.00 seconds.\n",
      "-- Epoch 2\n",
      "Norm: 20.76, NNZs: 10069, Bias: 0.000000, T: 1338, Avg. loss: 0.043160\n",
      "Total training time: 0.00 seconds.\n",
      "-- Epoch 3\n",
      "Norm: 20.82, NNZs: 10069, Bias: 0.000000, T: 2007, Avg. loss: 0.028207\n",
      "Total training time: 0.00 seconds.\n",
      "-- Epoch 4\n",
      "Norm: 20.84, NNZs: 10069, Bias: 0.000000, T: 2676, Avg. loss: 0.026566\n",
      "Total training time: 0.00 seconds.\n",
      "-- Epoch 5\n",
      "Norm: 20.84, NNZs: 10069, Bias: 0.000000, T: 3345, Avg. loss: 0.026260\n",
      "Total training time: 0.00 seconds.\n",
      "-- Epoch 6\n",
      "Norm: 20.84, NNZs: 10069, Bias: 0.000000, T: 4014, Avg. loss: 0.026220\n",
      "Total training time: 0.00 seconds.\n",
      "-- Epoch 7\n",
      "Norm: 20.84, NNZs: 10069, Bias: 0.000000, T: 4683, Avg. loss: 0.026207\n",
      "Total training time: 0.00 seconds.\n",
      "-- Epoch 8\n",
      "Norm: 20.84, NNZs: 10069, Bias: 0.000000, T: 5352, Avg. loss: 0.026202\n",
      "Total training time: 0.00 seconds.\n",
      "-- Epoch 9\n",
      "Norm: 20.84, NNZs: 10069, Bias: 0.000000, T: 6021, Avg. loss: 0.026201\n",
      "Total training time: 0.00 seconds.\n",
      "Convergence after 9 epochs took 0.00 seconds\n",
      "-- Epoch 1\n",
      "Norm: 4.91, NNZs: 14235, Bias: 0.000000, T: 666, Avg. loss: 0.867538\n",
      "Total training time: 0.00 seconds.\n",
      "-- Epoch 2\n",
      "Norm: 8.85, NNZs: 14235, Bias: 0.000000, T: 1332, Avg. loss: 0.561253\n",
      "Total training time: 0.00 seconds.\n",
      "-- Epoch 3\n",
      "Norm: 11.77, NNZs: 14235, Bias: 0.000000, T: 1998, Avg. loss: 0.371358\n",
      "Total training time: 0.00 seconds.\n",
      "-- Epoch 4\n",
      "Norm: 13.76, NNZs: 14235, Bias: 0.000000, T: 2664, Avg. loss: 0.255698\n",
      "Total training time: 0.00 seconds.\n",
      "-- Epoch 5\n",
      "Norm: 15.21, NNZs: 14235, Bias: 0.000000, T: 3330, Avg. loss: 0.186088\n",
      "Total training time: 0.00 seconds.\n",
      "-- Epoch 6\n",
      "Norm: 16.27, NNZs: 14235, Bias: 0.000000, T: 3996, Avg. loss: 0.138718\n",
      "Total training time: 0.00 seconds.\n",
      "-- Epoch 7\n",
      "Norm: 17.10, NNZs: 14235, Bias: 0.000000, T: 4662, Avg. loss: 0.105133\n",
      "Total training time: 0.00 seconds.\n",
      "-- Epoch 8\n",
      "Norm: 17.75, NNZs: 14235, Bias: 0.000000, T: 5328, Avg. loss: 0.080867\n",
      "Total training time: 0.00 seconds.\n",
      "-- Epoch 9\n",
      "Norm: 18.19, NNZs: 14235, Bias: 0.000000, T: 5994, Avg. loss: 0.062216\n",
      "Total training time: 0.00 seconds.\n",
      "-- Epoch 10\n",
      "Norm: 18.51, NNZs: 14235, Bias: 0.000000, T: 6660, Avg. loss: 0.050234\n",
      "Total training time: 0.00 seconds.\n",
      "-- Epoch 11\n",
      "Norm: 18.72, NNZs: 14235, Bias: 0.000000, T: 7326, Avg. loss: 0.042034\n",
      "Total training time: 0.00 seconds.\n",
      "-- Epoch 12\n",
      "Norm: 18.86, NNZs: 14235, Bias: 0.000000, T: 7992, Avg. loss: 0.036808\n",
      "Total training time: 0.00 seconds.\n",
      "-- Epoch 13\n",
      "Norm: 18.95, NNZs: 14235, Bias: 0.000000, T: 8658, Avg. loss: 0.033654\n",
      "Total training time: 0.00 seconds.\n",
      "-- Epoch 14\n",
      "Norm: 19.00, NNZs: 14235, Bias: 0.000000, T: 9324, Avg. loss: 0.031833\n",
      "Total training time: 0.00 seconds.\n",
      "-- Epoch 15\n",
      "Norm: 19.02, NNZs: 14235, Bias: 0.000000, T: 9990, Avg. loss: 0.030600\n",
      "Total training time: 0.00 seconds.\n",
      "-- Epoch 16\n",
      "Norm: 19.04, NNZs: 14235, Bias: 0.000000, T: 10656, Avg. loss: 0.030184\n",
      "Total training time: 0.00 seconds.\n",
      "-- Epoch 17\n",
      "Norm: 19.06, NNZs: 14235, Bias: 0.000000, T: 11322, Avg. loss: 0.029958\n",
      "Total training time: 0.00 seconds.\n",
      "-- Epoch 18\n",
      "Norm: 19.07, NNZs: 14235, Bias: 0.000000, T: 11988, Avg. loss: 0.029706\n",
      "Total training time: 0.00 seconds.\n",
      "-- Epoch 19\n",
      "Norm: 19.08, NNZs: 14235, Bias: 0.000000, T: 12654, Avg. loss: 0.029420\n",
      "Total training time: 0.00 seconds.\n",
      "-- Epoch 20\n",
      "Norm: 19.09, NNZs: 14235, Bias: 0.000000, T: 13320, Avg. loss: 0.029374\n",
      "Total training time: 0.00 seconds.\n",
      "Convergence after 20 epochs took 0.00 seconds\n",
      "-- Epoch 1\n",
      "Norm: 4.86, NNZs: 13588, Bias: 0.000000, T: 670, Avg. loss: 0.876949\n",
      "Total training time: 0.00 seconds.\n",
      "-- Epoch 2\n",
      "Norm: 8.84, NNZs: 13588, Bias: 0.000000, T: 1340, Avg. loss: 0.572152\n",
      "Total training time: 0.00 seconds.\n",
      "-- Epoch 3\n",
      "Norm: 11.73, NNZs: 13588, Bias: 0.000000, T: 2010, Avg. loss: 0.380518\n",
      "Total training time: 0.00 seconds.\n",
      "-- Epoch 4\n",
      "Norm: 13.78, NNZs: 13588, Bias: 0.000000, T: 2680, Avg. loss: 0.264039\n",
      "Total training time: 0.00 seconds.\n",
      "-- Epoch 5\n",
      "Norm: 15.31, NNZs: 13588, Bias: 0.000000, T: 3350, Avg. loss: 0.190515\n",
      "Total training time: 0.00 seconds.\n",
      "-- Epoch 6\n",
      "Norm: 16.44, NNZs: 13588, Bias: 0.000000, T: 4020, Avg. loss: 0.139666\n",
      "Total training time: 0.00 seconds.\n",
      "-- Epoch 7\n",
      "Norm: 17.32, NNZs: 13588, Bias: 0.000000, T: 4690, Avg. loss: 0.103674\n",
      "Total training time: 0.00 seconds.\n",
      "-- Epoch 8\n",
      "Norm: 17.99, NNZs: 13588, Bias: 0.000000, T: 5360, Avg. loss: 0.077368\n",
      "Total training time: 0.00 seconds.\n",
      "-- Epoch 9\n",
      "Norm: 18.46, NNZs: 13588, Bias: 0.000000, T: 6030, Avg. loss: 0.057832\n",
      "Total training time: 0.00 seconds.\n",
      "-- Epoch 10\n",
      "Norm: 18.77, NNZs: 13588, Bias: 0.000000, T: 6700, Avg. loss: 0.044941\n",
      "Total training time: 0.00 seconds.\n",
      "-- Epoch 11\n",
      "Norm: 18.97, NNZs: 13588, Bias: 0.000000, T: 7370, Avg. loss: 0.036789\n",
      "Total training time: 0.00 seconds.\n",
      "-- Epoch 12\n",
      "Norm: 19.10, NNZs: 13588, Bias: 0.000000, T: 8040, Avg. loss: 0.031824\n",
      "Total training time: 0.00 seconds.\n",
      "-- Epoch 13\n",
      "Norm: 19.19, NNZs: 13588, Bias: 0.000000, T: 8710, Avg. loss: 0.028856\n",
      "Total training time: 0.00 seconds.\n",
      "-- Epoch 14\n",
      "Norm: 19.27, NNZs: 13588, Bias: 0.000000, T: 9380, Avg. loss: 0.027092\n",
      "Total training time: 0.00 seconds.\n",
      "-- Epoch 15\n",
      "Norm: 19.32, NNZs: 13588, Bias: 0.000000, T: 10050, Avg. loss: 0.025342\n",
      "Total training time: 0.00 seconds.\n",
      "-- Epoch 16\n",
      "Norm: 19.33, NNZs: 13588, Bias: 0.000000, T: 10720, Avg. loss: 0.024208\n",
      "Total training time: 0.00 seconds.\n",
      "-- Epoch 17\n",
      "Norm: 19.34, NNZs: 13588, Bias: 0.000000, T: 11390, Avg. loss: 0.024022\n",
      "Total training time: 0.00 seconds.\n",
      "-- Epoch 18\n",
      "Norm: 19.35, NNZs: 13588, Bias: 0.000000, T: 12060, Avg. loss: 0.023831\n",
      "Total training time: 0.00 seconds.\n",
      "-- Epoch 19\n",
      "Norm: 19.36, NNZs: 13588, Bias: 0.000000, T: 12730, Avg. loss: 0.023583\n",
      "Total training time: 0.00 seconds.\n",
      "-- Epoch 20\n",
      "Norm: 19.37, NNZs: 13588, Bias: 0.000000, T: 13400, Avg. loss: 0.023578\n",
      "Total training time: 0.00 seconds.\n",
      "-- Epoch 21\n",
      "Norm: 19.37, NNZs: 13588, Bias: 0.000000, T: 14070, Avg. loss: 0.023381\n",
      "Total training time: 0.00 seconds.\n",
      "Convergence after 21 epochs took 0.00 seconds\n",
      "-- Epoch 1\n",
      "Norm: 4.95, NNZs: 14166, Bias: 0.000000, T: 668, Avg. loss: 0.869953\n",
      "Total training time: 0.00 seconds.\n",
      "-- Epoch 2\n",
      "Norm: 8.90, NNZs: 14166, Bias: 0.000000, T: 1336, Avg. loss: 0.560132\n",
      "Total training time: 0.00 seconds.\n",
      "-- Epoch 3\n",
      "Norm: 11.69, NNZs: 14166, Bias: 0.000000, T: 2004, Avg. loss: 0.370319\n",
      "Total training time: 0.00 seconds.\n",
      "-- Epoch 4\n",
      "Norm: 13.68, NNZs: 14166, Bias: 0.000000, T: 2672, Avg. loss: 0.260749\n",
      "Total training time: 0.00 seconds.\n",
      "-- Epoch 5\n",
      "Norm: 15.20, NNZs: 14166, Bias: 0.000000, T: 3340, Avg. loss: 0.190445\n",
      "Total training time: 0.00 seconds.\n",
      "-- Epoch 6\n",
      "Norm: 16.33, NNZs: 14166, Bias: 0.000000, T: 4008, Avg. loss: 0.140332\n",
      "Total training time: 0.00 seconds.\n",
      "-- Epoch 7\n",
      "Norm: 17.22, NNZs: 14166, Bias: 0.000000, T: 4676, Avg. loss: 0.105159\n",
      "Total training time: 0.00 seconds.\n",
      "-- Epoch 8\n",
      "Norm: 17.90, NNZs: 14166, Bias: 0.000000, T: 5344, Avg. loss: 0.078637\n",
      "Total training time: 0.00 seconds.\n",
      "-- Epoch 9\n",
      "Norm: 18.37, NNZs: 14166, Bias: 0.000000, T: 6012, Avg. loss: 0.059323\n",
      "Total training time: 0.00 seconds.\n",
      "-- Epoch 10\n",
      "Norm: 18.70, NNZs: 14166, Bias: 0.000000, T: 6680, Avg. loss: 0.046755\n",
      "Total training time: 0.00 seconds.\n",
      "-- Epoch 11\n",
      "Norm: 18.90, NNZs: 14166, Bias: 0.000000, T: 7348, Avg. loss: 0.038005\n",
      "Total training time: 0.00 seconds.\n",
      "-- Epoch 12\n",
      "Norm: 19.03, NNZs: 14166, Bias: 0.000000, T: 8016, Avg. loss: 0.033207\n",
      "Total training time: 0.00 seconds.\n",
      "-- Epoch 13\n",
      "Norm: 19.10, NNZs: 14166, Bias: 0.000000, T: 8684, Avg. loss: 0.030015\n",
      "Total training time: 0.00 seconds.\n",
      "-- Epoch 14\n",
      "Norm: 19.16, NNZs: 14166, Bias: 0.000000, T: 9352, Avg. loss: 0.028745\n",
      "Total training time: 0.00 seconds.\n",
      "-- Epoch 15\n",
      "Norm: 19.18, NNZs: 14166, Bias: 0.000000, T: 10020, Avg. loss: 0.027534\n",
      "Total training time: 0.02 seconds.\n",
      "-- Epoch 16\n",
      "Norm: 19.19, NNZs: 14166, Bias: 0.000000, T: 10688, Avg. loss: 0.026941\n",
      "Total training time: 0.02 seconds.\n",
      "-- Epoch 17\n",
      "Norm: 19.20, NNZs: 14166, Bias: 0.000000, T: 11356, Avg. loss: 0.026975\n",
      "Total training time: 0.02 seconds.\n",
      "-- Epoch 18\n",
      "Norm: 19.21, NNZs: 14166, Bias: 0.000000, T: 12024, Avg. loss: 0.026771\n",
      "Total training time: 0.02 seconds.\n",
      "-- Epoch 19\n",
      "Norm: 19.22, NNZs: 14166, Bias: 0.000000, T: 12692, Avg. loss: 0.026512\n",
      "Total training time: 0.02 seconds.\n",
      "-- Epoch 20\n",
      "Norm: 19.23, NNZs: 14166, Bias: 0.000000, T: 13360, Avg. loss: 0.026534\n",
      "Total training time: 0.02 seconds.\n",
      "Convergence after 20 epochs took 0.02 seconds\n",
      "-- Epoch 1\n",
      "Norm: 4.95, NNZs: 14196, Bias: 0.000000, T: 667, Avg. loss: 0.864821\n",
      "Total training time: 0.00 seconds.\n",
      "-- Epoch 2\n",
      "Norm: 8.88, NNZs: 14196, Bias: 0.000000, T: 1334, Avg. loss: 0.555194\n",
      "Total training time: 0.00 seconds.\n",
      "-- Epoch 3\n",
      "Norm: 11.71, NNZs: 14196, Bias: 0.000000, T: 2001, Avg. loss: 0.367208\n",
      "Total training time: 0.00 seconds.\n",
      "-- Epoch 4\n",
      "Norm: 13.74, NNZs: 14196, Bias: 0.000000, T: 2668, Avg. loss: 0.255708\n",
      "Total training time: 0.00 seconds.\n",
      "-- Epoch 5\n",
      "Norm: 15.17, NNZs: 14196, Bias: 0.000000, T: 3335, Avg. loss: 0.185522\n",
      "Total training time: 0.00 seconds.\n",
      "-- Epoch 6\n",
      "Norm: 16.28, NNZs: 14196, Bias: 0.000000, T: 4002, Avg. loss: 0.138817\n",
      "Total training time: 0.00 seconds.\n",
      "-- Epoch 7\n",
      "Norm: 17.11, NNZs: 14196, Bias: 0.000000, T: 4669, Avg. loss: 0.104601\n",
      "Total training time: 0.00 seconds.\n",
      "-- Epoch 8\n",
      "Norm: 17.75, NNZs: 14196, Bias: 0.000000, T: 5336, Avg. loss: 0.080159\n",
      "Total training time: 0.00 seconds.\n",
      "-- Epoch 9\n",
      "Norm: 18.20, NNZs: 14196, Bias: 0.000000, T: 6003, Avg. loss: 0.062167\n",
      "Total training time: 0.00 seconds.\n",
      "-- Epoch 10\n",
      "Norm: 18.52, NNZs: 14196, Bias: 0.000000, T: 6670, Avg. loss: 0.050007\n",
      "Total training time: 0.00 seconds.\n",
      "-- Epoch 11\n",
      "Norm: 18.72, NNZs: 14196, Bias: 0.000000, T: 7337, Avg. loss: 0.041673\n",
      "Total training time: 0.00 seconds.\n",
      "-- Epoch 12\n",
      "Norm: 18.83, NNZs: 14196, Bias: 0.000000, T: 8004, Avg. loss: 0.036589\n",
      "Total training time: 0.00 seconds.\n",
      "-- Epoch 13\n",
      "Norm: 18.91, NNZs: 14196, Bias: 0.000000, T: 8671, Avg. loss: 0.034262\n",
      "Total training time: 0.00 seconds.\n",
      "-- Epoch 14\n",
      "Norm: 18.96, NNZs: 14196, Bias: 0.000000, T: 9338, Avg. loss: 0.032578\n",
      "Total training time: 0.00 seconds.\n",
      "-- Epoch 15\n",
      "Norm: 18.99, NNZs: 14196, Bias: 0.000000, T: 10005, Avg. loss: 0.031632\n",
      "Total training time: 0.01 seconds.\n",
      "-- Epoch 16\n",
      "Norm: 19.01, NNZs: 14196, Bias: 0.000000, T: 10672, Avg. loss: 0.030862\n",
      "Total training time: 0.01 seconds.\n",
      "-- Epoch 17\n",
      "Norm: 19.04, NNZs: 14196, Bias: 0.000000, T: 11339, Avg. loss: 0.030654\n",
      "Total training time: 0.01 seconds.\n",
      "-- Epoch 18\n",
      "Norm: 19.05, NNZs: 14196, Bias: 0.000000, T: 12006, Avg. loss: 0.030016\n",
      "Total training time: 0.01 seconds.\n",
      "-- Epoch 19\n",
      "Norm: 19.08, NNZs: 14196, Bias: 0.000000, T: 12673, Avg. loss: 0.030150\n",
      "Total training time: 0.01 seconds.\n",
      "Convergence after 19 epochs took 0.01 seconds\n",
      "-- Epoch 1\n",
      "Norm: 4.93, NNZs: 13721, Bias: 0.000000, T: 669, Avg. loss: 0.867765\n",
      "Total training time: 0.00 seconds.\n",
      "-- Epoch 2\n",
      "Norm: 8.94, NNZs: 13721, Bias: 0.000000, T: 1338, Avg. loss: 0.557786\n",
      "Total training time: 0.01 seconds.\n",
      "-- Epoch 3\n",
      "Norm: 11.77, NNZs: 13721, Bias: 0.000000, T: 2007, Avg. loss: 0.364271\n",
      "Total training time: 0.01 seconds.\n",
      "-- Epoch 4\n",
      "Norm: 13.83, NNZs: 13721, Bias: 0.000000, T: 2676, Avg. loss: 0.249922\n",
      "Total training time: 0.01 seconds.\n",
      "-- Epoch 5\n",
      "Norm: 15.33, NNZs: 13721, Bias: 0.000000, T: 3345, Avg. loss: 0.177186\n",
      "Total training time: 0.01 seconds.\n",
      "-- Epoch 6\n",
      "Norm: 16.42, NNZs: 13721, Bias: 0.000000, T: 4014, Avg. loss: 0.128245\n",
      "Total training time: 0.01 seconds.\n",
      "-- Epoch 7\n",
      "Norm: 17.23, NNZs: 13721, Bias: 0.000000, T: 4683, Avg. loss: 0.094186\n",
      "Total training time: 0.01 seconds.\n",
      "-- Epoch 8\n",
      "Norm: 17.81, NNZs: 13721, Bias: 0.000000, T: 5352, Avg. loss: 0.069942\n",
      "Total training time: 0.01 seconds.\n",
      "-- Epoch 9\n",
      "Norm: 18.22, NNZs: 13721, Bias: 0.000000, T: 6021, Avg. loss: 0.053878\n",
      "Total training time: 0.01 seconds.\n",
      "-- Epoch 10\n",
      "Norm: 18.48, NNZs: 13721, Bias: 0.000000, T: 6690, Avg. loss: 0.042950\n",
      "Total training time: 0.01 seconds.\n",
      "-- Epoch 11\n",
      "Norm: 18.68, NNZs: 13721, Bias: 0.000000, T: 7359, Avg. loss: 0.036249\n",
      "Total training time: 0.01 seconds.\n",
      "-- Epoch 12\n",
      "Norm: 18.80, NNZs: 13721, Bias: 0.000000, T: 8028, Avg. loss: 0.031542\n",
      "Total training time: 0.01 seconds.\n",
      "-- Epoch 13\n",
      "Norm: 18.86, NNZs: 13721, Bias: 0.000000, T: 8697, Avg. loss: 0.028916\n",
      "Total training time: 0.01 seconds.\n",
      "-- Epoch 14\n",
      "Norm: 18.90, NNZs: 13721, Bias: 0.000000, T: 9366, Avg. loss: 0.027598\n",
      "Total training time: 0.01 seconds.\n",
      "-- Epoch 15\n",
      "Norm: 18.92, NNZs: 13721, Bias: 0.000000, T: 10035, Avg. loss: 0.026677\n",
      "Total training time: 0.01 seconds.\n",
      "-- Epoch 16\n",
      "Norm: 18.93, NNZs: 13721, Bias: 0.000000, T: 10704, Avg. loss: 0.026354\n",
      "Total training time: 0.01 seconds.\n",
      "-- Epoch 17\n",
      "Norm: 18.93, NNZs: 13721, Bias: 0.000000, T: 11373, Avg. loss: 0.026222\n",
      "Total training time: 0.01 seconds.\n",
      "-- Epoch 18\n",
      "Norm: 18.93, NNZs: 13721, Bias: 0.000000, T: 12042, Avg. loss: 0.026205\n",
      "Total training time: 0.01 seconds.\n",
      "-- Epoch 19\n",
      "Norm: 18.93, NNZs: 13721, Bias: 0.000000, T: 12711, Avg. loss: 0.026201\n",
      "Total training time: 0.01 seconds.\n",
      "Convergence after 19 epochs took 0.01 seconds\n",
      "Best Parameters: {'verbose': 0, 'shuffle': False, 'fit_intercept': True, 'C': 1.0}\n",
      "Best CV Score: 0.9405344757241941\n"
     ]
    }
   ],
   "source": [
    "from sklearn.datasets import fetch_20newsgroups\n",
    "from sklearn.feature_extraction.text import TfidfVectorizer\n",
    "from sklearn.model_selection import train_test_split, RandomizedSearchCV\n",
    "from sklearn.linear_model import PassiveAggressiveClassifier\n",
    "\n",
    "# Load dataset\n",
    "data = fetch_20newsgroups(subset='train', categories=['alt.atheism', 'sci.space'], remove=('headers', 'footers', 'quotes'))\n",
    "X, y = data.data, data.target\n",
    "\n",
    "# Text feature extraction\n",
    "vectorizer = TfidfVectorizer(stop_words='english', max_df=0.75)\n",
    "X_tfidf = vectorizer.fit_transform(X)\n",
    "\n",
    "# Train-test split\n",
    "X_train_tfidf, X_test_tfidf, y_train, y_test = train_test_split(X_tfidf, y, test_size=0.2, random_state=42)\n",
    "\n",
    "# Initialize classifier\n",
    "pac_classifier = PassiveAggressiveClassifier(random_state=42)\n",
    "\n",
    "# Define parameter distribution\n",
    "param_dist = {\n",
    "    'C': [0.1, 0.5, 1.0],\n",
    "    'fit_intercept': [True, False],\n",
    "    'shuffle': [True, False],\n",
    "    'verbose': [0, 1],\n",
    "}\n",
    "\n",
    "# Randomized search\n",
    "randomized_search = RandomizedSearchCV(\n",
    "    pac_classifier,\n",
    "    param_distributions=param_dist,\n",
    "    n_iter=10,\n",
    "    cv=5,\n",
    "    scoring='accuracy',\n",
    "    random_state=42\n",
    ")\n",
    "\n",
    "# Fit model\n",
    "randomized_search.fit(X_train_tfidf, y_train)\n",
    "\n",
    "# Best parameters\n",
    "print(\"Best Parameters:\", randomized_search.best_params_)\n",
    "\n",
    "# Best score\n",
    "print(\"Best CV Score:\", randomized_search.best_score_)\n"
   ]
  },
  {
   "cell_type": "code",
   "execution_count": 56,
   "id": "cd5de0cc",
   "metadata": {
    "execution": {
     "iopub.execute_input": "2025-01-24T04:13:27.936034Z",
     "iopub.status.busy": "2025-01-24T04:13:27.935626Z",
     "iopub.status.idle": "2025-01-24T04:13:27.956045Z",
     "shell.execute_reply": "2025-01-24T04:13:27.954778Z"
    },
    "papermill": {
     "duration": 0.0587,
     "end_time": "2025-01-24T04:13:27.957799",
     "exception": false,
     "start_time": "2025-01-24T04:13:27.899099",
     "status": "completed"
    },
    "tags": []
   },
   "outputs": [
    {
     "name": "stdout",
     "output_type": "stream",
     "text": [
      "Accuracy: 0.9348837209302325\n",
      "Classification Report: \n",
      "              precision    recall  f1-score   support\n",
      "\n",
      "           0       0.93      0.91      0.92        86\n",
      "           1       0.94      0.95      0.95       129\n",
      "\n",
      "    accuracy                           0.93       215\n",
      "   macro avg       0.93      0.93      0.93       215\n",
      "weighted avg       0.93      0.93      0.93       215\n",
      "\n"
     ]
    }
   ],
   "source": [
    "# Get the best parameters from the RandomizedSearchCV\n",
    "best_params_randomized = randomized_search.best_params_\n",
    "\n",
    "# Initialize the PassiveAggressiveClassifier with the best parameters\n",
    "best_pac_classifier_randomized = PassiveAggressiveClassifier(random_state=42, **best_params_randomized)\n",
    "\n",
    "# Fit the classifier with the training data\n",
    "best_pac_classifier_randomized.fit(X_train_tfidf, y_train)\n",
    "\n",
    "# Optionally, you can evaluate the classifier on the test set\n",
    "y_pred_rf = best_pac_classifier_randomized.predict(X_test_tfidf)\n",
    "accuracy_rf = accuracy_score(y_test, y_pred_rf)\n",
    "classification_rep_rf = classification_report(y_test, y_pred_rf)\n",
    "\n",
    "print(f\"Accuracy: {accuracy_rf}\")\n",
    "print(f\"Classification Report: \\n{classification_rep_rf}\")\n"
   ]
  },
  {
   "cell_type": "code",
   "execution_count": 57,
   "id": "ac3b9e82",
   "metadata": {
    "execution": {
     "iopub.execute_input": "2025-01-24T04:13:28.033419Z",
     "iopub.status.busy": "2025-01-24T04:13:28.033061Z",
     "iopub.status.idle": "2025-01-24T04:13:28.047795Z",
     "shell.execute_reply": "2025-01-24T04:13:28.046468Z"
    },
    "papermill": {
     "duration": 0.054029,
     "end_time": "2025-01-24T04:13:28.049627",
     "exception": false,
     "start_time": "2025-01-24T04:13:27.995598",
     "status": "completed"
    },
    "tags": []
   },
   "outputs": [
    {
     "name": "stdout",
     "output_type": "stream",
     "text": [
      "Accuracy: 0.9348837209302325\n",
      "Classification Report: \n",
      "              precision    recall  f1-score   support\n",
      "\n",
      "           0       0.93      0.91      0.92        86\n",
      "           1       0.94      0.95      0.95       129\n",
      "\n",
      "    accuracy                           0.93       215\n",
      "   macro avg       0.93      0.93      0.93       215\n",
      "weighted avg       0.93      0.93      0.93       215\n",
      "\n"
     ]
    }
   ],
   "source": [
    "# Step 1: Generate predictions\n",
    "y_pred_best_pac_randomized = best_pac_classifier_randomized.predict(X_test_tfidf)\n",
    "\n",
    "# Step 2: Calculate accuracy and classification report\n",
    "accuracy_best_pac_randomized = accuracy_score(y_test, y_pred_best_pac_randomized)\n",
    "classification_report_best_pac_randomized = classification_report(y_test, y_pred_best_pac_randomized)\n",
    "\n",
    "print(f\"Accuracy: {accuracy_best_pac_randomized}\")\n",
    "print(f\"Classification Report: \\n{classification_report_best_pac_randomized}\")\n"
   ]
  },
  {
   "cell_type": "code",
   "execution_count": 58,
   "id": "90877118",
   "metadata": {
    "execution": {
     "iopub.execute_input": "2025-01-24T04:13:28.124339Z",
     "iopub.status.busy": "2025-01-24T04:13:28.123939Z",
     "iopub.status.idle": "2025-01-24T04:13:28.137146Z",
     "shell.execute_reply": "2025-01-24T04:13:28.136130Z"
    },
    "papermill": {
     "duration": 0.052813,
     "end_time": "2025-01-24T04:13:28.139171",
     "exception": false,
     "start_time": "2025-01-24T04:13:28.086358",
     "status": "completed"
    },
    "tags": []
   },
   "outputs": [],
   "source": [
    "accuracy_best_pac_randomized = accuracy_score(y_test, y_pred_best_pac_randomized)\n",
    "classification_rep_best_pac_randomized = classification_report(y_test, y_pred_best_pac_randomized)\n",
    "conf_matrix_test = confusion_matrix(y_test, y_pred_best_pac_randomized)"
   ]
  },
  {
   "cell_type": "code",
   "execution_count": 59,
   "id": "f4d3fe64",
   "metadata": {
    "execution": {
     "iopub.execute_input": "2025-01-24T04:13:28.215186Z",
     "iopub.status.busy": "2025-01-24T04:13:28.214703Z",
     "iopub.status.idle": "2025-01-24T04:13:28.223161Z",
     "shell.execute_reply": "2025-01-24T04:13:28.221354Z"
    },
    "papermill": {
     "duration": 0.049439,
     "end_time": "2025-01-24T04:13:28.225165",
     "exception": false,
     "start_time": "2025-01-24T04:13:28.175726",
     "status": "completed"
    },
    "tags": []
   },
   "outputs": [
    {
     "name": "stdout",
     "output_type": "stream",
     "text": [
      "Best PassiveAggressiveClassifier Model (RandomizedSearchCV):\n",
      "Best Hyperparameters: {'verbose': 0, 'shuffle': False, 'fit_intercept': True, 'C': 1.0}\n",
      "Accuracy: 0.9348837209302325\n",
      "Classification Report:\n",
      "               precision    recall  f1-score   support\n",
      "\n",
      "           0       0.93      0.91      0.92        86\n",
      "           1       0.94      0.95      0.95       129\n",
      "\n",
      "    accuracy                           0.93       215\n",
      "   macro avg       0.93      0.93      0.93       215\n",
      "weighted avg       0.93      0.93      0.93       215\n",
      "\n"
     ]
    }
   ],
   "source": [
    "print(\"Best PassiveAggressiveClassifier Model (RandomizedSearchCV):\")\n",
    "print(f\"Best Hyperparameters: {best_params_randomized}\")\n",
    "print(f\"Accuracy: {accuracy_best_pac_randomized}\")\n",
    "print(\"Classification Report:\\n\", classification_rep_best_pac_randomized)\n"
   ]
  },
  {
   "cell_type": "code",
   "execution_count": 61,
   "id": "40e1027d",
   "metadata": {
    "execution": {
     "iopub.execute_input": "2025-01-24T04:13:28.300230Z",
     "iopub.status.busy": "2025-01-24T04:13:28.299774Z",
     "iopub.status.idle": "2025-01-24T04:13:28.539448Z",
     "shell.execute_reply": "2025-01-24T04:13:28.538315Z"
    },
    "papermill": {
     "duration": 0.278589,
     "end_time": "2025-01-24T04:13:28.541231",
     "exception": false,
     "start_time": "2025-01-24T04:13:28.262642",
     "status": "completed"
    },
    "tags": []
   },
   "outputs": [
    {
     "data": {
      "image/png": "[encoded data removed]",
      "text/plain": [
       "<Figure size 800x600 with 2 Axes>"
      ]
     },
     "metadata": {},
     "output_type": "display_data"
    }
   ],
   "source": [
    "from sklearn.metrics import confusion_matrix\n",
    "import seaborn as sns\n",
    "import matplotlib.pyplot as plt\n",
    "\n",
    "# Generate the confusion matrix\n",
    "conf_matrix_test = confusion_matrix(y_test, y_pred_best_pac_randomized)\n",
    "\n",
    "# Plot the confusion matrix\n",
    "plt.figure(figsize=(8, 6))\n",
    "sns.heatmap(conf_matrix_test, annot=True, fmt='d', cmap='Greys', xticklabels=['negative', 'neutral', 'positive'], yticklabels=['negative', 'neutral', 'positive'])\n",
    "plt.title('Confusion Matrix - Hyperparameters')\n",
    "plt.xlabel('Predicted Label')\n",
    "plt.ylabel('True Label')\n",
    "plt.show()\n"
   ]
  },
  {
   "cell_type": "code",
   "execution_count": null,
   "id": "5f8ec3cb",
   "metadata": {},
   "outputs": [],
   "source": []
  }
 ],
 "metadata": {
  "kaggle": {
   "accelerator": "none",
   "dataSources": [
    {
     "datasetId": 4245661,
     "sourceId": 7316566,
     "sourceType": "datasetVersion"
    }
   ],
   "dockerImageVersionId": 30839,
   "isGpuEnabled": false,
   "isInternetEnabled": true,
   "language": "python",
   "sourceType": "notebook"
  },
  "kernelspec": {
   "display_name": "venv",
   "language": "python",
   "name": "python3"
  },
  "language_info": {
   "codemirror_mode": {
    "name": "ipython",
    "version": 3
   },
   "file_extension": ".py",
   "mimetype": "text/x-python",
   "name": "python",
   "nbconvert_exporter": "python",
   "pygments_lexer": "ipython3",
   "version": "3.10.7"
  },
  "papermill": {
   "default_parameters": {},
   "duration": 43.437512,
   "end_time": "2025-01-24T04:13:29.601051",
   "environment_variables": {},
   "exception": null,
   "input_path": "__notebook__.ipynb",
   "output_path": "__notebook__.ipynb",
   "parameters": {},
   "start_time": "2025-01-24T04:12:46.163539",
   "version": "2.6.0"
  }
 },
 "nbformat": 4,
 "nbformat_minor": 5
}
